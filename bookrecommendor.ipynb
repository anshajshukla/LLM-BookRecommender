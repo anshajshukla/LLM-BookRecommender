{
  "cells": [
    {
      "cell_type": "code",
      "execution_count": null,
      "metadata": {
        "id": "qCfvsDBVvpyv"
      },
      "outputs": [],
      "source": [
        "import kagglehub\n",
        "\n",
        "# Download latest version\n",
        "path = kagglehub.dataset_download(\"dylanjcastillo/7k-books-with-metadata\")\n",
        "\n",
        "print(\"Path to dataset files:\", path)"
      ]
    },
    {
      "cell_type": "code",
      "execution_count": null,
      "metadata": {
        "id": "5A5AXtc8v16D"
      },
      "outputs": [],
      "source": [
        "import pandas as pd\n",
        "books = pd.read_csv(f\"{path}/books.csv\")"
      ]
    },
    {
      "cell_type": "code",
      "execution_count": null,
      "metadata": {
        "id": "sf7LX2wpwzjP"
      },
      "outputs": [],
      "source": [
        "books.head()"
      ]
    },
    {
      "cell_type": "code",
      "execution_count": null,
      "metadata": {
        "id": "n0bjHhJbw9XU"
      },
      "outputs": [],
      "source": [
        "books.describe()"
      ]
    },
    {
      "cell_type": "code",
      "execution_count": null,
      "metadata": {
        "id": "0SClrntKxfl_"
      },
      "outputs": [],
      "source": [
        "import seaborn as sns\n",
        "import matplotlib.pyplot as plt\n"
      ]
    },
    {
      "cell_type": "code",
      "execution_count": null,
      "metadata": {
        "id": "sJZpdtUZx-NW"
      },
      "outputs": [],
      "source": [
        "ax = plt.axes()\n",
        "sns.heatmap(books.isna(),cbar=False,ax=ax)\n",
        "\n",
        "plt.xlabel(\"Columns\")\n",
        "plt.ylabel(\"Missing Values\")\n",
        "plt.show()"
      ]
    },
    {
      "cell_type": "code",
      "execution_count": null,
      "metadata": {
        "id": "9xhcPc3oyTII"
      },
      "outputs": [],
      "source": [
        "import numpy as np\n",
        "\n",
        "books[\"missing_description\"] = np.where(books[\"description\"].isna(),1,0)\n",
        "books[\"age_of_book\"] = 2025-books[\"published_year\"]"
      ]
    },
    {
      "cell_type": "code",
      "execution_count": null,
      "metadata": {
        "id": "U-YUnDgDzso7"
      },
      "outputs": [],
      "source": [
        "columns_of_interest = [\"num_pages\",\"age_of_book\",\"missing_description\",\"average_rating\"]\n",
        "correlation_matrix = books[columns_of_interest].corr(method= \"spearman\")\n",
        "sns.set_theme(style=\"white\")\n",
        "plt.figure(figsize=(8,6))\n",
        "heatmap = sns.heatmap(correlation_matrix,annot=True,fmt=\".2f\",cmap=\"coolwarm\",cbar_kws={\"label\": \"Spearman Correlation\"})\n",
        "heatmap.set_title(\"Correlation heatmap\")\n",
        "plt.show()"
      ]
    },
    {
      "cell_type": "code",
      "execution_count": null,
      "metadata": {
        "id": "b7fpX8Uq3kkM"
      },
      "outputs": [],
      "source": [
        "books_missing = books[(~books[\"description\"].isna()) &\n",
        "      (~books[\"average_rating\"].isna()) &\n",
        "      (~books[\"num_pages\"].isna()) &\n",
        "      (~books[\"published_year\"].isna())\n",
        "]"
      ]
    },
    {
      "cell_type": "code",
      "execution_count": null,
      "metadata": {
        "id": "WEBHCv_F4FZ0"
      },
      "outputs": [],
      "source": [
        "books_missing"
      ]
    },
    {
      "cell_type": "code",
      "execution_count": null,
      "metadata": {
        "id": "qxl9WwaE4Fel"
      },
      "outputs": [],
      "source": [
        "books_missing[\"categories\"].value_counts().reset_index().sort_values(\"count\",ascending=False)"
      ]
    },
    {
      "cell_type": "code",
      "execution_count": null,
      "metadata": {
        "id": "HG_mAEjI4FhQ"
      },
      "outputs": [],
      "source": [
        "import numpy as np\n",
        "\n",
        "books_missing.loc[:, \"words_in_description\"] = books_missing[\"description\"].str.split().str.len()\n",
        "books_missing.loc[:, \"age_of_book\"] = 2025-books_missing[\"published_year\"]"
      ]
    },
    {
      "cell_type": "code",
      "execution_count": null,
      "metadata": {
        "id": "Kl4LcdCE4FqL"
      },
      "outputs": [],
      "source": [
        "books_missing_25_words = books_missing[books_missing[\"words_in_description\"] > 25]"
      ]
    },
    {
      "cell_type": "code",
      "execution_count": null,
      "metadata": {
        "id": "9Binm4qQ4FvT"
      },
      "outputs": [],
      "source": [
        "books_missing.describe()"
      ]
    },
    {
      "cell_type": "code",
      "execution_count": null,
      "metadata": {
        "id": "w9J2mXSv4Fx8"
      },
      "outputs": [],
      "source": [
        "books_missing_25_words.describe()"
      ]
    },
    {
      "cell_type": "code",
      "execution_count": null,
      "metadata": {
        "id": "es9tujcB4F0e"
      },
      "outputs": [],
      "source": [
        "books_missing_25_words.loc[:,\"title_and_subtite\"]=(\n",
        "    np.where(books_missing_25_words[\"subtitle\"].isna(),\n",
        "             books_missing_25_words[\"title\"],\n",
        "             books_missing_25_words[[\"title\",\"subtitle\"]].astype(str).agg(\": \".join,axis=1))\n",
        ")"
      ]
    },
    {
      "cell_type": "code",
      "execution_count": null,
      "metadata": {
        "id": "UrQvofa84F3D"
      },
      "outputs": [],
      "source": [
        "books_missing_25_words"
      ]
    },
    {
      "cell_type": "code",
      "execution_count": null,
      "metadata": {
        "id": "yiqkgDAc4F5h"
      },
      "outputs": [],
      "source": [
        "books_missing_25_words.loc[:,\"tagged_description\"] = books_missing_25_words[[\"isbn13\",\"description\"]].astype(str).agg(\" \".join,axis=1)"
      ]
    },
    {
      "cell_type": "code",
      "execution_count": null,
      "metadata": {
        "id": "I5YpVd9M4F9D"
      },
      "outputs": [],
      "source": [
        "books_missing_25_words"
      ]
    },
    {
      "cell_type": "code",
      "execution_count": null,
      "metadata": {
        "id": "RJpgf5vk9o6c"
      },
      "outputs": [],
      "source": [
        "(\n",
        "    books_missing_25_words\n",
        "    .drop([\"subtitle\",\"missing_description\",\"age_of_book\",\"words_in_description\"],axis=1)\n",
        "    .to_csv(\"books_cleaned.csv\",index=False)\n",
        ")"
      ]
    },
    {
      "cell_type": "code",
      "execution_count": null,
      "metadata": {
        "id": "sEZidr9--BSY"
      },
      "outputs": [],
      "source": [
        "books=books_missing_25_words"
      ]
    },
    {
      "cell_type": "code",
      "execution_count": null,
      "metadata": {
        "id": "mGZv8flelClx"
      },
      "outputs": [],
      "source": [
        "books[\"categories\"].value_counts().reset_index().sort_values(\"count\",ascending=False)"
      ]
    },
    {
      "cell_type": "code",
      "execution_count": null,
      "metadata": {
        "id": "weoA3heopQ72"
      },
      "outputs": [],
      "source": [
        "books[\"categories\"].value_counts().reset_index().query(\"count > 50\")"
      ]
    },
    {
      "cell_type": "code",
      "execution_count": null,
      "metadata": {
        "id": "IiSqWBd9qmf-"
      },
      "outputs": [],
      "source": [
        "category_mapping = {'Fiction' : \"Fiction\",\n",
        "                    'Juvenile Fiction': \"Children's Fiction\",\n",
        "                    'Biography & Autobiography': \"Nonfiction\" ,\n",
        "                    'History' : \"Nonfiction\",\n",
        "                    'Literary Criticism': \"Nonfiction\",\n",
        "                    'Philosophy': \"Nonfiction\",\n",
        "                    'Religion': \"Nonfiction\",\n",
        "                    'Comics & Graphic Novels': \"Fiction\",\n",
        "                    'Drama': \"Fiction\",\n",
        "                    'Science': \"Nonfiction\",\n",
        "                    'Juveline NonFiction' :\"Children's Nonfiction\",\n",
        "                    'Poetry':\"Fiction\"}\n",
        "\n",
        "books[\"simple_categories\"] = books[\"categories\"].map(category_mapping)\n"
      ]
    },
    {
      "cell_type": "code",
      "execution_count": null,
      "metadata": {
        "id": "IhBQElvUri4X"
      },
      "outputs": [],
      "source": [
        "books['simple_categories']"
      ]
    },
    {
      "cell_type": "code",
      "execution_count": 26,
      "metadata": {
        "colab": {
          "base_uri": "https://localhost:8080/"
        },
        "id": "96aAMR66_-j0",
        "outputId": "d3334436-d4bf-4eb4-b92c-069b08f7b4ad"
      },
      "outputs": [
        {
          "output_type": "stream",
          "name": "stdout",
          "text": [
            "\u001b[33mWARNING: Ignoring invalid distribution ~ransformers (/usr/local/lib/python3.11/dist-packages)\u001b[0m\u001b[33m\n",
            "\u001b[0m\u001b[33mWARNING: Ignoring invalid distribution ~ransformers (/usr/local/lib/python3.11/dist-packages)\u001b[0m\u001b[33m\n",
            "\u001b[0mRequirement already satisfied: gliclass in /usr/local/lib/python3.11/dist-packages (0.1.11)\n",
            "Requirement already satisfied: numpy<2.0.0,>=1.26.4 in /usr/local/lib/python3.11/dist-packages (from gliclass) (1.26.4)\n",
            "Requirement already satisfied: scikit-learn<2.0.0,>=1.0.0 in /usr/local/lib/python3.11/dist-packages (from gliclass) (1.6.1)\n",
            "Requirement already satisfied: torch<3.0.0,>=2.0.0 in /usr/local/lib/python3.11/dist-packages (from gliclass) (2.6.0+cu124)\n",
            "Collecting transformers<=4.48.2,>=4.37.2 (from gliclass)\n",
            "  Using cached transformers-4.48.2-py3-none-any.whl.metadata (44 kB)\n",
            "Requirement already satisfied: scipy>=1.6.0 in /usr/local/lib/python3.11/dist-packages (from scikit-learn<2.0.0,>=1.0.0->gliclass) (1.15.3)\n",
            "Requirement already satisfied: joblib>=1.2.0 in /usr/local/lib/python3.11/dist-packages (from scikit-learn<2.0.0,>=1.0.0->gliclass) (1.5.1)\n",
            "Requirement already satisfied: threadpoolctl>=3.1.0 in /usr/local/lib/python3.11/dist-packages (from scikit-learn<2.0.0,>=1.0.0->gliclass) (3.6.0)\n",
            "Requirement already satisfied: filelock in /usr/local/lib/python3.11/dist-packages (from torch<3.0.0,>=2.0.0->gliclass) (3.18.0)\n",
            "Requirement already satisfied: typing-extensions>=4.10.0 in /usr/local/lib/python3.11/dist-packages (from torch<3.0.0,>=2.0.0->gliclass) (4.14.0)\n",
            "Requirement already satisfied: networkx in /usr/local/lib/python3.11/dist-packages (from torch<3.0.0,>=2.0.0->gliclass) (3.5)\n",
            "Requirement already satisfied: jinja2 in /usr/local/lib/python3.11/dist-packages (from torch<3.0.0,>=2.0.0->gliclass) (3.1.6)\n",
            "Requirement already satisfied: fsspec in /usr/local/lib/python3.11/dist-packages (from torch<3.0.0,>=2.0.0->gliclass) (2025.3.2)\n",
            "Requirement already satisfied: nvidia-cuda-nvrtc-cu12==12.4.127 in /usr/local/lib/python3.11/dist-packages (from torch<3.0.0,>=2.0.0->gliclass) (12.4.127)\n",
            "Requirement already satisfied: nvidia-cuda-runtime-cu12==12.4.127 in /usr/local/lib/python3.11/dist-packages (from torch<3.0.0,>=2.0.0->gliclass) (12.4.127)\n",
            "Requirement already satisfied: nvidia-cuda-cupti-cu12==12.4.127 in /usr/local/lib/python3.11/dist-packages (from torch<3.0.0,>=2.0.0->gliclass) (12.4.127)\n",
            "Requirement already satisfied: nvidia-cudnn-cu12==9.1.0.70 in /usr/local/lib/python3.11/dist-packages (from torch<3.0.0,>=2.0.0->gliclass) (9.1.0.70)\n",
            "Requirement already satisfied: nvidia-cublas-cu12==12.4.5.8 in /usr/local/lib/python3.11/dist-packages (from torch<3.0.0,>=2.0.0->gliclass) (12.4.5.8)\n",
            "Requirement already satisfied: nvidia-cufft-cu12==11.2.1.3 in /usr/local/lib/python3.11/dist-packages (from torch<3.0.0,>=2.0.0->gliclass) (11.2.1.3)\n",
            "Requirement already satisfied: nvidia-curand-cu12==10.3.5.147 in /usr/local/lib/python3.11/dist-packages (from torch<3.0.0,>=2.0.0->gliclass) (10.3.5.147)\n",
            "Requirement already satisfied: nvidia-cusolver-cu12==11.6.1.9 in /usr/local/lib/python3.11/dist-packages (from torch<3.0.0,>=2.0.0->gliclass) (11.6.1.9)\n",
            "Requirement already satisfied: nvidia-cusparse-cu12==12.3.1.170 in /usr/local/lib/python3.11/dist-packages (from torch<3.0.0,>=2.0.0->gliclass) (12.3.1.170)\n",
            "Requirement already satisfied: nvidia-cusparselt-cu12==0.6.2 in /usr/local/lib/python3.11/dist-packages (from torch<3.0.0,>=2.0.0->gliclass) (0.6.2)\n",
            "Requirement already satisfied: nvidia-nccl-cu12==2.21.5 in /usr/local/lib/python3.11/dist-packages (from torch<3.0.0,>=2.0.0->gliclass) (2.21.5)\n",
            "Requirement already satisfied: nvidia-nvtx-cu12==12.4.127 in /usr/local/lib/python3.11/dist-packages (from torch<3.0.0,>=2.0.0->gliclass) (12.4.127)\n",
            "Requirement already satisfied: nvidia-nvjitlink-cu12==12.4.127 in /usr/local/lib/python3.11/dist-packages (from torch<3.0.0,>=2.0.0->gliclass) (12.4.127)\n",
            "Requirement already satisfied: triton==3.2.0 in /usr/local/lib/python3.11/dist-packages (from torch<3.0.0,>=2.0.0->gliclass) (3.2.0)\n",
            "Requirement already satisfied: sympy==1.13.1 in /usr/local/lib/python3.11/dist-packages (from torch<3.0.0,>=2.0.0->gliclass) (1.13.1)\n",
            "Requirement already satisfied: mpmath<1.4,>=1.1.0 in /usr/local/lib/python3.11/dist-packages (from sympy==1.13.1->torch<3.0.0,>=2.0.0->gliclass) (1.3.0)\n",
            "Requirement already satisfied: huggingface-hub<1.0,>=0.24.0 in /usr/local/lib/python3.11/dist-packages (from transformers<=4.48.2,>=4.37.2->gliclass) (0.33.0)\n",
            "Requirement already satisfied: packaging>=20.0 in /usr/local/lib/python3.11/dist-packages (from transformers<=4.48.2,>=4.37.2->gliclass) (24.2)\n",
            "Requirement already satisfied: pyyaml>=5.1 in /usr/local/lib/python3.11/dist-packages (from transformers<=4.48.2,>=4.37.2->gliclass) (6.0.2)\n",
            "Requirement already satisfied: regex!=2019.12.17 in /usr/local/lib/python3.11/dist-packages (from transformers<=4.48.2,>=4.37.2->gliclass) (2024.11.6)\n",
            "Requirement already satisfied: requests in /usr/local/lib/python3.11/dist-packages (from transformers<=4.48.2,>=4.37.2->gliclass) (2.32.3)\n",
            "Requirement already satisfied: tokenizers<0.22,>=0.21 in /usr/local/lib/python3.11/dist-packages (from transformers<=4.48.2,>=4.37.2->gliclass) (0.21.1)\n",
            "Requirement already satisfied: safetensors>=0.4.1 in /usr/local/lib/python3.11/dist-packages (from transformers<=4.48.2,>=4.37.2->gliclass) (0.5.3)\n",
            "Requirement already satisfied: tqdm>=4.27 in /usr/local/lib/python3.11/dist-packages (from transformers<=4.48.2,>=4.37.2->gliclass) (4.67.1)\n",
            "Requirement already satisfied: hf-xet<2.0.0,>=1.1.2 in /usr/local/lib/python3.11/dist-packages (from huggingface-hub<1.0,>=0.24.0->transformers<=4.48.2,>=4.37.2->gliclass) (1.1.3)\n",
            "Requirement already satisfied: MarkupSafe>=2.0 in /usr/local/lib/python3.11/dist-packages (from jinja2->torch<3.0.0,>=2.0.0->gliclass) (3.0.2)\n",
            "Requirement already satisfied: charset-normalizer<4,>=2 in /usr/local/lib/python3.11/dist-packages (from requests->transformers<=4.48.2,>=4.37.2->gliclass) (3.4.2)\n",
            "Requirement already satisfied: idna<4,>=2.5 in /usr/local/lib/python3.11/dist-packages (from requests->transformers<=4.48.2,>=4.37.2->gliclass) (3.10)\n",
            "Requirement already satisfied: urllib3<3,>=1.21.1 in /usr/local/lib/python3.11/dist-packages (from requests->transformers<=4.48.2,>=4.37.2->gliclass) (2.4.0)\n",
            "Requirement already satisfied: certifi>=2017.4.17 in /usr/local/lib/python3.11/dist-packages (from requests->transformers<=4.48.2,>=4.37.2->gliclass) (2025.6.15)\n",
            "Using cached transformers-4.48.2-py3-none-any.whl (9.7 MB)\n",
            "\u001b[33mWARNING: Ignoring invalid distribution ~ransformers (/usr/local/lib/python3.11/dist-packages)\u001b[0m\u001b[33m\n",
            "\u001b[0mInstalling collected packages: transformers\n",
            "\u001b[33mWARNING: Ignoring invalid distribution ~ransformers (/usr/local/lib/python3.11/dist-packages)\u001b[0m\u001b[33m\n",
            "\u001b[0mSuccessfully installed transformers\n",
            "\u001b[33mWARNING: Ignoring invalid distribution ~ransformers (/usr/local/lib/python3.11/dist-packages)\u001b[0m\u001b[33m\n",
            "\u001b[0m\u001b[33mWARNING: Ignoring invalid distribution ~ransformers (/usr/local/lib/python3.11/dist-packages)\u001b[0m\u001b[33m\n",
            "\u001b[0m\u001b[33mWARNING: Ignoring invalid distribution ~ransformers (/usr/local/lib/python3.11/dist-packages)\u001b[0m\u001b[33m\n",
            "\u001b[0m\u001b[33mWARNING: Ignoring invalid distribution ~ransformers (/usr/local/lib/python3.11/dist-packages)\u001b[0m\u001b[33m\n",
            "\u001b[0m\u001b[31mERROR: pip's dependency resolver does not currently take into account all the packages that are installed. This behaviour is the source of the following dependency conflicts.\n",
            "gliclass 0.1.11 requires transformers<=4.48.2,>=4.37.2, but you have transformers 4.52.4 which is incompatible.\u001b[0m\u001b[31m\n",
            "\u001b[0m"
          ]
        }
      ],
      "source": [
        "!pip install gliclass\n",
        "!pip install -U transformers>=4.48.0\n"
      ]
    },
    {
      "cell_type": "markdown",
      "metadata": {
        "id": "upohNx8Er-XS"
      },
      "source": [
        "#### Now NaN will be converted to categories using zero shot classification"
      ]
    },
    {
      "cell_type": "code",
      "execution_count": 27,
      "metadata": {
        "colab": {
          "base_uri": "https://localhost:8080/",
          "height": 301,
          "referenced_widgets": [
            "3e49dab6f8be4f19bf39e721a2594eb6",
            "eebcf663b2144b78bbc762319bb5a51a",
            "65655d951edd4d238549e9c40c1740bd",
            "65f6c1bcae5b499785c5323bed52acdd",
            "e2a817f2a4f54f4d936e220a7feed7cb",
            "ab800444148d487a83f9d9c8af0e702e",
            "3267be5460d946f19c24ee45f3510ecc",
            "53c4c1d86098466bb41088e443523ba7",
            "0f0c39d63bd34ef89230ec9ebc0754a1",
            "ceb27de7efae4e5b9855cf010a2c3adf",
            "5e8f2ed9019e459fa6497909b3082574",
            "d311c6c9a9734ca79a90f18035aacada",
            "73cb1649030646a3b90a53c0b7efdaf9",
            "0f10e6f0816a4e7eb2c8a948f25af40f",
            "dc8f1077318243bf867b01f648f55658",
            "f1132c4e4d2b47fea1461913184e62a9",
            "3d16db59273543da9e3e67a29f37ed3d",
            "8b0a9e8e83ed4894bc0907d4687d9375",
            "86b6ed85336c43c1a50f1b862ea89016",
            "1099875c7d714fd4bb8d8f03f4b86925",
            "e3374360e6634ffbbae5babd4936fdef",
            "09c3ff85a4c542379d3bf49230bd60f1",
            "c37d611f6be54d7eb95c98bf261fd25a",
            "3bc662130d8c4bca8bcdd84ee54ecd7a",
            "1f1a19ceda3e4c6281f217214ee24294",
            "a8cc9ac86aba498eb9603796fd189abd",
            "154d85fab7b14d5cb8da21da6b3fa58b",
            "56fcfb19633242fd889f60c6e14e5c72",
            "22ea4273f22f45c1b95d8827012e8c0b",
            "55c16636c0764a96b2e017f29a078921",
            "6c37e8fe7f0f48cc8215f95047bc7cd9",
            "d207e42a4f884b75a316a2a22b730bca",
            "58f9d4a441414a8da8c94b2f46d1faca",
            "b9741852867243f88a9c7d69d98e33e5",
            "77641e3a74f94eadbea577432e335d4c",
            "90d29571dd0f4e098363b1a490380029",
            "070bb0d461b04583a483bf2f65fa5332",
            "1604c5288ab248148f9320d13db5b8b0",
            "6b186f72f61c4355b31f5646a03c1835",
            "5c6a3fecb2c34b2aaec932c9261cd920",
            "22ec4616bca34921a87d398375f44766",
            "cb91cef2fbae4fbabd6a80b6fc9fa688",
            "68d5077d864b4553bf6cc746ab970fe9",
            "92a30cc306cc49f790b69cea8f6932e9",
            "03ae1a3ffaa747478a0371f4a040f236",
            "84f29b2b22a64374a1993851a92dd10a",
            "bda06a45ee6d41e4ac76152f5f5a2d32",
            "628f3bc683884463a8888449ad7d237f",
            "d7a4df6d91d84c4393b02da95efc6620",
            "cc0d611553ea45dfb4fa6e62169dd5d4",
            "d47149be3eec42b0876ae5e89c900e2c",
            "9332a97021ee4d9b9cf0465a0e4e3a62",
            "af86ffa28cac4488a9ed78d107fe94f4",
            "903d341ff37e491c8397501a4cf6f4b7",
            "352328d7b23143ae935b6c7d203f7d5f"
          ]
        },
        "id": "Yd-9_pox5Ajp",
        "outputId": "fbf75161-6567-4f91-c80d-ed99101bdb6f"
      },
      "outputs": [
        {
          "output_type": "stream",
          "name": "stderr",
          "text": [
            "/usr/local/lib/python3.11/dist-packages/huggingface_hub/utils/_auth.py:94: UserWarning: \n",
            "The secret `HF_TOKEN` does not exist in your Colab secrets.\n",
            "To authenticate with the Hugging Face Hub, create a token in your settings tab (https://huggingface.co/settings/tokens), set it as secret in your Google Colab and restart your session.\n",
            "You will be able to reuse this secret in all of your notebooks.\n",
            "Please note that authentication is recommended but still optional to access public models or datasets.\n",
            "  warnings.warn(\n"
          ]
        },
        {
          "output_type": "display_data",
          "data": {
            "text/plain": [
              "config.json:   0%|          | 0.00/3.71k [00:00<?, ?B/s]"
            ],
            "application/vnd.jupyter.widget-view+json": {
              "version_major": 2,
              "version_minor": 0,
              "model_id": "3e49dab6f8be4f19bf39e721a2594eb6"
            }
          },
          "metadata": {}
        },
        {
          "output_type": "display_data",
          "data": {
            "text/plain": [
              "model.safetensors:   0%|          | 0.00/606M [00:00<?, ?B/s]"
            ],
            "application/vnd.jupyter.widget-view+json": {
              "version_major": 2,
              "version_minor": 0,
              "model_id": "d311c6c9a9734ca79a90f18035aacada"
            }
          },
          "metadata": {}
        },
        {
          "output_type": "display_data",
          "data": {
            "text/plain": [
              "tokenizer_config.json:   0%|          | 0.00/21.2k [00:00<?, ?B/s]"
            ],
            "application/vnd.jupyter.widget-view+json": {
              "version_major": 2,
              "version_minor": 0,
              "model_id": "c37d611f6be54d7eb95c98bf261fd25a"
            }
          },
          "metadata": {}
        },
        {
          "output_type": "display_data",
          "data": {
            "text/plain": [
              "tokenizer.json:   0%|          | 0.00/3.58M [00:00<?, ?B/s]"
            ],
            "application/vnd.jupyter.widget-view+json": {
              "version_major": 2,
              "version_minor": 0,
              "model_id": "b9741852867243f88a9c7d69d98e33e5"
            }
          },
          "metadata": {}
        },
        {
          "output_type": "display_data",
          "data": {
            "text/plain": [
              "special_tokens_map.json:   0%|          | 0.00/694 [00:00<?, ?B/s]"
            ],
            "application/vnd.jupyter.widget-view+json": {
              "version_major": 2,
              "version_minor": 0,
              "model_id": "03ae1a3ffaa747478a0371f4a040f236"
            }
          },
          "metadata": {}
        }
      ],
      "source": [
        "from gliclass import GLiClassModel, ZeroShotClassificationPipeline\n",
        "from transformers import AutoTokenizer\n",
        "\n",
        "model = GLiClassModel.from_pretrained(\"knowledgator/gliclass-modern-base-v2.0-init\")\n",
        "tokenizer = AutoTokenizer.from_pretrained(\"knowledgator/gliclass-modern-base-v2.0-init\", add_prefix_space=True)\n",
        "classifier = ZeroShotClassificationPipeline(model, tokenizer, classification_type='multi-label', device='cuda:0')\n",
        "\n",
        "# from transformers import pipeline\n",
        "\n",
        "fiction_classifier =[\"Fiction\",\"NonFiction\"]\n",
        "\n",
        "# classifier = pipeline(\"zero-shot-classification\",\n",
        "#                       model=\"facebook/bart-large-mnli\",\n",
        "#                       device=\"cuda\")\n"
      ]
    },
    {
      "cell_type": "code",
      "execution_count": 28,
      "metadata": {
        "id": "ohk6tWc6r0Sy"
      },
      "outputs": [],
      "source": [
        "sequence = books.loc[books[\"simple_categories\"]==\"Fiction\",\"description\"].reset_index(drop=True)[0]"
      ]
    },
    {
      "cell_type": "code",
      "execution_count": 29,
      "metadata": {
        "colab": {
          "base_uri": "https://localhost:8080/"
        },
        "id": "GTi3i1DN48u2",
        "outputId": "5ebb105a-cf82-4678-8c64-296aaf30cc62"
      },
      "outputs": [
        {
          "output_type": "stream",
          "name": "stderr",
          "text": [
            "100%|██████████| 1/1 [00:02<00:00,  2.74s/it]\n"
          ]
        },
        {
          "output_type": "execute_result",
          "data": {
            "text/plain": [
              "[[{'label': 'Fiction', 'score': 0.8300336599349976}]]"
            ]
          },
          "metadata": {},
          "execution_count": 29
        }
      ],
      "source": [
        "classifier(sequence,fiction_classifier)"
      ]
    },
    {
      "cell_type": "code",
      "execution_count": 30,
      "metadata": {
        "colab": {
          "base_uri": "https://localhost:8080/",
          "height": 53
        },
        "id": "2hKvGhxk7Gej",
        "outputId": "bba2f0e2-0995-4e9b-add0-849ee06e1887"
      },
      "outputs": [
        {
          "output_type": "stream",
          "name": "stderr",
          "text": [
            "100%|██████████| 1/1 [00:03<00:00,  3.01s/it]\n"
          ]
        },
        {
          "output_type": "execute_result",
          "data": {
            "text/plain": [
              "'Fiction'"
            ],
            "application/vnd.google.colaboratory.intrinsic+json": {
              "type": "string"
            }
          },
          "metadata": {},
          "execution_count": 30
        }
      ],
      "source": [
        "import numpy as np\n",
        "predictions = classifier(sequence,fiction_classifier)[0]\n",
        "max_index = np.argmax([p['score'] for p in predictions])\n",
        "max_label = predictions[max_index][\"label\"]\n",
        "max_label"
      ]
    },
    {
      "cell_type": "code",
      "execution_count": 31,
      "metadata": {
        "id": "jyJVOohR7fPg"
      },
      "outputs": [],
      "source": [
        "import numpy as np\n",
        "\n",
        "def generate_predictions(sequence,categories):\n",
        "  predictions = classifier(sequence,categories)[0]\n",
        "  if not predictions:  # Check if the list of predictions is empty\n",
        "      return \"Unknown\"\n",
        "  max_index = np.argmax([p['score'] for p in predictions])\n",
        "  max_label = predictions[max_index][\"label\"]\n",
        "  return max_label"
      ]
    },
    {
      "cell_type": "code",
      "execution_count": null,
      "metadata": {
        "colab": {
          "base_uri": "https://localhost:8080/"
        },
        "id": "7a3RVGw48BO1",
        "outputId": "fd82996a-ffb5-409b-bc97-3ecd82fdd0a2"
      },
      "outputs": [
        {
          "output_type": "stream",
          "name": "stderr",
          "text": [
            "\r  0%|          | 0/300 [00:00<?, ?it/s]"
          ]
        },
        {
          "output_type": "stream",
          "name": "stdout",
          "text": [
            "Processing sequence 0: A NOVEL THAT READERS and critics have been eagerly anticipating for over a decade, Gilead is an astonishingly imagined story of remarkable lives. John Ames is a preacher, the son of a preacher and the grandson (both maternal and paternal) of preachers. It’s 1956 in Gilead, Iowa, towards the end of the Reverend Ames’s life, and he is absorbed in recording his family’s story, a legacy for the young son he will never see grow up. Haunted by his grandfather’s presence, John tells of the rift between his grandfather and his father: the elder, an angry visionary who fought for the abolitionist cause, and his son, an ardent pacifist. He is troubled, too, by his prodigal namesake, Jack (John Ames) Boughton, his best friend’s lost son who returns to Gilead searching for forgiveness and redemption. Told in John Ames’s joyous, rambling voice that finds beauty, humour and truth in the smallest of life’s details, Gilead is a song of celebration and acceptance of the best and the worst the world has to offer. At its heart is a tale of the sacred bonds between fathers and sons, pitch-perfect in style and story, set to dazzle critics and readers alike.\n"
          ]
        },
        {
          "output_type": "stream",
          "name": "stderr",
          "text": [
            "\n",
            "  0%|          | 0/1 [00:00<?, ?it/s]\u001b[A\n",
            "100%|██████████| 1/1 [00:03<00:00,  3.85s/it]\n",
            "  0%|          | 1/300 [00:03<19:15,  3.86s/it]"
          ]
        },
        {
          "output_type": "stream",
          "name": "stdout",
          "text": [
            "Processing sequence 1: A memorable, mesmerizing heroine Jennifer -- brilliant, beautiful, an attorney on the way up until the Mafia's schemes win her the hatred of an implacable enemy -- and a love more destructive than hate. A dangerous, dramatic world The Dark Arena of organized crime and flashbulb lit courtrooms where ambitious prosecutors begin their climb to political power.\n"
          ]
        },
        {
          "output_type": "stream",
          "name": "stderr",
          "text": [
            "\n",
            "  0%|          | 0/1 [00:00<?, ?it/s]\u001b[A\n",
            "100%|██████████| 1/1 [00:00<00:00,  1.05it/s]\n",
            "  1%|          | 2/300 [00:04<10:45,  2.17s/it]"
          ]
        },
        {
          "output_type": "stream",
          "name": "stdout",
          "text": [
            "Processing sequence 2: Tricked once more by his wily half-brother, Lysaer, Lord of Light, arrives at the tiny harbor town of Merior to find that Arithon's ship yards have been abandoned and meticulously destroyed, and that the Master of Shadow has disappeared as if into thin air. Meanwhile Arithon and the Mad Prophet Dakar are traveling on foot through the treacherous Kelhorn Mountains towards the Vastmark clans, there to raise further support for his cause. But raising a warhost is a costly business. Is it mere coincidence that Princess Talith—Lysaer's beautiful, headstrong wife—is taken captive and held for a vast ransom by a master brigand? The forces of light and shadow circle and feint, drawing ever closer to a huge conflict. And in the background the Fellowship of Seven Sorcerers and the Koriani Enchantresses watch and plan, and wait.\n"
          ]
        },
        {
          "output_type": "stream",
          "name": "stderr",
          "text": [
            "\n",
            "  0%|          | 0/1 [00:00<?, ?it/s]\u001b[A\n",
            "100%|██████████| 1/1 [00:01<00:00,  1.42s/it]\n",
            "  1%|          | 3/300 [00:06<09:04,  1.83s/it]"
          ]
        },
        {
          "output_type": "stream",
          "name": "stdout",
          "text": [
            "Processing sequence 3: A Few Weeks After Marrying An Attractive Young Widow, Gordon Cloade Is Tragically Killed By A Bomb Blast In The London Blitz. Overnight, The Former Mrs Underhay Finds Herself In Sole Possession Of The Cloade Family Fortune. Shortly Afterwards, Hercule Poirot Receives A Visit From The Dead Man S Sister-In-Law Who Claims She Has Been Warned By Spirits That Mrs Underhay S First Husband Is Still Alive. Poirot Has His Suspicions When He Is Asked To Find A Missing Person Guided Only By The Spirit World. Yet What Mystifies Poirot Most Is The Woman S True Motive For Approaching Him&\n"
          ]
        },
        {
          "output_type": "stream",
          "name": "stderr",
          "text": [
            "\n",
            "  0%|          | 0/1 [00:00<?, ?it/s]\u001b[A\n",
            "100%|██████████| 1/1 [00:01<00:00,  1.29s/it]\n",
            "  1%|▏         | 4/300 [00:07<08:00,  1.62s/it]"
          ]
        },
        {
          "output_type": "stream",
          "name": "stdout",
          "text": [
            "Processing sequence 4: For sixty years, Jewish refugees and their descendants have prospered in the Federal District of Sitka, a \"temporary\" safe haven created in the wake of revelations of the Holocaust and the shocking 1948 collapse of the fledgling state of Israel. Proud, grateful, and longing to be American, the Jews of the Sitka District have created their own little world in the Alaskan panhandle, a vibrant, gritty, soulful, and complex frontier city that moves to the music of Yiddish. For sixty years they have been left alone, neglected and half-forgotten in a backwater of history. Now the District is set to revert to Alaskan control, and their dream is coming to an end: once again the tides of history threaten to sweep them up and carry them off into the unknown. But homicide detective Meyer Landsman of the District Police has enough problems without worrying about the upcoming Reversion. His life is a shambles, his marriage a wreck, his career a disaster. He and his half-Tlingit partner, Berko Shemets, can't catch a break in any of their outstanding cases. Landsman's new supervisor is the love of his life—and also his worst nightmare. And in the cheap hotel where he has washed up, someone has just committed a murder—right under Landsman's nose. Out of habit, obligation, and a mysterious sense that it somehow offers him a shot at redeeming himself, Landsman begins to investigate the killing of his neighbor, a former chess prodigy. But when word comes down from on high that the case is to be dropped immediately, Landsman soon finds himself contending with all the powerful forces of faith, obsession, hopefulness, evil, and salvation that are his heritage—and with the unfinished business of his marriage to Bina Gelbfish, the one person who understands his darkest fears. At once a gripping whodunit, a love story, an homage to 1940s noir, and an exploration of the mysteries of exile and redemption, The Yiddish Policemen's Union is a novel only Michael Chabon could have written.\n"
          ]
        },
        {
          "output_type": "stream",
          "name": "stderr",
          "text": [
            "\n",
            "  0%|          | 0/1 [00:00<?, ?it/s]\u001b[A\n",
            "100%|██████████| 1/1 [00:03<00:00,  3.40s/it]\n",
            "  2%|▏         | 5/300 [00:10<11:09,  2.27s/it]"
          ]
        },
        {
          "output_type": "stream",
          "name": "stdout",
          "text": [
            "Processing sequence 5: Designed to take fans of The Hobbit and The Lord of the Rings deeper into the myths and legends of Middle-earth The Silmarillion is an account of the Elder Days, of the First Age of Tolkien s world. It is the ancient drama to which the characters in The Lord of the Rings look back, and in whose events some of them such as Elrond and Galadriel took part. The tales of The Silmarillion are set in an age when Morgoth, the first Dark Lord, dwelt in Middle-Earth, and the High Elves made war upon him for the recovery of the Silmarils, the jewels containing the pure light of Valinor. Included in the book are several shorter works. The Ainulindale is a myth of the Creation and in the Valaquenta the nature and powers of each of the gods is described. The Akallabeth recounts the downfall of the great island kingdom of Numenor at the end of the Second Age and Of the Rings of Power tells of the great events at the end of the Third Age, as narrated in The Lord of the Rings. This pivotal work features the revised, corrected text and includes, by way of an introduction, a fascinating letter written by Tolkien in 1951 in which he gives a full explanation of how he conceived the early Ages of Middle-earth.\"\n"
          ]
        },
        {
          "output_type": "stream",
          "name": "stderr",
          "text": [
            "\n",
            "  0%|          | 0/1 [00:00<?, ?it/s]\u001b[A\n",
            "100%|██████████| 1/1 [00:02<00:00,  2.39s/it]\n",
            "  2%|▏         | 6/300 [00:13<11:20,  2.32s/it]"
          ]
        },
        {
          "output_type": "stream",
          "name": "stdout",
          "text": [
            "Processing sequence 6: Miller's groundbreaking first novel, banned in Britain for almost thirty years, now reinvigorated in a new Harper Perennial Modern Classics edition. A penniless and as yet unpublished writer, Henry Miller arrived in Paris in 1930. Leaving behind a disintegrating marriage and an unhappy career in America, he threw himself into the low-life of bohemian Paris with unwavering gusto. A fictional account of Miller's adventures amongst the prostitutes and pimps, the penniless painters and writers of Montparnasse, Tropic of Cancer is an extravagant and rhapsodic hymn to a world of unrivalled eroticism and freedom. Tropic of Cancer's 1934 publication in France was hailed by Samuel Beckett as 'a momentous event in the history of modern writing'. The novel was subsequently banned in the UK and the USA and not released for publication for a further thirty years.\n"
          ]
        },
        {
          "output_type": "stream",
          "name": "stderr",
          "text": [
            "\n",
            "  0%|          | 0/1 [00:00<?, ?it/s]\u001b[A\n",
            "100%|██████████| 1/1 [00:02<00:00,  2.19s/it]\n",
            "  2%|▏         | 7/300 [00:15<11:06,  2.28s/it]"
          ]
        },
        {
          "output_type": "stream",
          "name": "stdout",
          "text": [
            "Processing sequence 7: A retelling of The Mabinogion in novel form. Manawydon finally unites with Rhiannon - an aspect of the Goddess - but his happiness is shaken by the appearance of the Gray Man, who seeks vengeance against the living and especially against one who would claim the Goddess.\n"
          ]
        },
        {
          "output_type": "stream",
          "name": "stderr",
          "text": [
            "\n",
            "  0%|          | 0/1 [00:00<?, ?it/s]\u001b[A\n",
            "100%|██████████| 1/1 [00:01<00:00,  1.37s/it]\n",
            "  3%|▎         | 8/300 [00:16<09:42,  2.00s/it]"
          ]
        },
        {
          "output_type": "stream",
          "name": "stdout",
          "text": [
            "Processing sequence 8: Before she wrote her Pulitzer Prize-winning bestseller The Shipping News, E. Annie Proulx was already producing some of the finest short fiction in the country. Here are her collected stories, including two new works never before anthologized. These stories reverberate with rural tradition, the rites of nature, and the rituals of small-town life. The country is blue-collar New England; the characters are native families and the dispossessed working class, whose heritage is challenged by the neorural bourgeoisie from the city; and the themes are as elemental as the landscape: revenge, malice, greed, passion. Told with skill and profundity and crafted by a master storyteller, these are lean, tough tales of an extraordinary place and its people.\n"
          ]
        },
        {
          "output_type": "stream",
          "name": "stderr",
          "text": [
            "\n",
            "  0%|          | 0/1 [00:00<?, ?it/s]\u001b[A\n",
            "100%|██████████| 1/1 [00:01<00:00,  1.88s/it]\n",
            "  3%|▎         | 9/300 [00:18<09:31,  1.96s/it]"
          ]
        },
        {
          "output_type": "stream",
          "name": "stdout",
          "text": [
            "Processing sequence 9: Arch-swindler Moist Van Lipwig never believed his confidence crimes were hanging offenses -- until he found himself with a noose tightly around his neck, dropping through a trapdoor, and falling into ... a government job? By all rights, Moist should have met his maker. Instead, it's Lord Vetinari, supreme ruler of Ankh-Morpork, who promptly offers him a job as Postmaster. Since his only other option is a nonliving one, Moist accepts the position -- and the hulking golem watchdog who comes along with it, just in case Moist was considering abandoning his responsibilities prematurely. Getting the moribund Postal Service up and running again, however, may be a near-impossible task, what with literally mountains of decades-old undelivered mail clogging every nook and cranny of the broken-down post office building; and with only a few creaky old postmen and one rather unstable, pin-obsessed youth available to deliver it. Worse still, Moist could swear the mail is talking to him. Worst of all, it means taking on the gargantuan, money-hungry Grand Trunk clacks communication monopoly and its bloodthirsty piratical head, Mr. Reacher Gilt. But it says on the building neither rain nor snow nor glo m of ni t ... Inspiring words (admittedly, some of the bronze letters have been stolen), and for once in his wretched life Moist is going to fight. And if the bold and impossible are what's called for, he'll do it -- in order to move the mail, continue breathing, get the girl, and specially deliver that invaluable commodity that every human being (not to mention troll, dwarf, and, yes, even golem) requires: hope.\n"
          ]
        },
        {
          "output_type": "stream",
          "name": "stderr",
          "text": [
            "\n",
            "  0%|          | 0/1 [00:00<?, ?it/s]\u001b[A\n",
            "100%|██████████| 1/1 [00:02<00:00,  2.61s/it]\n",
            "  3%|▎         | 10/300 [00:21<10:28,  2.17s/it]"
          ]
        },
        {
          "output_type": "stream",
          "name": "stdout",
          "text": [
            "Processing sequence 10: During an unfortunate helicopter ride into the wilds of Alaska, successful screenwriter Lou Calabrese is reunited with sexy Jack Townsend, but they are forced into a desperate battle for survival when they crash land in the wilderness.\n"
          ]
        },
        {
          "output_type": "stream",
          "name": "stderr",
          "text": [
            "\n",
            "  0%|          | 0/1 [00:00<?, ?it/s]\u001b[A\n",
            "100%|██████████| 1/1 [00:00<00:00,  2.13it/s]\n",
            "  4%|▎         | 11/300 [00:21<07:57,  1.65s/it]"
          ]
        },
        {
          "output_type": "stream",
          "name": "stdout",
          "text": [
            "Processing sequence 11: What happens when a psychic tells Lucy that she'll be getting married within the year? Her roommates panic! What is going to happen to their blissful existence of eating take-out, drinking too much wine, bringing men home, and never vacuuming? Lucy reassures her friends that she's far too busy arguing with her mother and taking care of her irresponsible father to get married. And then there's the small matter of not even having a boyfriend. But then Lucy meets gorgeous, unreliable Gus. Could he be the future Mr. Lucy Sullivan? Or could it be handsome Chuck? Or Daniel, the world's biggest flirt? Or even cute Jed, the new guy at work? Maybe her friends have something to worry about after all....\n"
          ]
        },
        {
          "output_type": "stream",
          "name": "stderr",
          "text": [
            "\n",
            "  0%|          | 0/1 [00:00<?, ?it/s]\u001b[A\n",
            "100%|██████████| 1/1 [00:01<00:00,  1.06s/it]\n",
            "  4%|▍         | 12/300 [00:23<07:04,  1.47s/it]"
          ]
        },
        {
          "output_type": "stream",
          "name": "stdout",
          "text": [
            "Processing sequence 12: Milan Kundera's Identity translated from the French by Linda Asher. There are situations in which we fail for a moment to recognize the person we are with, in which the identity of the other is erased while we simultaneously doubt our own. That also happens with couples -- indeed, above all with couples, because lovers fear more than anything else \"losing sight\" of the loved one. With stunning artfulness in expanding and playing variations on the meaningful moment, Milan Kundera has made this situation -- and the vague sense of panic it inspires -- the very fabric of his new novel. Here brevity goes hand in hand with intensity, and a moment of bewilderment marks the start of a labyrinthine journey during which the reader repeatedly crosses the border between the real and the unreal, between what occurs in the world outside and what the mind creates in its solitude. Of all contemporary writers, only Kundera can transform such a hidden and disconcerting perception into the material for a novel, one of his finest, most painful, and most enlightening. Which, surprisingly, turns out to be a love story.\n"
          ]
        },
        {
          "output_type": "stream",
          "name": "stderr",
          "text": [
            "\n",
            "  0%|          | 0/1 [00:00<?, ?it/s]\u001b[A\n",
            "100%|██████████| 1/1 [00:01<00:00,  1.51s/it]\n",
            "  4%|▍         | 13/300 [00:24<07:07,  1.49s/it]"
          ]
        },
        {
          "output_type": "stream",
          "name": "stdout",
          "text": [
            "Processing sequence 13: After a mysterious stranger promises to end his boredom with a trip to the magical Holiday House, ten-year-old Harvey learns that his fun has a high price\n"
          ]
        },
        {
          "output_type": "stream",
          "name": "stderr",
          "text": [
            "\n",
            "  0%|          | 0/1 [00:00<?, ?it/s]\u001b[A\n",
            "100%|██████████| 1/1 [00:00<00:00,  2.02it/s]\n",
            "  5%|▍         | 14/300 [00:25<05:40,  1.19s/it]"
          ]
        },
        {
          "output_type": "stream",
          "name": "stdout",
          "text": [
            "Processing sequence 14: Working as a secretary at the British Embassy on Crete, Nicola Ferris is enjoying a day off when she meets up with two hiking companions who accidentally stumbled into the middle of a terrifying act of vengeance. Reprint.\n"
          ]
        },
        {
          "output_type": "stream",
          "name": "stderr",
          "text": [
            "\n",
            "  0%|          | 0/1 [00:00<?, ?it/s]\u001b[A\n",
            "100%|██████████| 1/1 [00:00<00:00,  1.92it/s]\n",
            "  5%|▌         | 15/300 [00:25<04:42,  1.01it/s]"
          ]
        },
        {
          "output_type": "stream",
          "name": "stdout",
          "text": [
            "Processing sequence 15: An extraordinary artist with few rivals in his chosen arena, Dan Simmons possesses a restless talent that continually presses boundaries while tantalizing the mind and touching the soul. Now he offers us a superb quintet of novellas -- five dazzling masterworks of speculative fiction, including \"Orphans of the Helix,\" his award-winning return to the Hyperion Universe -- that demonstrates the unique mastery, breathtaking invention, and flawless craftsmanship of one of contemporary fiction's true greats. Human colonists seeking something other than godhood encounter their long-lost \"cousins\"...and an ancient scourge. A devastated man in suicide's embrace is caught up in a bizarre cat-and-mouse game with a young woman possessing a world-ending power. The distant descendants of a once-oppressed people learn a chilling lesson about the persistence of the past. A terrifying ascent up the frigid, snow-swept slopes of K2 shatters preconceptions and reveals the true natures of four climbers, one of whom is not human. At the intersection of a grand past and a threadbare present, an aging American in Russia confronts his own mortality as he glimpses a wondrous future.\n"
          ]
        },
        {
          "output_type": "stream",
          "name": "stderr",
          "text": [
            "\n",
            "  0%|          | 0/1 [00:00<?, ?it/s]\u001b[A\n",
            "100%|██████████| 1/1 [00:01<00:00,  1.66s/it]\n",
            "  5%|▌         | 16/300 [00:27<05:40,  1.20s/it]"
          ]
        },
        {
          "output_type": "stream",
          "name": "stdout",
          "text": [
            "Processing sequence 16: After 15 years of designing more than 1,500 book jackets at Knopf for such authors as Anne Rice and Michael Chrichton, Kidd has crafted an affecting an entertaining novel set at a state university in the late 1950s that is both slap-happily funny and heartbreakingly sad. The Cheese Monkeys is a college novel that takes place over a tightly written two semesters. The book is set in the late 1950s at State U, where the young narrator, has decided to major in art, much to his parents’ dismay. It is an autobiographical, coming-of-age novel which tells universally appealing stories of maturity, finding a calling in life, and being inspired by a loving, demanding, and highly eccentric teacher.\n"
          ]
        },
        {
          "output_type": "stream",
          "name": "stderr",
          "text": [
            "\n",
            "  0%|          | 0/1 [00:00<?, ?it/s]\u001b[A\n",
            "100%|██████████| 1/1 [00:01<00:00,  1.20s/it]\n",
            "  6%|▌         | 17/300 [00:28<05:41,  1.21s/it]"
          ]
        },
        {
          "output_type": "stream",
          "name": "stdout",
          "text": [
            "Processing sequence 17: A fictional portrait of Julius Caesar follows the legendary ancient Roman military and political leader from his remarkable conquest of Gaul, to his momentous decision at the Rubicon River, to his personal triumphs, tragedies, dreams, and disappointments. Reprint.\n"
          ]
        },
        {
          "output_type": "stream",
          "name": "stderr",
          "text": [
            "\n",
            "  0%|          | 0/1 [00:00<?, ?it/s]\u001b[A\n",
            "100%|██████████| 1/1 [00:00<00:00,  1.25it/s]\n",
            "  6%|▌         | 18/300 [00:29<05:07,  1.09s/it]"
          ]
        },
        {
          "output_type": "stream",
          "name": "stdout",
          "text": [
            "Processing sequence 18: Drafted into the ranks of Earth's interstellar warriors, private William Mandella finds his fight against the Taurans secondary to the side-effects of faster-than-light space travel, which affects the rate at which he ages. Winner of the Hugo and Nebula Awards. Reprint. 25,000 first printing.\n"
          ]
        },
        {
          "output_type": "stream",
          "name": "stderr",
          "text": [
            "\n",
            "  0%|          | 0/1 [00:00<?, ?it/s]\u001b[A\n",
            "100%|██████████| 1/1 [00:01<00:00,  1.05s/it]\n",
            "  6%|▋         | 19/300 [00:30<05:05,  1.09s/it]"
          ]
        },
        {
          "output_type": "stream",
          "name": "stdout",
          "text": [
            "Processing sequence 19: The Search For Her Sister Could Cost A Woman Her Life Christy McKenna, the smartest fashion writer in New York, thought she'd escaped her childhood in the impoverished rural West. Then came a call for help from the one person she could not refuse—her sister, the internationally celebrated model known only as Jo. Jo's plea draws Christy back to the magnificent mountains and mysterious red-rock canyons of the Four Corners country. But she's too late—Jo has disappeared. However, Christy does find an unlikely ally in outlaw archaeologist Aaron Cain, and together they pursue Jo and a fabulous cache of ancient Indian artifacts worth millions. Christy and Cain clash at every turn, but their antagonism soon turns into partnership—and blazing passion.\n"
          ]
        },
        {
          "output_type": "stream",
          "name": "stderr",
          "text": [
            "\n",
            "  0%|          | 0/1 [00:00<?, ?it/s]\u001b[A\n",
            "100%|██████████| 1/1 [00:02<00:00,  2.71s/it]\n",
            "  7%|▋         | 20/300 [00:33<07:21,  1.58s/it]"
          ]
        },
        {
          "output_type": "stream",
          "name": "stdout",
          "text": [
            "Processing sequence 20: When an exquisitely crafted, authentic imperial Faberge egg mysteriously shows up at Laurel Swann's home studio, she knows it can only be from one person—her father, who has drifted in and out of her life for as long as she can remember. But this time Jamie Swann leaves her something too many people will kill for. Out of her league and desperate, Laurel is forced to accept help from the very man who is trying to ensnare her father in his own web of double crosses. Cruz Rowan can help her stay alive, but will he do the same for her father? Elizabeth Lowell, writing as Ann Maxwell, deftly combines the nonstop action of a spy thriller with the heart-pounding excitement of true love and adventure.\n"
          ]
        },
        {
          "output_type": "stream",
          "name": "stderr",
          "text": [
            "\n",
            "  0%|          | 0/1 [00:00<?, ?it/s]\u001b[A\n",
            "100%|██████████| 1/1 [00:01<00:00,  1.52s/it]\n",
            "  7%|▋         | 21/300 [00:34<07:15,  1.56s/it]"
          ]
        },
        {
          "output_type": "stream",
          "name": "stdout",
          "text": [
            "Processing sequence 21: With this extraordinary first volume in what promises to be an epoch-making masterpiece, Neal Stephenson hacks into the secret histories of nations and the private obsessions of men, decrypting with dazzling virtuosity the forces that shaped this century. In 1942, Lawrence Pritchard Waterhouse - mathematical genius and young Captain in the U.S. Navy - is assigned to detachment 2702. It is an outfit so secret that only a handful of people know it exists, and some of those people have names like Churchill and Roosevelt. The mission of Watrehouse and Detatchment 2702-commanded by Marine Raider Bobby Shaftoe-is to keep the Nazis ignorant of the fact that Allied Intelligence has cracked the enemy's fabled Enigma code. It is a game, a cryptographic chess match between Waterhouse and his German counterpart, translated into action by the gung-ho Shaftoe and his forces. Fast-forward to the present, where Waterhouse's crypto-hacker grandson, Randy, is attempting to create a \"data haven\" in Southeast Asia - a place where encrypted data can be stored and exchanged free of repression and scrutiny. As governments and multinationals attack the endeavor, Randy joins forces with Shaftoe's tough-as-nails grandaughter, Amy, to secretly salvage a sunken Nazi sumarine that holds the key to keeping the dream of a data haven afloat. But soon their scheme brings to light a massive conspiracy with its roots in Detachment 2702 linked to an unbreakable Nazi code called Arethusa. And it will represent the path to unimaginable riches and a future of personal and digital liberty...or to universal totalitarianism reborn. A breathtaking tour de force, and Neal Stephenson's most accomplished and affecting work to date, CRYPTONOMICON is profound and prophetic, hypnotic and hyper-driven, as it leaps forward and back between World War II and the World Wide Web, hinting all the while at a dark day-after-tomorrow. It is a work of great art, thought, and creative daring; the product of a truly icon\n"
          ]
        },
        {
          "output_type": "stream",
          "name": "stderr",
          "text": [
            "\n",
            "  0%|          | 0/1 [00:00<?, ?it/s]\u001b[A\n",
            "100%|██████████| 1/1 [00:02<00:00,  2.86s/it]\n",
            "  7%|▋         | 22/300 [00:37<09:03,  1.96s/it]"
          ]
        },
        {
          "output_type": "stream",
          "name": "stdout",
          "text": [
            "Processing sequence 22: Fat Charlie Nancy's normal life ended the moment his father dropped dead on a Florida karaoke stage. Charlie didn't know his dad was a god. And he never knew he had a brother. Now brother Spider's on his doorstep—about to make Fat Charlie's life more interesting . . . and a lot more dangerous.\n"
          ]
        },
        {
          "output_type": "stream",
          "name": "stderr",
          "text": [
            "\n",
            "  0%|          | 0/1 [00:00<?, ?it/s]\u001b[A\n",
            "100%|██████████| 1/1 [00:00<00:00,  1.78it/s]\n",
            "  8%|▊         | 23/300 [00:38<07:06,  1.54s/it]"
          ]
        },
        {
          "output_type": "stream",
          "name": "stdout",
          "text": [
            "Processing sequence 23: A mysterious circus terrifies an audience for one extraordinary performance before disappearing into the night, taking one of the spectators along with it . . . In a novella set two years after the events of American Gods, Shadow pays a visit to an ancient Scottish mansion, and finds himself trapped in a game of murder and monsters . . . In a Hugo Award-winning short story set in a strangely altered Victorian England, the great detective Sherlock Holmes must solve a most unsettling royal murder . . . Two teenage boys crash a party and meet the girls of their dreams—and nightmares . . . In a Locus Award-winning tale, the members of an excusive epicurean club lament that they've eaten everything that can be eaten, with the exception of a legendary, rare, and exceedingly dangerous Egyptian bird . . . Such marvelous creations and more—including a short story set in the world of The Matrix, and others set in the worlds of gothic fiction and children's fiction—can be found in this extraordinary collection, which showcases Gaiman's storytelling brilliance as well as his terrifyingly entertaining dark sense of humor. By turns delightful, disturbing, and diverting, Fragile Things is a gift of literary enchantment from one of the most unique writers of our time.\n"
          ]
        },
        {
          "output_type": "stream",
          "name": "stderr",
          "text": [
            "\n",
            "  0%|          | 0/1 [00:00<?, ?it/s]\u001b[A\n",
            "100%|██████████| 1/1 [00:01<00:00,  1.82s/it]\n",
            "  8%|▊         | 24/300 [00:39<07:29,  1.63s/it]"
          ]
        },
        {
          "output_type": "stream",
          "name": "stdout",
          "text": [
            "Processing sequence 24: Landing a catch like Talmadge Evans III got Eloise \"Weezie\" Foley a jewel of a town house in Savannah's historic district. Divorcing Tal got her exiled to the backyard carriage house, where she has launched a spite-fest with Tal's new fiancÉe, the elegant Caroline DeSantos. An antiques picker, Weezie combs Savannah's steamy back alleys and garage sales for treasures when she's not dealing with her loopy relatives or her hunky ex-boyfriend. But an unauthorized sneak preview at a sale lands Weezie smack in the middle of magnolia-scented murder, mayhem...and more. Dirty deals simmer all around her—just as her relationship with the cutest chef in town heats up and she finds out how delicious love can be the second time around.\n"
          ]
        },
        {
          "output_type": "stream",
          "name": "stderr",
          "text": [
            "\n",
            "  0%|          | 0/1 [00:00<?, ?it/s]\u001b[A\n",
            "100%|██████████| 1/1 [00:01<00:00,  1.63s/it]\n",
            "  8%|▊         | 25/300 [00:41<07:29,  1.63s/it]"
          ]
        },
        {
          "output_type": "stream",
          "name": "stdout",
          "text": [
            "Processing sequence 25: Former cop-turned-dog trainer Jack Field is called in when the body of Allison DeMarco is found on her kitchen floor, accompanied by her high-strung Airedale, Ginger, and must enlist his special skills to find out what happened since Ginger appears to be the only witness to the crime. Original.\n"
          ]
        },
        {
          "output_type": "stream",
          "name": "stderr",
          "text": [
            "\n",
            "  0%|          | 0/1 [00:00<?, ?it/s]\u001b[A\n",
            "100%|██████████| 1/1 [00:00<00:00,  1.09it/s]\n",
            "  9%|▊         | 26/300 [00:42<06:29,  1.42s/it]"
          ]
        },
        {
          "output_type": "stream",
          "name": "stdout",
          "text": [
            "Processing sequence 26: Why would there be a contract out on Edwin de Valu's life? Edwin -- the wiry low-level editor at Panderic Press. Why has rage disappeared from the roads and McDonald's gone alfalfa? How come everyone seems so damn happy? And most importantly, who, or what, is Tupak Soiree? When an enormous self-help manuscript lands on Edwin's desk, it's headed for the trash. Edwin's cynicism of self-help books, coupled with his filthy mood that morning, results in him dismissing Tupak Soiree's What I Learned on the Mountain and using it as a doorstop. However, Tupak's manuscript is unique -- a self-help book that actually works. Before Edwin knows it, a chain of events begins that affects not only his own life but the world at large. For those who choke on Chicken Soup for the Soul or have choice words for Dr. Phil, Will Ferguson offers up a killer dose of Happiness™ -- a masterpiece of comic fiction.\n"
          ]
        },
        {
          "output_type": "stream",
          "name": "stderr",
          "text": [
            "\n",
            "  0%|          | 0/1 [00:00<?, ?it/s]\u001b[A\n",
            "100%|██████████| 1/1 [00:02<00:00,  2.48s/it]\n",
            "  9%|▉         | 27/300 [00:45<07:56,  1.74s/it]"
          ]
        },
        {
          "output_type": "stream",
          "name": "stdout",
          "text": [
            "Processing sequence 27: Former pop star Heather Wells has left behind hordes of screaming fans, to settle into a new adult life, but when strange things start happening at her college, she finds herself once again in the spotlight, this time starring as a spunky female detective. Original. 100,000 first printing.\n"
          ]
        },
        {
          "output_type": "stream",
          "name": "stderr",
          "text": [
            "\n",
            "  0%|          | 0/1 [00:00<?, ?it/s]\u001b[A\n",
            "100%|██████████| 1/1 [00:00<00:00,  2.05it/s]\n",
            "  9%|▉         | 28/300 [00:45<06:13,  1.37s/it]"
          ]
        },
        {
          "output_type": "stream",
          "name": "stdout",
          "text": [
            "Processing sequence 28: Warrior of the Light: A Manual is an inspirational companion to The Alchemist, an international bestseller that has beguiled millions of readers around the world. Every short passage invites us to live out our dreams, to embrace the uncertainty of life, and to rise to our own unique destiny. In his inimitable style, Paulo Coelho helps bring out the Warrior of the Light within each of us. He also shows readers how to embark upon the way of the Warrior: the one who appreciates the miracle of being alive, the one who accepts failure, and the one whose quest leads him to become the person he wants to be. Paulo Coelho is one of the most beloved storytellers of our time. Now, in the long-awaited companion to his first novel, Coelho presents a collection of philosophical stories that will delight and guide seekers everywhere.\n"
          ]
        },
        {
          "output_type": "stream",
          "name": "stderr",
          "text": [
            "\n",
            "  0%|          | 0/1 [00:00<?, ?it/s]\u001b[A\n",
            "100%|██████████| 1/1 [00:01<00:00,  1.28s/it]\n",
            " 10%|▉         | 29/300 [00:46<06:06,  1.35s/it]"
          ]
        },
        {
          "output_type": "stream",
          "name": "stdout",
          "text": [
            "Processing sequence 29: A community devoured by greed, cowardice, and fear. A man persecuted by the ghosts of his painful past. A young woman searching for happiness. In one eventful week, each will face questions of life, death, and power, and each will choose a path. Will they choose good or evil? In the remote village of Viscos -- a village too small to be on any map, a place where time seems to stand still -- a stranger arrives, carrying with him a backpack containing a notebook and eleven gold bars. He comes searching for the answer to a question that torments him: Are human beings, in essence, good or evil? In welcoming the mysterious foreigner, the whole village becomes an accomplice to his sophisticated plot, which will forever mark their lives. Paulo Coelho's stunning novel explores the timeless struggle between good and evil, and brings to our everyday dilemmas fresh perspective: incentive to master the fear that prevents us from following our dreams, from being different, from truly living. The Devil and Miss Prym is a story charged with emotion, in which the integrity of being human meets a terrifying test.\n"
          ]
        },
        {
          "output_type": "stream",
          "name": "stderr",
          "text": [
            "\n",
            "  0%|          | 0/1 [00:00<?, ?it/s]\u001b[A\n",
            "100%|██████████| 1/1 [00:01<00:00,  1.57s/it]\n",
            " 10%|█         | 30/300 [00:48<06:23,  1.42s/it]"
          ]
        },
        {
          "output_type": "stream",
          "name": "stdout",
          "text": [
            "Processing sequence 30: One of the 20th century's enduring works, One Hundred Years of Solitude is a widely beloved and acclaimed novel known throughout the world, and the ultimate achievement in a Nobel Prize–winning career. The novel tells the story of the rise and fall of the mythical town of Macondo through the history of the Buendía family. It is a rich and brilliant chronicle of life and death, and the tragicomedy of humankind. In the noble, ridiculous, beautiful, and tawdry story of the Buendía family, one sees all of humanity, just as in the history, myths, growth, and decay of Macondo, one sees all of Latin America. Love and lust, war and revolution, riches and poverty, youth and senility -- the variety of life, the endlessness of death, the search for peace and truth -- these universal themes dominate the novel. Whether he is describing an affair of passion or the voracity of capitalism and the corruption of government, Gabriel García Márquez always writes with the simplicity, ease, and purity that are the mark of a master. Alternately reverential and comical, One Hundred Years of Solitude weaves the political, personal, and spiritual to bring a new consciousness to storytelling. Translated into dozens of languages, this stunning work is no less than an accounting of the history of the human race.\n"
          ]
        },
        {
          "output_type": "stream",
          "name": "stderr",
          "text": [
            "\n",
            "  0%|          | 0/1 [00:00<?, ?it/s]\u001b[A\n",
            "100%|██████████| 1/1 [00:02<00:00,  2.48s/it]\n",
            " 10%|█         | 31/300 [00:50<07:48,  1.74s/it]"
          ]
        },
        {
          "output_type": "stream",
          "name": "stdout",
          "text": [
            "Processing sequence 31: Armed with the latest gifts of advanced technology, a California scientist, a ruthless corporation agent, and a mercenary hunter face the dangers of the Congo jungle in search of the diamonds of the lost city of Zinj. Reprint.\n"
          ]
        },
        {
          "output_type": "stream",
          "name": "stderr",
          "text": [
            "\n",
            "  0%|          | 0/1 [00:00<?, ?it/s]\u001b[A\n",
            "100%|██████████| 1/1 [00:01<00:00,  1.26s/it]\n",
            " 11%|█         | 32/300 [00:52<07:10,  1.61s/it]"
          ]
        },
        {
          "output_type": "stream",
          "name": "stdout",
          "text": [
            "Processing sequence 32: Born of an incestuous relationship between King Arthur and his half sister, the evil sorceress Morgause, the bastard Mordred is reared in secrecy. Called to Camelot by events he cannot deny, Mordred becomes Arthur’s most trusted counselor -- a fateful act that leads to the \"wicked day of destiny\" when father and son must face each other in battle.\n"
          ]
        },
        {
          "output_type": "stream",
          "name": "stderr",
          "text": [
            "\n",
            "  0%|          | 0/1 [00:00<?, ?it/s]\u001b[A\n",
            "100%|██████████| 1/1 [00:01<00:00,  1.57s/it]\n",
            " 11%|█         | 33/300 [00:53<07:08,  1.60s/it]"
          ]
        },
        {
          "output_type": "stream",
          "name": "stdout",
          "text": [
            "Processing sequence 33: Gold is the final and crowning achievement of the fifty-year career of science fiction's transcendent genius, the world-famous author who defined the field of science fiction for its practitioners, its millions of readers, and the world at large. The first section contains stories that range from the humorous to the profound, at the heart of which is the title story, \"Gold,\" a moving and revealing drama about a writer who gambles everything on a chance at immortality: a gamble Asimov himself made -- and won. The second section contains the grand master's ruminations on the SF genre itself. And the final section is comprised of Asimov's thoughts on the craft and writing of science fiction.\n"
          ]
        },
        {
          "output_type": "stream",
          "name": "stderr",
          "text": [
            "\n",
            "  0%|          | 0/1 [00:00<?, ?it/s]\u001b[A\n",
            "100%|██████████| 1/1 [00:01<00:00,  1.08s/it]\n",
            " 11%|█▏        | 34/300 [00:54<06:25,  1.45s/it]"
          ]
        },
        {
          "output_type": "stream",
          "name": "stdout",
          "text": [
            "Processing sequence 34: A young widow raising two boys, Sarah Laden is struggling to keep her family together. But when a shocking revelation rips apart the family of her closest friend, Sarah finds herself welcoming yet another troubled young boy into her already tumultuous life. Jordan, a quiet, reclusive elementary school classmate of Sarah's son Danny, has survived a terrible ordeal. By agreeing to become Jordan's foster mother, Sarah will be forced to question the things she has long believed. And as the delicate threads that bind their family begin to unravel, all the Ladens will have to face difficult truths about themselves and one another—and discover the power of love necessary to forgive and to heal.\n"
          ]
        },
        {
          "output_type": "stream",
          "name": "stderr",
          "text": [
            "\n",
            "  0%|          | 0/1 [00:00<?, ?it/s]\u001b[A\n",
            "100%|██████████| 1/1 [00:00<00:00,  1.07it/s]\n",
            " 12%|█▏        | 35/300 [00:55<05:44,  1.30s/it]"
          ]
        },
        {
          "output_type": "stream",
          "name": "stdout",
          "text": [
            "Processing sequence 35: Just why do humpback whales sing? That's the question that has marine behavioral biologist Nate Quinn and his crew poking, charting, recording, and photographing very big, wet, gray marine mammals. Until the extraordinary day when a whale lifts its tail into the air to display a cryptic message spelled out in foot-high letters: Bite me. Trouble is, Nate's beginning to wonder if he hasn't spent just a little too much time in the sun. 'Cause no one else on his team saw a thing -- not his longtime partner, Clay Demodocus; not their saucy young research assistant; not even the spliff-puffing white-boy Rastaman Kona (né Preston Applebaum). But later, when a roll of film returns from the lab missing the crucial tail shot -- and his research facility is trashed -- Nate realizes something very fishy indeed is going on. By turns witty, irreverent, fascinating, puzzling, and surprising, Fluke is Christopher Moore at his outrageous best.\n"
          ]
        },
        {
          "output_type": "stream",
          "name": "stderr",
          "text": [
            "\n",
            "  0%|          | 0/1 [00:00<?, ?it/s]\u001b[A\n",
            "100%|██████████| 1/1 [00:01<00:00,  1.41s/it]\n",
            " 12%|█▏        | 36/300 [00:57<05:52,  1.34s/it]"
          ]
        },
        {
          "output_type": "stream",
          "name": "stdout",
          "text": [
            "Processing sequence 36: Earth is long since dead. On a colony planet, a band of men has gained control of technology, made themselves immortal, and now rules their world as the gods of the Hindu pantheon. Only one dares oppose them: he who was once Siddhartha and is now Mahasamatman. Binder of Demons. Lord of Light.\n"
          ]
        },
        {
          "output_type": "stream",
          "name": "stderr",
          "text": [
            "\n",
            "  0%|          | 0/1 [00:00<?, ?it/s]\u001b[A\n",
            "100%|██████████| 1/1 [00:00<00:00,  2.04it/s]\n",
            " 12%|█▏        | 37/300 [00:57<04:45,  1.08s/it]"
          ]
        },
        {
          "output_type": "stream",
          "name": "stdout",
          "text": [
            "Processing sequence 37: All the creatures of the night gather in \"the Hollows\" of Cincinnati, to hide, to prowl, to party ... and to feed. Vampires rule the darkness in a predator-eat-predator world rife with dangers beyond imagining -- and it’s Rachel Morgan's job to keep that world civilized. A bounty hunter and witch with serious sex appeal and an attitude, she'll bring 'em back alive, dead ... or undead.\n"
          ]
        },
        {
          "output_type": "stream",
          "name": "stderr",
          "text": [
            "\n",
            "  0%|          | 0/1 [00:00<?, ?it/s]\u001b[A\n",
            "100%|██████████| 1/1 [00:00<00:00,  2.34it/s]\n",
            " 13%|█▎        | 38/300 [00:58<03:53,  1.12it/s]"
          ]
        },
        {
          "output_type": "stream",
          "name": "stdout",
          "text": [
            "Processing sequence 38: It's a tough life for witch Rachel Morgan, sexy, independent bounty hunter, prowling the darkest shadows of downtown Cincinnati for criminal creatures of the night. She can handle the leather-clad vamps and even tangle with a cunning demon or two. But a serial killer who feeds on the experts in the most dangerous kind of black magic is definitely pressing the limits. Confronting an ancient, implacable evil is more than just child's play -- and this time, Rachel will be lucky to escape with her very soul.\n"
          ]
        },
        {
          "output_type": "stream",
          "name": "stderr",
          "text": [
            "\n",
            "  0%|          | 0/1 [00:00<?, ?it/s]\u001b[A\n",
            "100%|██████████| 1/1 [00:00<00:00,  1.97it/s]\n",
            " 13%|█▎        | 39/300 [00:58<03:22,  1.29it/s]"
          ]
        },
        {
          "output_type": "stream",
          "name": "stdout",
          "text": [
            "Processing sequence 39: in this place there are the dead, the deadly and the dying. there is the cross, the builders of the cross and the burners of the cross. the pattern of my life forms like a cheap shadow on the wall before me. my love what is left of it now must crawl to wherever it can crawl. the strongest know that death is final and the happiest are those gifted with the shortest journey.\n"
          ]
        },
        {
          "output_type": "stream",
          "name": "stderr",
          "text": [
            "\n",
            "  0%|          | 0/1 [00:00<?, ?it/s]\u001b[A\n",
            "100%|██████████| 1/1 [00:00<00:00,  2.50it/s]\n",
            " 13%|█▎        | 40/300 [00:59<02:53,  1.50it/s]"
          ]
        },
        {
          "output_type": "stream",
          "name": "stdout",
          "text": [
            "Processing sequence 40: The beautiful, serene village of Molena Point, California is the type of place where people go to get away from the harsher realities of life––which is what attracted classic film star Patty Rose to buy the village inn, and settle down to enjoy her golden years. But as the town gathers to celebrate and honor the beautiful, aging actress with a festival of her old films, Patty is brutally murdered––to the horror and shock of this peaceful burg. A gentle tortoiseshell cat, Kit, has been enjoying a retreat to the animal–loving actress's inn, where she's spending time with her feline friends Dulcie, and the slick tomcat sleuth, Joe Grey. But her relaxation is cut short when she hears the gunshots that end Patty's life, and sees her dead body sprawled on the inn's front steps. She glimpses the killer racing into the parking garage, and soon follows his trail. Joe and Dulcie must now follow the naïve Kit's trail, and keep her from getting into serious trouble. To complicate matters, Joe discovers that Dulcie has been hiding a runaway child––one of the lucky humans that these special cats choose to talk to––who has now been kidnapped, likely by the same man who killed their famous friend. In the end, the little girl's abduction leads them to Patty's killer, and the feline friends are all united––but they all must mourn a departed friend as they stand beside the newly laid grave of Patty Rose.\n"
          ]
        },
        {
          "output_type": "stream",
          "name": "stderr",
          "text": [
            "\n",
            "  0%|          | 0/1 [00:00<?, ?it/s]\u001b[A\n",
            "100%|██████████| 1/1 [00:01<00:00,  1.27s/it]\n",
            " 14%|█▎        | 41/300 [01:00<03:40,  1.17it/s]"
          ]
        },
        {
          "output_type": "stream",
          "name": "stdout",
          "text": [
            "Processing sequence 41: The fur starts flying when a gang from L.A. comes up to tranquil Molena Point, California, and begins breaking into the village's quaint shops. The fur of Joe Grey, Feline P.I., that is. After all, Molena Point has been his home since he was a kitten eating scraps from the garbage behind the local delicatessen, and he doesn't take well to marauding strangers. Joe even wonders whether the blonde who's moved into next to his human companion Clyde could be a part of the gang––she's been acting pretty suspicious lately. But when the strangers start trapping and caging feral cats––speaking cats like Joe and his girlfriend Dulcie––it proves too much for the intrepid four–footed detective. And when one of the gang is murdered, and a second mysterious death comes to light, he has no choice but to try to stop the crimes. Joe, Dulcie, and their tattercoat friend Kit, who used to be a stray herself, are deep into the investigation when they are able to release the three trapped cats. But as Kit leads them away to freedom, will she herself return to that wild life?\n"
          ]
        },
        {
          "output_type": "stream",
          "name": "stderr",
          "text": [
            "\n",
            "  0%|          | 0/1 [00:00<?, ?it/s]\u001b[A\n",
            "100%|██████████| 1/1 [00:00<00:00,  1.01it/s]\n",
            " 14%|█▍        | 42/300 [01:01<03:51,  1.11it/s]"
          ]
        },
        {
          "output_type": "stream",
          "name": "stdout",
          "text": [
            "Processing sequence 42: Alexandra (Barney) Barnaby roars onto the Miami Beach scene in hot pursuit of her missing baby brother, \"Wild\" Bill. Leave it to the maverick of the family to get Barney involved with high-speed car chases, a search for sunken treasure, and Sam Hooker, a NASCAR driver who’s good at revving a woman's engine. Engaged in a deadly race, Bill has \"borrowed\" Hooker's sixty-five-foot Hatteras and sailed off into the sunset...just when Hooker has plans for the boat. Hooker figures he'll attach himself to Barney and maybe run into scumbag Bill. And better yet, maybe he'll get lucky in love with Bill's sweetie pie sister. The pedal will have to go to metal if Barney and Hooker want to be the first to cross the finish line, save Bill, Hooker's boat...and maybe the world.\n"
          ]
        },
        {
          "output_type": "stream",
          "name": "stderr",
          "text": [
            "\n",
            "  0%|          | 0/1 [00:00<?, ?it/s]\u001b[A\n",
            "100%|██████████| 1/1 [00:00<00:00,  1.22it/s]\n",
            " 14%|█▍        | 43/300 [01:02<03:45,  1.14it/s]"
          ]
        },
        {
          "output_type": "stream",
          "name": "stdout",
          "text": [
            "Processing sequence 43: Alexandra \"Barney\" Barnaby returns to take on a whole new set of bad guys, Florida heat, colorful and dangerous characters, and high-stakes adventure, all the while romancing gorgeous race car driver Sam Hooker, in an action-packed sequel to Metro Girl. 1,000,000 first printing.\n"
          ]
        },
        {
          "output_type": "stream",
          "name": "stderr",
          "text": [
            "\n",
            "  0%|          | 0/1 [00:00<?, ?it/s]\u001b[A\n",
            "100%|██████████| 1/1 [00:00<00:00,  3.03it/s]\n",
            " 15%|█▍        | 44/300 [01:02<03:03,  1.40it/s]"
          ]
        },
        {
          "output_type": "stream",
          "name": "stdout",
          "text": [
            "Processing sequence 44: When they were children, Sean Devine, Jimmy Marcus, and Dave Boyle were friends. But then a strange car pulled up to their street. One boy got into the car, two did not, and something terrible happened -- something that ended their friendship and changed all three boys forever. Twenty-five years later, Sean is a homicide detective. Jimmy is an ex-con who owns a corner store. And Dave is trying to hold his marriage together and keep his demons at bay -- demons that urge him to do terrible things. When Jimmy's daughter is found murdered, Sean is assigned to the case. His investigation brings him into conflict with Jimmy, who finds his old criminal impulses tempt him to solve the crime with brutal justice. And then there is Dave, who came home the night Jimmy's daughter died covered in someone else's blood. A tense and unnerving psychological thriller, Mystic River is also an epic novel of love and loyalty, faith and family, in which people irrevocably marked by the past find themselves on a collision course with the darkest truths of their own hidden selves.\n"
          ]
        },
        {
          "output_type": "stream",
          "name": "stderr",
          "text": [
            "\n",
            "  0%|          | 0/1 [00:00<?, ?it/s]\u001b[A\n",
            "100%|██████████| 1/1 [00:00<00:00,  1.10it/s]\n",
            " 15%|█▌        | 45/300 [01:03<03:18,  1.29it/s]"
          ]
        },
        {
          "output_type": "stream",
          "name": "stdout",
          "text": [
            "Processing sequence 45: Billy Budd, Sailor and Bartleby, the Scrivener are two of the most revered shorter works of fiction in history. Here, they are collected along with 19 other stories in a beautifully redesigned collection that represents the best short work of an American master.As Warner Berthoff writes in his introduction to this volume, \"It is hard to think of a major novelist or storyteller who is not also a first-rate entertainer . . . a master, according to choice, of high comedy, of one or another robust species of expressive humour, or of some special variety of the preposterous, the grotesque, the absurd. And Melville, certainly, is no exception. A kind of vigorous supervisory humour is his natural idiom as a writer, and one particular attraction of his shorter work is the fresh further display it offers of this prime element in his literary character.\"\n"
          ]
        },
        {
          "output_type": "stream",
          "name": "stderr",
          "text": [
            "\n",
            "  0%|          | 0/1 [00:00<?, ?it/s]\u001b[A\n",
            "100%|██████████| 1/1 [00:00<00:00,  1.31it/s]\n",
            " 15%|█▌        | 46/300 [01:04<03:17,  1.29it/s]"
          ]
        },
        {
          "output_type": "stream",
          "name": "stdout",
          "text": [
            "Processing sequence 46: Eleven Minutes is the story of Maria, a young girl from a Brazilian village, whose first innocent brushes with love leave her heartbroken. At a tender age, she becomes convinced that she will never find true love, instead believing that \"love is a terrible thing that will make you suffer. . . .\" A chance meeting in Rio takes her to Geneva, where she dreams of finding fame and fortune. Maria's despairing view of love is put to the test when she meets a handsome young painter. In this odyssey of self-discovery, Maria has to choose between pursuing a path of darkness -- sexual pleasure for its own sake -- or risking everything to find her own \"inner light\" and the possibility of sacred sex, sex in the context of love. This P.S. edition features an extra 16 pages of insights into the book, including author interviews, recommended reading, and more.\n"
          ]
        },
        {
          "output_type": "stream",
          "name": "stderr",
          "text": [
            "\n",
            "  0%|          | 0/1 [00:00<?, ?it/s]\u001b[A\n",
            "100%|██████████| 1/1 [00:00<00:00,  1.32it/s]\n",
            " 16%|█▌        | 47/300 [01:05<03:15,  1.29it/s]"
          ]
        },
        {
          "output_type": "stream",
          "name": "stdout",
          "text": [
            "Processing sequence 47: Charlie Asher is a pretty normal guy. A little hapless, somewhat neurotic, sort of a hypochondriac. He's what's known as a Beta Male: the kind of fellow who makes his way through life by being careful and constant -- you know, the one who's always there to pick up the pieces when the girl gets dumped by the bigger/taller/stronger Alpha Male. But Charlie's been lucky. He owns a building in the heart of San Francisco, and runs a secondhand store with the help of a couple of loyal, if marginally insane, employees. He's married to a bright and pretty woman who actually loves him for his normalcy. And she, Rachel, is about to have their first child. Yes, Charlie's doing okay for a Beta. That is, until the day his daughter, Sophie, is born. Just as Charlie -- exhausted from the birth -- turns to go home, he sees a strange man in mint-green golf wear at Rachel's hospital bedside, a man who claims that no one should be able to see him. But see him Charlie does, and from here on out, things get really weird. . . . People start dropping dead around him, giant ravens perch on his building, and it seems that everywhere he goes, a dark presence whispers to him from under the streets. Strange names start appearing on his nightstand notepad, and before he knows it, those people end up dead, too. Yup, it seems that Charlie Asher has been recruited for a new job, an unpleasant but utterly necessary one: Death. It's a dirty job. But hey, somebody's gotta do it. Christopher Moore, the man whose Lamb served up Jesus' \"missing years\" (with the funny parts left in), and whose Fluke found the deep humor in whale researchers' lives, now shines his comic light on the undiscovered country we all eventually explore -- death and dying -- and the results are hilarious, heartwarming, and a hell of a lot of fun.\n"
          ]
        },
        {
          "output_type": "stream",
          "name": "stderr",
          "text": [
            "\n",
            "  0%|          | 0/1 [00:00<?, ?it/s]\u001b[A\n",
            "100%|██████████| 1/1 [00:01<00:00,  1.73s/it]\n",
            " 16%|█▌        | 48/300 [01:06<04:27,  1.06s/it]"
          ]
        },
        {
          "output_type": "stream",
          "name": "stdout",
          "text": [
            "Processing sequence 48: Quicksilver is the story of Daniel Waterhouse, fearless thinker and conflicted Puritan, pursuing knowledge in the company of the greatest minds of Baroque-era Europe, in a chaotic world where reason wars with the bloody ambitions of the mighty, and where catastrophe, natural or otherwise, can alter the political landscape overnight. It is a chronicle of the breathtaking exploits of \"Half-Cocked Jack\" Shaftoe -- London street urchin turned swashbuckling adventurer and legendary King of the Vagabonds -- risking life and limb for fortune and love while slowly maddening from the pox. And it is the tale of Eliza, rescued by Jack from a Turkish harem to become spy, confidante, and pawn of royals in order to reinvent Europe through the newborn power of finance. A gloriously rich, entertaining, and endlessly inventive novel that brings a remarkable age and its momentous events to vivid life, Quicksilver is an extraordinary achievement from one of the most original and important literary talents of our time. And it's just the beginning ...\n"
          ]
        },
        {
          "output_type": "stream",
          "name": "stderr",
          "text": [
            "\n",
            "  0%|          | 0/1 [00:00<?, ?it/s]\u001b[A\n",
            "100%|██████████| 1/1 [00:00<00:00,  1.00it/s]\n",
            " 16%|█▋        | 49/300 [01:07<04:22,  1.04s/it]"
          ]
        },
        {
          "output_type": "stream",
          "name": "stdout",
          "text": [
            "Processing sequence 49: In her dazzling romantic suspense debut, USA Today bestselling author Suzanne Enoch brings us a thrilling tale about a thief who needs to prove she's no murderer and the millionaire who loves her. Samantha Jellicoe is a thief and proud of it. Raised to appreciate the finer things in life, Sam has no trouble divesting the wealthy of their treasures. This all changed, however, the night she attempts to steal a valuable item from a Palm Beach estate. Before she knew what hit her, a bomb goes off, a guard is killed, and Sam ends up saving millionaire Richard Addison. She's a good thief and will own up to her jobs, but if anyone thinks to tie her to murder, they better think again. On any other night, having a one hundred plus pounds of female fling herself at you is a good thing. But on this particular night, Richard Addison is mad as hell. Not only did he just have his gallery blown up-with him about to enter it-but the woman who rescued him didn't stick around to offer any explanations. When the dust settles, Rick knows the only person with answers to his questions is the mystery woman. And if she thinks she can hide from him, she better think again.\n"
          ]
        },
        {
          "output_type": "stream",
          "name": "stderr",
          "text": [
            "\n",
            "  0%|          | 0/1 [00:00<?, ?it/s]\u001b[A\n",
            "100%|██████████| 1/1 [00:01<00:00,  1.79s/it]\n",
            " 17%|█▋        | 50/300 [01:09<05:17,  1.27s/it]"
          ]
        },
        {
          "output_type": "stream",
          "name": "stdout",
          "text": [
            "Processing sequence 50: Following a plane crash in the Himalayan mountains, a lost group of Englishmen and Americans stumble upon the dream-like, utopian world of Shangri-La, where life is eternal and civilization refined, in a new trade paperback edition of the classic 1933 novel. Reprint.\n"
          ]
        },
        {
          "output_type": "stream",
          "name": "stderr",
          "text": [
            "\n",
            "  0%|          | 0/1 [00:00<?, ?it/s]\u001b[A\n",
            "100%|██████████| 1/1 [00:00<00:00,  2.00it/s]\n",
            " 17%|█▋        | 51/300 [01:10<04:19,  1.04s/it]"
          ]
        },
        {
          "output_type": "stream",
          "name": "stdout",
          "text": [
            "Processing sequence 51: When Megan Murphy discovered a floppy-eared rabbit gnawing on the hem of her skirt, she meant to give its careless owner a piece of her mind, but Dr. Patrick Hunter was too attractive to stay mad at for long. Soon the two are making Thanksgiving dinner for their families.\n"
          ]
        },
        {
          "output_type": "stream",
          "name": "stderr",
          "text": [
            "\n",
            "  0%|          | 0/1 [00:00<?, ?it/s]\u001b[A\n",
            "100%|██████████| 1/1 [00:00<00:00,  2.54it/s]\n",
            " 17%|█▋        | 52/300 [01:10<03:31,  1.17it/s]"
          ]
        },
        {
          "output_type": "stream",
          "name": "stdout",
          "text": [
            "Processing sequence 52: Dear Reader: In a previous life, before the time of Plum, I wrote twelve short romance novels. Red-hot screwball comedies, each and every one of them. Nine of these stories were originally published by the Loveswept line between the years 1988 and 1992. All went out-of-print immediately and then could be found only at used bookstores and yard sales. I'm excited to tell you that those nine stories are now being re-released by HarperCollins. Love Overboard is second in the lineup, and it's presented here in almost original form. I've done only minor editing to correct some embarrassing bloopers missed the first time around. And I changed the title because I thought the original title (Ivan Takes a Wife) was boring! Love Overboard is a romantic tale about a handsome ship's captain; a wary wench from Jersey City; a hundred-year-old, two-masted schooner; and an entire town of shoemakers. There's some getting naked, some blueberry pie, more getting naked, and at the end . . . Okay, I won't tell you about the end, but it's really good and it'll make you feel happy. I took my family on the road trip from heck to research this book. When we finally got to Maine it was all worthwhile because we fell in love with the boats and the people who sailed them. Enjoy!\n"
          ]
        },
        {
          "output_type": "stream",
          "name": "stderr",
          "text": [
            "\n",
            "  0%|          | 0/1 [00:00<?, ?it/s]\u001b[A\n",
            "100%|██████████| 1/1 [00:01<00:00,  1.21s/it]\n",
            " 18%|█▊        | 53/300 [01:11<03:57,  1.04it/s]"
          ]
        },
        {
          "output_type": "stream",
          "name": "stdout",
          "text": [
            "Processing sequence 53: Dear Reader: In a previous life, before the time of Plum, I wrote twelve short romance novels. Red-hot screwball comedies, each and every one of them. Nine of these stories were originally published by the Loveswept line between the years 1988 and 1992. All immediately went out of print and could be found only at used bookstores and yard sales. I'm excited to tell you that those nine stories are now being re-released by HarperCollins. Back to the Bedroom is presented here in almost original form. I've done only minor editing to correct some embarrassing bloopers missed the first time around. I lived in northern Virginia when I wrote Back to the Bedroom. My children were young, and we spent a lot of time visiting the Washington, D.C. museums and wandering through the historic neighborhoods. One day while strolling Capitol Hill I came upon two townhouses that captured my imagination. The houses were totally different -- a birthday cake of a house and a bran muffin of a house, and yet they shared a common wall. I wondered about the people who lived inside the houses. And eventually the houses inspired Back to the Bedroom. Back to the Bedroom is the story of a young woman with the soul of a birthday cake living in a bran muffin house -- and a nice-looking guy with the substance of a bran muffin living in a birthday cake. They share some misadventures, some romantic moments, some misunderstandings, and ultimately they turn into wedding cake. And for Plum fans, you'll be interested to find that this was the first of the four romances to feature Elsie Hawkins, the prototype for Grandma Mazur. Janet Evanovich\n"
          ]
        },
        {
          "output_type": "stream",
          "name": "stderr",
          "text": [
            "\n",
            "  0%|          | 0/1 [00:00<?, ?it/s]\u001b[A\n",
            "100%|██████████| 1/1 [00:01<00:00,  1.44s/it]\n",
            " 18%|█▊        | 54/300 [01:13<04:32,  1.11s/it]"
          ]
        },
        {
          "output_type": "stream",
          "name": "stdout",
          "text": [
            "Processing sequence 54: Her tall, dark, and deliciously dangerous boss . . . When the delightful, daffy Dog Lady of station WZZZ offered to take on the temporary job of traffic reporter, Steve Crow tried to think of reasons to turn Daisy Adams down. Perhaps he knew that sharing the close quarters of a car with her for hours would give the handsome program director no room to resist her quirky charms. He'd always favored low-slung sportscars and high-heeled women, but that was before he fell for a free spirit who caught crooks by accident, loved old people and pets, and had just too many jobs! Loving Daisy turned Steve's life upside down, especially once he adopted Bob, a huge dog masquerading as a couch potato. But was Daisy finally ready to play for keeps?\n"
          ]
        },
        {
          "output_type": "stream",
          "name": "stderr",
          "text": [
            "\n",
            "  0%|          | 0/1 [00:00<?, ?it/s]\u001b[A\n",
            "100%|██████████| 1/1 [00:00<00:00,  1.42it/s]\n",
            " 18%|█▊        | 55/300 [01:13<04:02,  1.01it/s]"
          ]
        },
        {
          "output_type": "stream",
          "name": "stdout",
          "text": [
            "Processing sequence 55: Marian Keyes has introduced readers to the lives, loves, and foibles of the five Walsh sisters -- Claire, Maggie, Rachel, Helen, and Anna -- and their crazy mammy. In this funny, heartbreaking, and triumphant new tale set in the Big Apple, it's Anna's turn in the spotlight. Life is perfect for Anna Walsh. She has the \"Best Job in the World\" as a PR exec for a top-selling urban beauty brand, a lovely apartment in New York, and a perfect husband -- the love of her life, Aidan Maddox. Until the morning she wakes up in her mammy's living room in Dublin with stitches in her face, a dislocated knee, and completely smashed-up hands -- and no memory of how she got there. While her mammy plays nursemaid (just like all of her favorite nurses on her soaps), and her sister Helen sits in wet hedges doing her private investigator work for Lucky Star PI, Anna tries to get better and keeps wondering why Aidan won't return her phone calls or e-mails. Recuperating from her injuries, a mystified Anna returns to Manhattan. Slowly beginning to remember what happened, she sets off on a search to find Aidan -- a hilarious quest involving lilies (she can't stop smelling them), psychics, mediums, and anyone in the city who can promise her a reunion with her beloved. . . . Written in her classic style, marrying the darker parts of life with humor and wit, Anybody Out There? is Marian Keyes's best novel to date, a wonderfully charming look at love here and ever after.\n"
          ]
        },
        {
          "output_type": "stream",
          "name": "stderr",
          "text": [
            "\n",
            "  0%|          | 0/1 [00:00<?, ?it/s]\u001b[A\n",
            "100%|██████████| 1/1 [00:01<00:00,  1.36s/it]\n",
            " 19%|█▊        | 56/300 [01:15<04:29,  1.10s/it]"
          ]
        },
        {
          "output_type": "stream",
          "name": "stdout",
          "text": [
            "Processing sequence 56: In the year 1689, a cabal of Barbary galley slaves -- including one Jack Shaftoe, aka King of the Vagabonds, aka Half-Cocked Jack -- devises a daring plan to win freedom and fortune. A great adventure ensues -- a perilous race for an enormous prize of silver ... nay, gold ... nay, legendary gold. In Europe, the exquisite and resourceful Eliza, Countess de la Zeur, is stripped of her immense personal fortune by France's most dashing privateer. Penniless and at risk from those who desire either her or her head (or both), she is caught up in a web of international intrigue, even as she desperately seeks the return of her most precious possession. Meanwhile, Newton and Leibniz continue to propound their grand theories as their infamous rivalry intensifies, stubborn alchemy does battle with the natural sciences, dastardly plots are set in motion ... and Daniel Waterhouse seeks passage to the Massachusetts colony in hopes of escaping the madness into which his world has descended. This P.S. edition features an extra 16 pages of insights into the book, including author interviews, recommended reading, and more.\n"
          ]
        },
        {
          "output_type": "stream",
          "name": "stderr",
          "text": [
            "\n",
            "  0%|          | 0/1 [00:00<?, ?it/s]\u001b[A\n",
            "100%|██████████| 1/1 [00:01<00:00,  1.01s/it]\n",
            " 19%|█▉        | 57/300 [01:16<04:21,  1.08s/it]"
          ]
        },
        {
          "output_type": "stream",
          "name": "stdout",
          "text": [
            "Processing sequence 57: In Christopher Moore's ingenious debut novel, we meet one of the most memorably mismatched pairs in the annals of literature. The good-looking one is one-hundred-year-old ex-seminarian and \"roads\" scholar Travis O'Hearn. The green one is Catch, a demon with a nasty habit of eating most of the people he meets. Behind the fake Tudor façade of Pine Cove, California, Catch sees a four-star buffet. Travis, on the other hand, thinks he sees a way of ridding himself of his toothy traveling companion. The winos, neo-pagans, and deadbeat Lotharios of Pine Cove, meanwhile, have other ideas. And none of them is quite prepared when all hell breaks loose.\n"
          ]
        },
        {
          "output_type": "stream",
          "name": "stderr",
          "text": [
            "\n",
            "  0%|          | 0/1 [00:00<?, ?it/s]\u001b[A\n",
            "100%|██████████| 1/1 [00:00<00:00,  1.44it/s]\n",
            " 19%|█▉        | 58/300 [01:16<03:53,  1.04it/s]"
          ]
        },
        {
          "output_type": "stream",
          "name": "stdout",
          "text": [
            "Processing sequence 58: Take a wonderfully crazed excursion into the demented heart of a tropical paradise—a world of cargo cults, cannibals, mad scientists, ninjas, and talking fruit bats. Our bumbling hero is Tucker Case, a hopeless geek trapped in a cool guy's body, who makes a living as a pilot for the Mary Jean Cosmetics Corporation. But when he demolishes his boss's pink plane during a drunken airborne liaison, Tuck must run for his life from Mary Jean's goons. Now there's only one employment opportunity left for him: piloting shady secret missions for an unscrupulous medical missionary and a sexy blond high priestess on the remotest of Micronesian hells. Here is a brazen, ingenious, irreverent, and wickedly funny novel from a modern master of the outrageous.\n"
          ]
        },
        {
          "output_type": "stream",
          "name": "stderr",
          "text": [
            "\n",
            "  0%|          | 0/1 [00:00<?, ?it/s]\u001b[A\n",
            "100%|██████████| 1/1 [00:00<00:00,  1.36it/s]\n",
            " 20%|█▉        | 59/300 [01:17<03:37,  1.11it/s]"
          ]
        },
        {
          "output_type": "stream",
          "name": "stdout",
          "text": [
            "Processing sequence 59: The town psychiatrist has decided to switch everybody in Pine Cove, California, from their normal antidepressants to placebos, so naturally—well, to be accurate, artificially—business is booming at the local blues bar. Trouble is, those lonely slide-guitar notes have also attracted a colossal sea beast named Steve with, shall we say, a thing for explosive oil tanker trucks. Suddenly, morose Pine Cove turns libidinous and is hit by a mysterious crime wave, and a beleaguered constable has to fight off his own gonzo appetites to find out what's wrong and what, if anything, to do about it.\n"
          ]
        },
        {
          "output_type": "stream",
          "name": "stderr",
          "text": [
            "\n",
            "  0%|          | 0/1 [00:00<?, ?it/s]\u001b[A\n",
            "100%|██████████| 1/1 [00:00<00:00,  1.72it/s]\n",
            " 20%|██        | 60/300 [01:18<03:13,  1.24it/s]"
          ]
        },
        {
          "output_type": "stream",
          "name": "stdout",
          "text": [
            "Processing sequence 60: When Dorothy triumphed over the Wicked Witch of the West in L. Frank Baum's classic tale, we heard only her side of the story. But what about her arch-nemesis, the mysterious Witch? Where did she come from? How did she become so wicked? And what is the true nature of evil? Gregory Maguire creates a fantasy world so rich and vivid that we will never look at Oz the same way again. Wicked is about a land where animals talk and strive to be treated like first-class citizens, Munchkinlanders seek the comfort of middle-class stability, and the Tin Man becomes a victim of domestic violence. And then there is the little green-skinned girl named Elphaba, who will grow up to become the infamous Wicked Witch of the West, a smart, prickly, and misunderstood creature who challenges all our preconceived notions about the nature of good and evil.\n"
          ]
        },
        {
          "output_type": "stream",
          "name": "stderr",
          "text": [
            "\n",
            "  0%|          | 0/1 [00:00<?, ?it/s]\u001b[A\n",
            "100%|██████████| 1/1 [00:00<00:00,  1.20it/s]\n",
            " 20%|██        | 61/300 [01:19<03:15,  1.22it/s]"
          ]
        },
        {
          "output_type": "stream",
          "name": "stdout",
          "text": [
            "Processing sequence 61: Ten years after the publication of Wicked, beloved novelist Gregory Maguire returns at last to the land of Oz. There he introduces us to Liir, an adolescent boy last seen hiding in the shadows of the castle after Dorothy did in the Witch. Bruised, comatose, and left for dead in a gully, Liir is shattered in spirit as well as in form. But he is tended to at the Cloister of Saint Glinda by the silent novice called Candle, who wills him back to life with her musical gifts. What dark force left Liir in this condition? Is he really Elphaba's son? He has her broom and her cape—but what of her powers? Can he find his supposed half-sister, Nor, last seen in the forbidding prison, Southstairs? Can he fulfill the last wishes of a dying princess? In an Oz that, since the Wizard's departure, is under new and dangerous management, can Liir keep his head down long enough to grow up? For the countless fans who have been dazzled and entranced by Maguire's Oz, Son of a Witch is the rich reward they have awaited so long.\n"
          ]
        },
        {
          "output_type": "stream",
          "name": "stderr",
          "text": [
            "\n",
            "  0%|          | 0/1 [00:00<?, ?it/s]\u001b[A\n",
            "100%|██████████| 1/1 [00:01<00:00,  1.02s/it]\n",
            " 21%|██        | 62/300 [01:20<03:29,  1.13it/s]"
          ]
        },
        {
          "output_type": "stream",
          "name": "stdout",
          "text": [
            "Processing sequence 62: A fledgling actress vacationing in Corfu, Lucy Waring witnesses the murder of one of England's theater luminaries and becomes embroiled in a dangerous offstage drama. Reprint.\n"
          ]
        },
        {
          "output_type": "stream",
          "name": "stderr",
          "text": [
            "\n",
            "  0%|          | 0/1 [00:00<?, ?it/s]\u001b[A\n",
            "100%|██████████| 1/1 [00:00<00:00,  2.97it/s]\n",
            " 21%|██        | 63/300 [01:20<02:50,  1.39it/s]"
          ]
        },
        {
          "output_type": "stream",
          "name": "stdout",
          "text": [
            "Processing sequence 63: Vanessa March never thought to look for her missing husband in Vienna -- until she saw him in a newsreel shot there at the scene of a deadly fire. But her hunt for answers only leads to more sinister questions in a mysterious world of beautiful horses. And what waits for Vanessa in the shadows is more terrifying than anything she has ever encountered.\n"
          ]
        },
        {
          "output_type": "stream",
          "name": "stderr",
          "text": [
            "\n",
            "  0%|          | 0/1 [00:00<?, ?it/s]\u001b[A\n",
            "100%|██████████| 1/1 [00:00<00:00,  1.66it/s]\n",
            " 21%|██▏       | 64/300 [01:21<02:42,  1.46it/s]"
          ]
        },
        {
          "output_type": "stream",
          "name": "stdout",
          "text": [
            "Processing sequence 64: A family without men, the Birches live gloriously offbeat lives in the lush, green backwoods of North Carolina. Radiant, headstrong Sophia and her shy, brilliant daughter, Margaret, possess powerful charms to ward off loneliness, despair, and the human misery that often beats a path to their door. And they are protected by the eccentric wisdom and muscular love of the remarkable matriarch Charlie Kate, a solid, uncompromising, self-taught healer who treats everything from boils to broken bones to broken hearts. Sophia, Margaret, and Charlie Kate find strength in a time when women almost always depended on men, and their bond deepens as each one experiences love and loss during World War II. Charms for the Easy Life is a passionate, luminous, and exhilarating story about embracing what life has to offer ... even if it means finding it in unconventional ways. This P.S. edition features an extra 16 pages of insights into the book, including author interviews, recommended reading, and more.\n"
          ]
        },
        {
          "output_type": "stream",
          "name": "stderr",
          "text": [
            "\n",
            "  0%|          | 0/1 [00:00<?, ?it/s]\u001b[A\n",
            "100%|██████████| 1/1 [00:01<00:00,  1.43s/it]\n",
            " 22%|██▏       | 65/300 [01:22<03:34,  1.10it/s]"
          ]
        },
        {
          "output_type": "stream",
          "name": "stdout",
          "text": [
            "Processing sequence 65: The Reading Group follows the trials and tribulations of a group of women who meet regularly to read and discuss books.Over the course of a year, each of these women become intertwined, both in the books they read and within each other's lives. Inspired by a shared desire for conversation, a good book and a glass of wine-Clare, Harriet, Nicole, Polly, and Susan undergo startling revelations and transformations despite their differences in background, age and respective dilemmas. What starts as a reading group gradually evolves into a forum where the women may express their views through the books they read and grow to become increasingly more open as the bonds of friendship cement. In The Reading Group, Noble reveals the many complicated paths in life we all face as well as the power and importance of friendship. This P.S. edition features an extra 16 pages of insights into the book, including author interviews, recommended reading, and more.\n"
          ]
        },
        {
          "output_type": "stream",
          "name": "stderr",
          "text": [
            "\n",
            "  0%|          | 0/1 [00:00<?, ?it/s]\u001b[A\n",
            "100%|██████████| 1/1 [00:00<00:00,  1.08it/s]\n",
            " 22%|██▏       | 66/300 [01:23<03:35,  1.09it/s]"
          ]
        },
        {
          "output_type": "stream",
          "name": "stdout",
          "text": [
            "Processing sequence 66: When Digory and Polly try to return the wicked witch Jadis to her own world, the magic gets mixed up and they all land in Narnia where they witness Aslan blessing the animals with human speech.\n"
          ]
        },
        {
          "output_type": "stream",
          "name": "stderr",
          "text": [
            "\n",
            "  0%|          | 0/1 [00:00<?, ?it/s]\u001b[A\n",
            "100%|██████████| 1/1 [00:00<00:00,  3.65it/s]\n",
            " 22%|██▏       | 67/300 [01:23<02:49,  1.37it/s]"
          ]
        },
        {
          "output_type": "stream",
          "name": "stdout",
          "text": [
            "Processing sequence 67: That hot guy tied to Lissianna Argeneau's bed? He's not dessert—he's the main course! Lissianna has been spending her centuries pining for Mr. Right, not just a quick snack, and this sexy guy she finds in her bed looks like he might be a candidate. But there's another, more pressing issue: her tendency to faint at the sight of blood . . . an especially annoying quirk for a vampire. Of course it doesn't hurt that this man has a delicious-looking neck. What kind of cold-blooded vampire woman could resist a bite of that? Dr. Gregory Hewitt recovers from the shock of waking up in a stranger's bedroom pretty quickly—once he sees a gorgeous woman about to treat him to a wild night of passion. But is it possible for the good doctor to find true love with a vampire vixen, or will he be just a good meal? That's a question Dr. Greg might be willing to sink his teeth into . . . if he can just get Lissianna to bite.\n"
          ]
        },
        {
          "output_type": "stream",
          "name": "stderr",
          "text": [
            "\n",
            "  0%|          | 0/1 [00:00<?, ?it/s]\u001b[A\n",
            "100%|██████████| 1/1 [00:00<00:00,  1.08it/s]\n",
            " 23%|██▎       | 68/300 [01:24<03:03,  1.27it/s]"
          ]
        },
        {
          "output_type": "stream",
          "name": "stdout",
          "text": [
            "Processing sequence 68: The astonishing novel Brave New World, originally published in 1932, presents Aldous Huxley's vision of the future -- of a world utterly transformed. Through the most efficient scientific and psychological engineering, people are genetically designed to be passive and therefore consistently useful to the ruling class. This powerful work of speculative fiction sheds a blazing critical light on the present and is considered to be Huxley's most enduring masterpiece. Following Brave New World is the nonfiction work Brave New World Revisited, first published in 1958. It is a fascinating work in which Huxley uses his tremendous knowledge of human relations to compare the modern-day world with the prophetic fantasy envisioned in Brave New World, including threats to humanity, such as overpopulation, propaganda, and chemical persuasion.\n"
          ]
        },
        {
          "output_type": "stream",
          "name": "stderr",
          "text": [
            "\n",
            "  0%|          | 0/1 [00:00<?, ?it/s]\u001b[A\n",
            "100%|██████████| 1/1 [00:00<00:00,  1.46it/s]\n",
            " 23%|██▎       | 69/300 [01:25<02:55,  1.32it/s]"
          ]
        },
        {
          "output_type": "stream",
          "name": "stdout",
          "text": [
            "Processing sequence 69: Retired to the English countryside, an eighty-nine-year-old man, rumored to be a once-famous detective, is more concerned with his beekeeping than with his fellow man. Into his life wanders Linus Steinman, nine years old and mute, who has escaped from Nazi Germany with his sole companion: an African gray parrot. What is the meaning of the mysterious strings of German numbers the bird spews out -- a top-secret SS code? The keys to a series of Swiss bank accounts? Or do they hold a significance both more prosaic and far more sinister? Though the solution may be beyond even the reach of the once-famous sleuth, the true story of the boy and his parrot is subtly revealed in a wrenching resolution.\n"
          ]
        },
        {
          "output_type": "stream",
          "name": "stderr",
          "text": [
            "\n",
            "  0%|          | 0/1 [00:00<?, ?it/s]\u001b[A\n",
            "100%|██████████| 1/1 [00:00<00:00,  1.45it/s]\n",
            " 23%|██▎       | 70/300 [01:26<02:50,  1.35it/s]"
          ]
        },
        {
          "output_type": "stream",
          "name": "stdout",
          "text": [
            "Processing sequence 70: From the winner of the National Book Foundations' 2000 Medal for Distinguished Contribution to American Letters comes a \"sweet, funny . . . thought–provoking\" (Milwaukee Journal Sentinel) collection of short stories. As in his most recent major fiction collections, One More for the Road (1999) and Driving Blind (1997), Ray Bradbury has once again pulled together a stellar group of stories sure to delight readers of all ages. In The Cat's Pyjamas we are treated to a treasure trove of Bradbury gems old and new –– eerie and strange, nostalgic and bittersweet, searching and speculative –– all but two of which have never been published before. The Cat's Pyjamas is a joyous celebration of the lifelong work of a literary legend.\n"
          ]
        },
        {
          "output_type": "stream",
          "name": "stderr",
          "text": [
            "\n",
            "  0%|          | 0/1 [00:00<?, ?it/s]\u001b[A\n",
            "100%|██████████| 1/1 [00:00<00:00,  1.47it/s]\n",
            " 24%|██▎       | 71/300 [01:26<02:45,  1.38it/s]"
          ]
        },
        {
          "output_type": "stream",
          "name": "stdout",
          "text": [
            "Processing sequence 71: No one in 1917 New York had ever encountered a woman like the Bar-oness Elsa von Freytag-Loringhoven -- poet, artist, proto-punk rocker, sexual libertine, fashion avatar, and unrepentant troublemaker. When she wasn't stalking the streets of Greenwich Village wearing a brassiere made from tomato cans, she was enthusiastically declaiming her poems to sailors in beer halls or posing nude for Man Ray or Marcel Duchamp. In an era of brutal war, technological innovation, and cataclysmic change, the Baroness had resolved to create her own destiny -- taking the center of the Dadaist circle, breaking every bond of female propriety . . . and transforming herself into a living, breathing work of art.\n"
          ]
        },
        {
          "output_type": "stream",
          "name": "stderr",
          "text": [
            "\n",
            "  0%|          | 0/1 [00:00<?, ?it/s]\u001b[A\n",
            "100%|██████████| 1/1 [00:00<00:00,  1.50it/s]\n",
            " 24%|██▍       | 72/300 [01:27<02:41,  1.41it/s]"
          ]
        },
        {
          "output_type": "stream",
          "name": "stdout",
          "text": [
            "Processing sequence 72: Summoned to a small harbor town by a former trenchmate falsely accused of assaulting an ex-lover's husband, Scotland Yard inspector Ian Rutledge is reminded of an affair from his own past and investigates a bizarre coincidence.\n"
          ]
        },
        {
          "output_type": "stream",
          "name": "stderr",
          "text": [
            "\n",
            "  0%|          | 0/1 [00:00<?, ?it/s]\u001b[A\n",
            "100%|██████████| 1/1 [00:00<00:00,  3.67it/s]\n",
            " 24%|██▍       | 73/300 [01:27<02:11,  1.72it/s]"
          ]
        },
        {
          "output_type": "stream",
          "name": "stdout",
          "text": [
            "Processing sequence 73: Go further under the covers and stay in bed a little longer with Marian Keyes in this winning follow-up to her smash essay collection, Under the Duvet. Written in the witty, forthright style that has earned her legions of devoted readers, Cracks in My Foundation offers an even deeper and more candid look into this beloved author's mind and heart, exploring such universal themes as friends and family, home, glamour and beauty, children, travel, and more. Marian's hilarious and thoughtful take on life makes her readers feel they are reading a friend, not just an author. Marian continues to entertain with her reports from the trenches, and throws in some original short fiction as well. Whether it's visiting Siberia, breaking it off with an old hairdresser, shopping (of course!), turning forty, living with her beloved husband, Himself (a man beyond description), or musing on the F word (feminism), Marian shares the joys, passions, and sorrows of her world and helps us feel good about our own. So grab a latte and a pillow and get ready to laugh your slippers off!\n"
          ]
        },
        {
          "output_type": "stream",
          "name": "stderr",
          "text": [
            "\n",
            "  0%|          | 0/1 [00:00<?, ?it/s]\u001b[A\n",
            "100%|██████████| 1/1 [00:00<00:00,  1.06it/s]\n",
            " 25%|██▍       | 74/300 [01:28<02:36,  1.45it/s]"
          ]
        },
        {
          "output_type": "stream",
          "name": "stdout",
          "text": [
            "Processing sequence 74: The evil night things that prowl Cincinnati despise witch and bounty hunter Rachel Morgan. Her new reputation for the dark arts is turning human and undead heads alike with the intent to possess, bed, and kill her -- not necessarily in that order. Now a mortal lover who abandoned Rachel has returned, haunted by his secret past. And there are those who covet what Nick possesses -- savage beasts willing to destroy the Hollows and everyone in it if necessary. Forced to keep a low profile or eternally suffer the wrath of a vengeful demon, Rachel must nevertheless act quickly. For the pack is gathering for the first time in millennia to ravage and to rule. And suddenly more than Rachel's soul is at stake.\n"
          ]
        },
        {
          "output_type": "stream",
          "name": "stderr",
          "text": [
            "\n",
            "  0%|          | 0/1 [00:00<?, ?it/s]\u001b[A\n",
            "100%|██████████| 1/1 [00:00<00:00,  1.59it/s]\n",
            " 25%|██▌       | 75/300 [01:29<02:32,  1.48it/s]"
          ]
        },
        {
          "output_type": "stream",
          "name": "stdout",
          "text": [
            "Processing sequence 75: When a serial murderer begins killing off members of Hollows society, Rachel Morgan finds herself swept up in a brutal Inderland gang war, a situation that is complicated by her demonic nemesis, and the release of a vampire master.\n"
          ]
        },
        {
          "output_type": "stream",
          "name": "stderr",
          "text": [
            "\n",
            "  0%|          | 0/1 [00:00<?, ?it/s]\u001b[A\n",
            "100%|██████████| 1/1 [00:00<00:00,  3.64it/s]\n",
            " 25%|██▌       | 76/300 [01:29<02:05,  1.79it/s]"
          ]
        },
        {
          "output_type": "stream",
          "name": "stdout",
          "text": [
            "Processing sequence 76: By the Pulitzer Prize-winning author of The Amazing Adventures of Kavalier & Clay This P.S. edition features an extra 16 pages of insights into the book, including author interviews, recommended reading, and more.\n"
          ]
        },
        {
          "output_type": "stream",
          "name": "stderr",
          "text": [
            "\n",
            "  0%|          | 0/1 [00:00<?, ?it/s]\u001b[A\n",
            "100%|██████████| 1/1 [00:00<00:00,  3.57it/s]\n",
            " 26%|██▌       | 77/300 [01:29<01:46,  2.09it/s]"
          ]
        },
        {
          "output_type": "stream",
          "name": "stdout",
          "text": [
            "Processing sequence 77: With only a yellowing photograph in hand, a young man -- also named Jonathan Safran Foer -- sets out to find the woman who may or may not have saved his grandfather from the Nazis. Accompanied by an old man haunted by memories of the war; an amorous dog named Sammy Davis, Junior, Junior; and the unforgettable Alex, a young Ukrainian translator who speaks in a sublimely butchered English, Jonathan is led on a quixotic journey over a devastated landscape and into an unexpected past. By turns comic and tragic, but always passionate, wildly inventive, and touched with an indelible humanity, this debut novel is a powerful, deeply felt story of searching: for the past, family, and truth.\n"
          ]
        },
        {
          "output_type": "stream",
          "name": "stderr",
          "text": [
            "\n",
            "  0%|          | 0/1 [00:00<?, ?it/s]\u001b[A\n",
            "100%|██████████| 1/1 [00:00<00:00,  1.47it/s]\n",
            " 26%|██▌       | 78/300 [01:30<02:00,  1.85it/s]"
          ]
        },
        {
          "output_type": "stream",
          "name": "stdout",
          "text": [
            "Processing sequence 78: A new evil threatens Midkemia, its web stretching from the deepest criminal underworld all the way up to the highest seats of power in ancient Kesh. And the Conclave of Shadows, charged unexpectedly with the training of two apprentices, must also best powerful agents of the darkest magic . . . for the fate of two worlds lies in the balance. The New York Times bestselling author and master of fantasy Raymond E. Feist returns to his signature world of Midkemia in this first book in a gripping new trilogy that ushers in the third, and most dramatic, Riftwar yet: the Darkwar. In the middle of the night on Sorcerer's Isle, the powerful sorcerer Pug is awakened from a nightmare that portends destruction for all of Midkemia. Disturbed by the dream, Pug calls for a convening of the Conclave of Shadows. Though Pug does not yet know it, his son Magnus has discovered the cause of Pug's prophetic dream: a beacon has been unleashed, directing a vast army of alien invaders to Midkemia, an army so formidable that even the might of the Tsurani Empire might fall before its fury. Meanwhile, in far Stardock town, two boys are coming of age. But on the dusty path that leads them from home they are thrust by fate into a life undreamed of, becoming enmeshed in intrigue, murder, and treason. Though untrained and unready, they are called upon by the mysterious Conclave to travel deep into the heart of the Empire of Great Kesh, to confront a plot so dark and twisted it will implicate even the highest-ranking nobles of the Empire, even members of the royal family itself. And behind this plot they discover the ancient Brotherhood of Death, the clan of assassins known as the Nighthawks. And Pug will find himself once again facing his old nemesis, the evil wizard formerly known as Sidi, now Leso Varen, in a confrontation with everything at stake: his honor, his life, and the future of Midkemia.\n"
          ]
        },
        {
          "output_type": "stream",
          "name": "stderr",
          "text": [
            "\n",
            "  0%|          | 0/1 [00:00<?, ?it/s]\u001b[A\n",
            "100%|██████████| 1/1 [00:01<00:00,  1.83s/it]\n",
            " 26%|██▋       | 79/300 [01:32<03:26,  1.07it/s]"
          ]
        },
        {
          "output_type": "stream",
          "name": "stdout",
          "text": [
            "Processing sequence 79: Having successfully prevented a civil war within the Empire of Great Kesh, Pug and his allies in the Conclave of Shadows search for the mad sorcerer Leso Varen in the hopes of destroying the Guild of Assassins, an effort that is challenged by the sorcerer's powerful protectors and a planned invasion by the Dasati. By the author of Flight of the Nighthawks. 75,000 first printing.\n"
          ]
        },
        {
          "output_type": "stream",
          "name": "stderr",
          "text": [
            "\n",
            "  0%|          | 0/1 [00:00<?, ?it/s]\u001b[A\n",
            "100%|██████████| 1/1 [00:00<00:00,  2.34it/s]\n",
            " 27%|██▋       | 80/300 [01:32<02:52,  1.28it/s]"
          ]
        },
        {
          "output_type": "stream",
          "name": "stdout",
          "text": [
            "Processing sequence 80: After pitched battle, The White—the avatars of the Five Gods—have briefly turned back the vicious invaders. And now, the priestess Auraya is sent on an urgent mission to reconcile with the powerful, outcast Dreamweavers, for their magical healing abilities may be the key to saving the land. But as a deadly plague devastates their allies and old adversaries resurface, a dreadful surprise may ruin the chance for peace. For Auraya's terrible discovery will force her into a desperate choice—one whose consequences will change the world forever.\n"
          ]
        },
        {
          "output_type": "stream",
          "name": "stderr",
          "text": [
            "\n",
            "  0%|          | 0/1 [00:00<?, ?it/s]\u001b[A\n",
            "100%|██████████| 1/1 [00:00<00:00,  1.29it/s]\n",
            " 27%|██▋       | 81/300 [01:33<02:51,  1.28it/s]"
          ]
        },
        {
          "output_type": "stream",
          "name": "stdout",
          "text": [
            "Processing sequence 81: Unable to avoid being drawn into the terrible conflict, Auraya, now protector of the Siyee, fears she will be unable to meet the conditions of the all-powerful gods she once served. And an offer from a mysterious woman may be impossible for Auraya to refuse, but, if revealed, would brand her an enemy of the gods. Now, the immortal Wilds will not be deterred in their quest for powerful, long-buried secrets. But they have deadly adversaries who also seek the world-shattering truth . . . and it may appear in a form that no one anticipates.\n"
          ]
        },
        {
          "output_type": "stream",
          "name": "stderr",
          "text": [
            "\n",
            "  0%|          | 0/1 [00:00<?, ?it/s]\u001b[A\n",
            "100%|██████████| 1/1 [00:00<00:00,  1.09it/s]\n",
            " 27%|██▋       | 82/300 [01:34<03:00,  1.21it/s]"
          ]
        },
        {
          "output_type": "stream",
          "name": "stdout",
          "text": [
            "Processing sequence 82: Nikki Eaton, single, thirty-one, sexually liberated, and economically self-supporting, has never particularly thought of herself as a daughter. Yet, following the unexpected loss of her mother, she undergoes a remarkable transformation during a tumultuous year that brings stunning horror, sorrow, illumination, wisdom, and even—from an unexpected source—a nurturing love.\n"
          ]
        },
        {
          "output_type": "stream",
          "name": "stderr",
          "text": [
            "\n",
            "  0%|          | 0/1 [00:00<?, ?it/s]\u001b[A\n",
            "100%|██████████| 1/1 [00:00<00:00,  1.69it/s]\n",
            " 28%|██▊       | 83/300 [01:35<02:44,  1.32it/s]"
          ]
        },
        {
          "output_type": "stream",
          "name": "stdout",
          "text": [
            "Processing sequence 83: Bryony Ashley knows that her family's grand estate is both hell and paradise -- once elegant and beautiful, yet mired in debt and shrouded in shadow. Devastated by her father;s sudden strange death abroad, she is nonetheless relieved to learn the responsibility of running Ashley Court has fallen to a cousin. Still, her father's final, dire warning about a terrible family curse haunts her days and her dreams.\n"
          ]
        },
        {
          "output_type": "stream",
          "name": "stderr",
          "text": [
            "\n",
            "  0%|          | 0/1 [00:00<?, ?it/s]\u001b[A\n",
            "100%|██████████| 1/1 [00:00<00:00,  1.65it/s]\n",
            " 28%|██▊       | 84/300 [01:35<02:34,  1.39it/s]"
          ]
        },
        {
          "output_type": "stream",
          "name": "stdout",
          "text": [
            "Processing sequence 84: A chronicle of the breathtaking exploits of \"Half-Cocked Jack\" Shaftoe -- London street urchin-turned-legendary swashbuckling adventurer -- risking life and limb for fortune and love while slowly maddening from the pox. . . and Eliza, rescued by Jack from a Turkish harem to become spy, confidante, and pawn of royals in order to reinvent a contentious continent through the newborn power of finance.\n"
          ]
        },
        {
          "output_type": "stream",
          "name": "stderr",
          "text": [
            "\n",
            "  0%|          | 0/1 [00:00<?, ?it/s]\u001b[A\n",
            "100%|██████████| 1/1 [00:00<00:00,  2.20it/s]\n",
            " 28%|██▊       | 85/300 [01:36<02:17,  1.56it/s]"
          ]
        },
        {
          "output_type": "stream",
          "name": "stdout",
          "text": [
            "Processing sequence 85: The trials of Dr. Daniel Waterhouse and the Natural Philosophers increase one hundredfold in an England plagued by the impending war and royal insecurities -- as the beautiful and ambitious Eliza plays a most dangerous game as double agent and confidante of enemy kings.\n"
          ]
        },
        {
          "output_type": "stream",
          "name": "stderr",
          "text": [
            "\n",
            "  0%|          | 0/1 [00:00<?, ?it/s]\u001b[A\n",
            "100%|██████████| 1/1 [00:00<00:00,  3.25it/s]\n",
            " 29%|██▊       | 86/300 [01:36<01:56,  1.84it/s]"
          ]
        },
        {
          "output_type": "stream",
          "name": "stdout",
          "text": [
            "Processing sequence 86: The Sheltering Sky is a landmark of twentieth-century literature. In this intensely fascinating story, Paul Bowles examines the ways in which Americans' incomprehension of alien cultures leads to the ultimate destruction of those cultures. A story about three American travelers adrift in the cities and deserts of North Africa after World War II, The Sheltering Sky explores the limits of humanity when it touches the unfathomable emptiness and impassive cruelty of the desert. This P.S. edition features an extra 16 pages of insights into the book, including author interviews, recommended reading, and more.\n"
          ]
        },
        {
          "output_type": "stream",
          "name": "stderr",
          "text": [
            "\n",
            "  0%|          | 0/1 [00:00<?, ?it/s]\u001b[A\n",
            "100%|██████████| 1/1 [00:00<00:00,  1.91it/s]\n",
            " 29%|██▉       | 87/300 [01:37<01:55,  1.85it/s]"
          ]
        },
        {
          "output_type": "stream",
          "name": "stdout",
          "text": [
            "Processing sequence 87: A saga of three generations of the indomitable Cleary family begins in the early 1900s when Paddy Cleary, a poor New Zealand farm laborer, moves his wife and children to the Australian sheep station owned by his wealthy sister, in a new edition of the classic novel of forbidden love between young Meggie Cleary and Father Ralph de Bricassart. Reprint. 15,000 first printing.\n"
          ]
        },
        {
          "output_type": "stream",
          "name": "stderr",
          "text": [
            "\n",
            "  0%|          | 0/1 [00:00<?, ?it/s]\u001b[A\n",
            "100%|██████████| 1/1 [00:00<00:00,  2.38it/s]\n",
            " 29%|██▉       | 88/300 [01:37<01:47,  1.97it/s]"
          ]
        },
        {
          "output_type": "stream",
          "name": "stdout",
          "text": [
            "Processing sequence 88: Introspective professional assassin John Keller, the anti-hero of Hit Man and Hit List, continues to ponder his life, the ethics of his lethal career, and his possible retirement as he returns in an all-new mystery adventure. 100,000 first printing.\n"
          ]
        },
        {
          "output_type": "stream",
          "name": "stderr",
          "text": [
            "\n",
            "  0%|          | 0/1 [00:00<?, ?it/s]\u001b[A\n",
            "100%|██████████| 1/1 [00:00<00:00,  3.45it/s]\n",
            " 30%|██▉       | 89/300 [01:37<01:33,  2.25it/s]"
          ]
        },
        {
          "output_type": "stream",
          "name": "stdout",
          "text": [
            "Processing sequence 89: In late 1940s New York City, Cesar and Nestor Castillo, two young Cuban musicians, are dubbed the \"Mambo Kings\" for their talent and rise to superstardom. Reissue. (Tie in to the Broadway musical production, produced by Daryl Roth, opening August 2005) (Historical Fiction)\n"
          ]
        },
        {
          "output_type": "stream",
          "name": "stderr",
          "text": [
            "\n",
            "  0%|          | 0/1 [00:00<?, ?it/s]\u001b[A\n",
            "100%|██████████| 1/1 [00:00<00:00,  2.82it/s]\n",
            " 30%|███       | 90/300 [01:38<01:28,  2.38it/s]"
          ]
        },
        {
          "output_type": "stream",
          "name": "stdout",
          "text": [
            "Processing sequence 90: Lizzie Nichols discovers that her inability to keep her mouth shut has landed her once again in hot water when she aggravates her unfaithful boyfriend, Andy, is stranded in London, and takes a job as a bartender for a catered wedding at a French chateau, an affair that ends with the groom in disgrace, a furious bride, and Andy returning to ruin everything. 100,000 first printing.\n"
          ]
        },
        {
          "output_type": "stream",
          "name": "stderr",
          "text": [
            "\n",
            "  0%|          | 0/1 [00:00<?, ?it/s]\u001b[A\n",
            "100%|██████████| 1/1 [00:00<00:00,  2.31it/s]\n",
            " 30%|███       | 91/300 [01:38<01:29,  2.35it/s]"
          ]
        },
        {
          "output_type": "stream",
          "name": "stdout",
          "text": [
            "Processing sequence 91: According to The Nice and Accurate Prophecies of Agnes Nutter, Witch (the world's only completely accurate book of prophecies, written in 1655, before she exploded), the world will end on a Saturday. Next Saturday, in fact. Just before dinner. So the armies of Good and Evil are amassing, Atlantis is rising, frogs are falling, tempers are flaring. Everything appears to be going according to Divine Plan. Except a somewhat fussy angel and a fast-living demon—both of whom have lived amongst Earth's mortals since The Beginning and have grown rather fond of the lifestyle—are not actually looking forward to the coming Rapture. And someone seems to have misplaced the Antichrist . . .\n"
          ]
        },
        {
          "output_type": "stream",
          "name": "stderr",
          "text": [
            "\n",
            "  0%|          | 0/1 [00:00<?, ?it/s]\u001b[A\n",
            "100%|██████████| 1/1 [00:00<00:00,  1.54it/s]\n",
            " 31%|███       | 92/300 [01:39<01:43,  2.02it/s]"
          ]
        },
        {
          "output_type": "stream",
          "name": "stdout",
          "text": [
            "Processing sequence 92: She thought her date was out of this world. Actually, he was not of this world . . . We've all been on bad dates, nightmare dates, dreadful experiences that turned out to be uniquely memorable in the very worst way. But at least our partners for these detestable evenings were more or less . . . human! Now Kim Harrison, Lynsay Sands, Kelley Armstrong, and Lori Handeland -- four of the very best writers currently exploring the dangerous seduction of the supernatural -- offer up dating disasters (and unexpected delights) of a completely different sort: dark, wicked, paranormally sensual assignations with werewolves, demon lovers, and the romantically challenged undead. Sexy, witty, chilling, and altogether remarkable, here is proof positive that some love matches are made someplace other than heaven.\n"
          ]
        },
        {
          "output_type": "stream",
          "name": "stderr",
          "text": [
            "\n",
            "  0%|          | 0/1 [00:00<?, ?it/s]\u001b[A\n",
            "100%|██████████| 1/1 [00:00<00:00,  1.34it/s]\n",
            " 31%|███       | 93/300 [01:40<01:58,  1.74it/s]"
          ]
        },
        {
          "output_type": "stream",
          "name": "stdout",
          "text": [
            "Processing sequence 93: A powerful literary classic from one of contemporary fiction's most acclaimed and important writers, Russell Banks's Continental Drift is a masterful novel of hope lost and gained, and a gripping, indelible story of fragile lives uprooted and transformed by injustice, disappointment, and the seductions and realities of the American dream.\n"
          ]
        },
        {
          "output_type": "stream",
          "name": "stderr",
          "text": [
            "\n",
            "  0%|          | 0/1 [00:00<?, ?it/s]\u001b[A\n",
            "100%|██████████| 1/1 [00:00<00:00,  2.90it/s]\n",
            " 31%|███▏      | 94/300 [01:40<01:44,  1.97it/s]"
          ]
        },
        {
          "output_type": "stream",
          "name": "stdout",
          "text": [
            "Processing sequence 94: Bookseller Bernie Rhodenbarr's in love—with an exotic Eastern European beauty who shares his obsession with Humphrey Bogart movies. He's in heaven, munching popcorn with his new amour every night at a Bogart Film Festival—until their Casablanca-esque idyll is cut short by his other secret passion: burglary. When he's hired to pilfer a portfolio of valuable documents from a Park Avenue apartment, Bernie can hardly refuse. But the occupant's early return forces Bernie to flee empty-handed—and he soon finds himself implicated in a murder. Before you can say \"who stole the strawberries?\" he's hunting for a killer, up to his neck in the outrageous intrigues of a tiny Balkan nation . . . and menaced by more sinister fat men and unsavory toadies than the great Bogie himself butted heads with in pursuit of that darn bird!\n"
          ]
        },
        {
          "output_type": "stream",
          "name": "stderr",
          "text": [
            "\n",
            "  0%|          | 0/1 [00:00<?, ?it/s]\u001b[A\n",
            "100%|██████████| 1/1 [00:00<00:00,  1.27it/s]\n",
            " 32%|███▏      | 95/300 [01:41<02:01,  1.68it/s]"
          ]
        },
        {
          "output_type": "stream",
          "name": "stdout",
          "text": [
            "Processing sequence 95: Is a loved one missing some body parts? Are blondes becoming extinct? Is everyone at your dinner table of the same species? Humans and chimpanzees differ in only 400 genes; is that why a chimp fetus resembles a human being? And should that worry us? There's a new genetic cure for drug addiction—is it worse than the disease? We live in a time of momentous scientific leaps, a time when it's possible to sell our eggs and sperm online for thousands of dollars and to test our spouses for genetic maladies. We live in a time when one fifth of all our genes are owned by someone else, and an unsuspecting person and his family can be pursued cross-country because they happen to have certain valuable genes within their chromosomes . . . Devilishly clever, Next blends fact and fiction into a breathless tale of a new world where nothing is what it seems and a set of new possibilities can open at every turn. Next challenges our sense of reality and notions of morality. Balancing the comic and the bizarre with the genuinely frightening and disturbing, Next shatters our assumptions and reveals shocking new choices where we least expect. The future is closer than you think.\n"
          ]
        },
        {
          "output_type": "stream",
          "name": "stderr",
          "text": [
            "\n",
            "  0%|          | 0/1 [00:00<?, ?it/s]\u001b[A\n",
            "100%|██████████| 1/1 [00:01<00:00,  1.00s/it]\n",
            " 32%|███▏      | 96/300 [01:42<02:26,  1.39it/s]"
          ]
        },
        {
          "output_type": "stream",
          "name": "stdout",
          "text": [
            "Processing sequence 96: One of Gabriel García Márquez's most intricate and ambitious works, The Autumn of the Patriarch is a brilliant tale of a Caribbean tyrant and the corruption of power. From charity to deceit, benevolence to violence, fear of God to extreme cruelty, the dictator of The Autumn of the Patriarch embodies the best and the worst of human nature. Gabriel García Márquez, the renowned master of magical realism, vividly portrays the dying tyrant caught in the prison of his own dictator-ship. Employing an innovative, dreamlike style, and overflowing with symbolic descriptions, the novel transports the reader to a world that is at once fanciful and real.\n"
          ]
        },
        {
          "output_type": "stream",
          "name": "stderr",
          "text": [
            "\n",
            "  0%|          | 0/1 [00:00<?, ?it/s]\u001b[A\n",
            "100%|██████████| 1/1 [00:00<00:00,  1.58it/s]\n",
            " 32%|███▏      | 97/300 [01:42<02:21,  1.44it/s]"
          ]
        },
        {
          "output_type": "stream",
          "name": "stdout",
          "text": [
            "Processing sequence 97: Claudia Corvette. From her tousled bedroom hair to her name–all the porn stars in this world take their names from supermodels and sports cars–she is adult entertainment's prototypical femme fatale. Her life is the collision of countless troubled–childhood cliches and grown–up wet dreams, projected onto her as surely as her videos project their blue light onto lonely men around the world. From its first panel, How to Make Money Like a Porn Star draws the reader into the dark world of girls like Claudia, the men who fantasize about them, and the monsters who control them. In the hands of Rolling Stone writer Neil Strauss and illustrator Bernard Chang, this adult graphic novel weaves together black humor and blacker reality. Like all great American stories, it features humble beginnings, life–changing tragedy, stripping, abuse, implants, fame, addiction, bigger implants, abduction, gunplay, downfall, and even bigger implants. Not to mention a thousand shades of latex and L'Oreal. Part parody, part morality tale, here is the truth about the porn life, its outsized visual splendor captured in a comic parade of doe–eyed centerfolds, its essence distilled in a story that will haunt every reader who has ever wondered where his next fantasy is coming from.\n"
          ]
        },
        {
          "output_type": "stream",
          "name": "stderr",
          "text": [
            "\n",
            "  0%|          | 0/1 [00:00<?, ?it/s]\u001b[A\n",
            "100%|██████████| 1/1 [00:01<00:00,  1.08s/it]\n",
            " 33%|███▎      | 98/300 [01:43<02:44,  1.23it/s]"
          ]
        },
        {
          "output_type": "stream",
          "name": "stdout",
          "text": [
            "Processing sequence 98: \"My heart is afraid that it will have to suffer,\" the boy told the alchemist one night as they looked up at the moonless sky.\" Tell your heart that the fear of suffering is worse than the suffering itself. And that no heart has ever suffered when it goes in search of its dreams.\" Every few decades a book is published that changes the lives of its readers forever. The Alchemist is such a book. With over a million and a half copies sold around the world, The Alchemist has already established itself as a modern classic, universally admired. Paulo Coelho's charming fable, now available in English for the first time, will enchant and inspire an even wider audience of readers for generations to come. The Alchemist is the magical story of Santiago, an Andalusian shepherd boy who yearns to travel in search of a worldly treasure as extravagant as any ever found. From his home in Spain he journeys to the markets of Tangiers and across the Egyptian desert to a fateful encounter with the alchemist. The story of the treasures Santiago finds along the way teaches us, as only a few stories have done, about the essential wisdom of listening to our hearts, learning to read the omens strewn along life's path, and, above all, following our dreams.\n"
          ]
        },
        {
          "output_type": "stream",
          "name": "stderr",
          "text": [
            "\n",
            "  0%|          | 0/1 [00:00<?, ?it/s]\u001b[A\n",
            "100%|██████████| 1/1 [00:01<00:00,  1.08s/it]\n",
            " 33%|███▎      | 99/300 [01:45<03:00,  1.11it/s]"
          ]
        },
        {
          "output_type": "stream",
          "name": "stdout",
          "text": [
            "Processing sequence 99: An ambassador of the tenth-century Caliph of Bagdad is carried off by the Norsemen to endure, for three years, the harshness of their way of life and the creatures that terrorize them.\n"
          ]
        },
        {
          "output_type": "stream",
          "name": "stderr",
          "text": [
            "\n",
            "  0%|          | 0/1 [00:00<?, ?it/s]\u001b[A\n",
            "100%|██████████| 1/1 [00:00<00:00,  3.74it/s]\n",
            " 33%|███▎      | 100/300 [01:45<02:22,  1.41it/s]"
          ]
        },
        {
          "output_type": "stream",
          "name": "stdout",
          "text": [
            "Processing sequence 100: Five days after a terrorist attack decimates his home city, Brian Remy struggles with gaps in his memory pertaining to a self-inflicted gunshot wound, a girlfriend whose name he does not know, and deteriorating eyesight, a situation that is further challenged when he is recruited to gather information for a shadowy intelligence operation. 100,000 first printing.\n"
          ]
        },
        {
          "output_type": "stream",
          "name": "stderr",
          "text": [
            "\n",
            "  0%|          | 0/1 [00:00<?, ?it/s]\u001b[A\n",
            "100%|██████████| 1/1 [00:00<00:00,  2.76it/s]\n",
            " 34%|███▎      | 101/300 [01:45<02:01,  1.64it/s]"
          ]
        },
        {
          "output_type": "stream",
          "name": "stdout",
          "text": [
            "Processing sequence 101: The highly original satire about Oedipa Maas, a woman who finds herself enmeshed in a worldwide conspiracy, meets some extremely interesting characters, and attains a not inconsiderable amount of self knowledge.\n"
          ]
        },
        {
          "output_type": "stream",
          "name": "stderr",
          "text": [
            "\n",
            "  0%|          | 0/1 [00:00<?, ?it/s]\u001b[A\n",
            "100%|██████████| 1/1 [00:00<00:00,  2.26it/s]\n",
            " 34%|███▍      | 102/300 [01:46<01:51,  1.78it/s]"
          ]
        },
        {
          "output_type": "stream",
          "name": "stdout",
          "text": [
            "Processing sequence 102: John Buddy Pearson, a young Black man who becomes a popular pastor at Zion Hope, is unable to reconcile his good intentions and his natural instincts\n"
          ]
        },
        {
          "output_type": "stream",
          "name": "stderr",
          "text": [
            "\n",
            "  0%|          | 0/1 [00:00<?, ?it/s]\u001b[A\n",
            "100%|██████████| 1/1 [00:00<00:00,  2.96it/s]\n",
            " 34%|███▍      | 103/300 [01:46<01:38,  2.01it/s]"
          ]
        },
        {
          "output_type": "stream",
          "name": "stdout",
          "text": [
            "Processing sequence 103: A collection of short stories, most of which appeared in literary magazines during the author's lifetime, along with previously unpublished works, spans the career of one of the century's foremost African-American writers. Reprint.\n"
          ]
        },
        {
          "output_type": "stream",
          "name": "stderr",
          "text": [
            "\n",
            "  0%|          | 0/1 [00:00<?, ?it/s]\u001b[A\n",
            "100%|██████████| 1/1 [00:00<00:00,  2.39it/s]\n",
            " 35%|███▍      | 104/300 [01:46<01:33,  2.10it/s]"
          ]
        },
        {
          "output_type": "stream",
          "name": "stdout",
          "text": [
            "Processing sequence 104: Selling more than 65,000 copies and topping bestseller lists around the world -- including Spain, Germany, Italy, and Latin America -- this novel tells the engrossing story of one man's quest for love and for his soul.\n"
          ]
        },
        {
          "output_type": "stream",
          "name": "stderr",
          "text": [
            "\n",
            "  0%|          | 0/1 [00:00<?, ?it/s]\u001b[A\n",
            "100%|██████████| 1/1 [00:00<00:00,  2.26it/s]\n",
            " 35%|███▌      | 105/300 [01:47<01:31,  2.13it/s]"
          ]
        },
        {
          "output_type": "stream",
          "name": "stdout",
          "text": [
            "Processing sequence 105: In Sucess Stories, an exceptionally varied yet coherent collection, Russell Banks proves himself one of the most astute and forceful writers in America today. Queen for a Day, Success Story, and Adultery trace fortunes of the Painter family in there pursuit of and retreat from the American dream. Banks also explores the ethos of rampant materialism in a group of contemporary moral fables. The Fish is an evocating parable of faith and greed set in a Southeast Asian village, The Gully tells of the profitability of violence and the ironies of upward mobility in a Latin American shantytown, and Chrildren's Story explores the repressed rage that boils beneath the surface of relationships between parents and children and between citizens of the first and third worlds.\n"
          ]
        },
        {
          "output_type": "stream",
          "name": "stderr",
          "text": [
            "\n",
            "  0%|          | 0/1 [00:00<?, ?it/s]\u001b[A\n",
            "100%|██████████| 1/1 [00:01<00:00,  1.05s/it]\n",
            " 35%|███▌      | 106/300 [01:48<02:05,  1.54it/s]"
          ]
        },
        {
          "output_type": "stream",
          "name": "stdout",
          "text": [
            "Processing sequence 106: Hijuelos' novel tells the story of Mr. Ives, who was adopted from a foundling's home as a child. When we first meet him in the 1950s, Mr. Ives is very much a product of his time. He has a successful career in advertising, a wife and two children, and believes he is on his way to pursuing the typical American dream. But the dream is shattered when his son Robert, who is studying for the priesthood, is killed violently at Christmas. Overwhelmed by grief and threatened by a loss of faith in humankind, Mr. Ives begins to question the very foundations of his life. Part love story--of a man for his wife, for his children, for God--and part meditation on how a person can find spiritual peace in the midst of crisis, Mr. Ives' Christmas is a beautifully written, tender and passionate story of a man trying to put his life in perspective. In the expert hands of Oscar Hijuelos, the novel speaks eloquently to the most basic and fulfilling aspects of life for all of us.\n"
          ]
        },
        {
          "output_type": "stream",
          "name": "stderr",
          "text": [
            "\n",
            "  0%|          | 0/1 [00:00<?, ?it/s]\u001b[A\n",
            "100%|██████████| 1/1 [00:00<00:00,  1.10it/s]\n",
            " 36%|███▌      | 107/300 [01:49<02:20,  1.37it/s]"
          ]
        },
        {
          "output_type": "stream",
          "name": "stdout",
          "text": [
            "Processing sequence 107: Milan Kundera's lightest novel, a divertimento, an opera buffa, Slowness is also the first of this author's fictional works to have been written in French. Disconcerted and enchanted, the reader follows the narrator of Slowness through a midsummer's night in which two tales of seduction, separated by more than two hundred years, interweave and oscillate between the sublime and the comic. Underlying this libertine fantasy is a profound meditation on contemporary life: about the secret bond between slowness and memory, about the connection between our era's desire to forget and the way we have given ourselves over to the demon of speed. And about \"dancers\" possessed by the passion to be seen, for whom life is merely a perpetual show emptied of every intimacy and every joy.\n"
          ]
        },
        {
          "output_type": "stream",
          "name": "stderr",
          "text": [
            "\n",
            "  0%|          | 0/1 [00:00<?, ?it/s]\u001b[A\n",
            "100%|██████████| 1/1 [00:00<00:00,  1.40it/s]\n",
            " 36%|███▌      | 108/300 [01:50<02:19,  1.38it/s]"
          ]
        },
        {
          "output_type": "stream",
          "name": "stdout",
          "text": [
            "Processing sequence 108: Elijah, a biblical prophet in the Middle East during the ninth century B.C., confronts the pagan princess Jezebel and finds love in the strange land of Zarephath with a young widow, only to have his new-found happiness shattered by tragedy\n"
          ]
        },
        {
          "output_type": "stream",
          "name": "stderr",
          "text": [
            "\n",
            "  0%|          | 0/1 [00:00<?, ?it/s]\u001b[A\n",
            "100%|██████████| 1/1 [00:00<00:00,  3.23it/s]\n",
            " 36%|███▋      | 109/300 [01:50<01:55,  1.65it/s]"
          ]
        },
        {
          "output_type": "stream",
          "name": "stdout",
          "text": [
            "Processing sequence 109: The wild, macabre tale of the twentieth century and of two men -- one looking for something he has lost, the other with nothing much to lose -- and \"V.,\" the unknown woman of the title.\n"
          ]
        },
        {
          "output_type": "stream",
          "name": "stderr",
          "text": [
            "\n",
            "  0%|          | 0/1 [00:00<?, ?it/s]\u001b[A\n",
            "100%|██████████| 1/1 [00:00<00:00,  3.59it/s]\n",
            " 37%|███▋      | 110/300 [01:50<01:36,  1.96it/s]"
          ]
        },
        {
          "output_type": "stream",
          "name": "stdout",
          "text": [
            "Processing sequence 110: There are situations in which we fail for a moment to recognize the person we are with, in which the identity of the other is erased while we simultaneously doubt our own. This also happens with couples--indeed, above all with couples, because lovers fear more than anything else \"losing sight\" of the loved one. With stunning artfulness in expanding and playing variations on the meaningful moment, Milan Kundera has made this situation--and the vague sense of panic it inspires--the very fabric of his new novel. Here brevity goes hand in hand with intensity, and a moment of bewilderment marks the start of a labyrinthine journey during which the reader repeatedly crosses the border between the real and the unreal, between what occurs in the world outside and what the mind creates in its solitude. Of all contemporary writers, only Kundera can transform such a hidden and disconcerting perception into the material for a novel, one of his finest, most painful, and most enlightening. Which, surprisingly, turns out to be a love story.\n"
          ]
        },
        {
          "output_type": "stream",
          "name": "stderr",
          "text": [
            "\n",
            "  0%|          | 0/1 [00:00<?, ?it/s]\u001b[A\n",
            "100%|██████████| 1/1 [00:00<00:00,  1.16it/s]\n",
            " 37%|███▋      | 111/300 [01:51<01:56,  1.62it/s]"
          ]
        },
        {
          "output_type": "stream",
          "name": "stdout",
          "text": [
            "Processing sequence 111: Nathan Price, a evangelical Baptist who in 1959 has taken his wife and four daughters on a mission to the Belgian Congo, finds that their traditions are no longer secure in this very different world. Reprint. 250,000 first printing.\n"
          ]
        },
        {
          "output_type": "stream",
          "name": "stderr",
          "text": [
            "\n",
            "  0%|          | 0/1 [00:00<?, ?it/s]\u001b[A\n",
            "100%|██████████| 1/1 [00:00<00:00,  3.61it/s]\n",
            " 37%|███▋      | 112/300 [01:51<01:37,  1.93it/s]"
          ]
        },
        {
          "output_type": "stream",
          "name": "stdout",
          "text": [
            "Processing sequence 112: A triumph of the imagination and a masterpiece of modern storytelling, Cloudsplitter is narrated by the enigmatic Owen Brown, last surviving son of America's most famous and still controversial political terrorist and martyr, John Brown. Deeply researched, brilliantly plotted, and peopled with a cast of unforgettable characters both historical and wholly invented, Cloudsplitter is dazzling in its re-creation of the political and social landscape of our history during the years before the Civil War, when slavery was tearing the country apart. But within this broader scope, Russell Banks has given us a riveting, suspenseful, heartbreaking narrative filled with intimate scenes of domestic life, of violence and action in battle, of romance and familial life and death that make the reader feel in astonishing ways what it is like to be alive in that time.\n"
          ]
        },
        {
          "output_type": "stream",
          "name": "stderr",
          "text": [
            "\n",
            "  0%|          | 0/1 [00:00<?, ?it/s]\u001b[A\n",
            "100%|██████████| 1/1 [00:00<00:00,  1.38it/s]\n",
            " 38%|███▊      | 113/300 [01:52<01:49,  1.71it/s]"
          ]
        },
        {
          "output_type": "stream",
          "name": "stdout",
          "text": [
            "Processing sequence 113: Renowned as a master of magical realism, Gabriel Garcia Marquez has long delighted readers around the world with his exquisitely crafted prose. Brimming with unforgettable characters and set in exotic locales, his fiction transports readers to a world that is at once fanciful, haunting, and real. Leaf Storm, Gabriel Garcia Marquez's first novella, introduces the mythical village of Macondo, a desolate town beset by torrents of rain, where a man must fulfill a promise made years earlier. No One Writes to the Colonel is a novella of life in a decaying tropical town in Colombia with an unforgettable central character. Chronicle of a Death Foretold is a dark and profound story of three people joined together in a fatal act of violence.\n"
          ]
        },
        {
          "output_type": "stream",
          "name": "stderr",
          "text": [
            "\n",
            "  0%|          | 0/1 [00:00<?, ?it/s]\u001b[A\n",
            "100%|██████████| 1/1 [00:00<00:00,  1.50it/s]\n",
            " 38%|███▊      | 114/300 [01:53<01:53,  1.63it/s]"
          ]
        },
        {
          "output_type": "stream",
          "name": "stdout",
          "text": [
            "Processing sequence 114: Collected here are twenty-six of Gabriel Garcia Marquez's most brilliant and enchanting short stories, presented in the chronological order of their publication in Spanish from three volumes: Eyes of a Blue Dog,Big Mama's Funeral, and The Incredible and Sad Tale of lnnocent Eréndira and Her Heartless Grandmother. Combining mysticism, history, and humor, the stories in this collection span more than two decades, illuminating the development of Marquez's prose and exhibiting the themes of family, poverty, and death that resound throughout his fiction.\n"
          ]
        },
        {
          "output_type": "stream",
          "name": "stderr",
          "text": [
            "\n",
            "  0%|          | 0/1 [00:00<?, ?it/s]\u001b[A\n",
            "100%|██████████| 1/1 [00:00<00:00,  1.92it/s]\n",
            " 38%|███▊      | 115/300 [01:53<01:48,  1.71it/s]"
          ]
        },
        {
          "output_type": "stream",
          "name": "stdout",
          "text": [
            "Processing sequence 115: Bobby Jobe is a pro golfer whose swing is better than his attitude. When he bogies the last four holes and blows his lead in a major tournament -- again -- he berates his caddy, Henry \"Greyhound\" Mote. Jobe loses both Greyhound, who walks off the course, and the game. And before the day is out, he'll lose his eyesight to a lightning strike and his future in golf -- unless he can do what no one has ever done blind: make a comeback. Bob Cullen's funny and wise story, full of PGA lore, perfectly captures the mysterious and irresistible nature of the game of golf, not to mention, love, friendship, and life.\n"
          ]
        },
        {
          "output_type": "stream",
          "name": "stderr",
          "text": [
            "\n",
            "  0%|          | 0/1 [00:00<?, ?it/s]\u001b[A\n",
            "100%|██████████| 1/1 [00:00<00:00,  1.54it/s]\n",
            " 39%|███▊      | 116/300 [01:54<01:51,  1.64it/s]"
          ]
        },
        {
          "output_type": "stream",
          "name": "stdout",
          "text": [
            "Processing sequence 116: The Great Depression has bound a nation in despair -- and only a privileged few have risen above it: the exorbitantly wealthy ... and the hucksters who feed upon them. Diego, a seventeen-year-old illegal Mexican immigrant, owes his salvation to master grifter Thomas Schell. Together with Schell's gruff and powerful partner, they sail comfortably through hard times, scamming New York's grieving rich with elaborate, ingeniously staged séances -- until an impossible occurrence changes everything. While \"communing with spirits,\" Schell sees an image of a young girl in a pane of glass, silently entreating the con man for help. Though well aware that his otherworldly \"powers\" are a sham, Schell inexplicably offers his services to help find the lost child -- drawing Diego along with him into a tangled maze of deadly secrets and terrible experimentation. At once a hypnotically compelling mystery and a stunningly evocative portrait of Depression-era New York, The Girl in the Glass is a masterly literary adventure from a writer of exemplary vision and skill.\n"
          ]
        },
        {
          "output_type": "stream",
          "name": "stderr",
          "text": [
            "\n",
            "  0%|          | 0/1 [00:00<?, ?it/s]\u001b[A\n",
            "100%|██████████| 1/1 [00:00<00:00,  1.09it/s]\n",
            " 39%|███▉      | 117/300 [01:55<02:08,  1.42it/s]"
          ]
        },
        {
          "output_type": "stream",
          "name": "stdout",
          "text": [
            "Processing sequence 117: Suddenly confronted with his own mortality after a routine checkup, eminent psychotherapist Julius Hertzfeld is forced to reexamine his life and work -- and seeks out Philip Slate, a sex addict whom he failed to help some twenty years earlier. Yet Philip claims to be cured -- miraculously transformed by the pessimistic teachings of German philosopher Arthur Schopenhauer -- and is, himself, a philosophical counselor in training. Philips dour, misanthropic stance compels Julius to invite Philip to join his intensive therapy group in exchange for tutoring on Schopenhauer. But with mere months left, life may be far too short to help Philip or to compete with him for the hearts and minds of the group members. And then again, it might be just long enough.\n"
          ]
        },
        {
          "output_type": "stream",
          "name": "stderr",
          "text": [
            "\n",
            "  0%|          | 0/1 [00:00<?, ?it/s]\u001b[A\n",
            "100%|██████████| 1/1 [00:00<00:00,  1.49it/s]\n",
            " 39%|███▉      | 118/300 [01:56<02:06,  1.44it/s]"
          ]
        },
        {
          "output_type": "stream",
          "name": "stdout",
          "text": [
            "Processing sequence 118: The story of a young couple from Brooklyn who marry young, have little money, and face bitter parental opposition, but are determined to make something of their life together.\n"
          ]
        },
        {
          "output_type": "stream",
          "name": "stderr",
          "text": [
            "\n",
            "  0%|          | 0/1 [00:00<?, ?it/s]\u001b[A\n",
            "100%|██████████| 1/1 [00:00<00:00,  3.87it/s]\n",
            " 40%|███▉      | 119/300 [01:56<01:42,  1.76it/s]"
          ]
        },
        {
          "output_type": "stream",
          "name": "stdout",
          "text": [
            "Processing sequence 119: Set in Liberia and the United States from 1975 through 1991, The Darling is the story of Hannah Musgrave, a political radical and member of the Weather Underground. Hannah flees America for West Africa, where she and her Liberian husband become friends of the notorious warlord and ex-president, Charles Taylor. Hannah's encounter with Taylor ultimately triggers a series of events whose momentum catches Hannah's family in its grip and forces her to make a heartrending choice.\n"
          ]
        },
        {
          "output_type": "stream",
          "name": "stderr",
          "text": [
            "\n",
            "  0%|          | 0/1 [00:00<?, ?it/s]\u001b[A\n",
            "100%|██████████| 1/1 [00:00<00:00,  2.22it/s]\n",
            " 40%|████      | 120/300 [01:56<01:36,  1.87it/s]"
          ]
        },
        {
          "output_type": "stream",
          "name": "stdout",
          "text": [
            "Processing sequence 120: Barbara Kingsolver's fifth novel is a hymn to wildness that celebrates the prodigal spirit of human nature, and of nature itself. It weaves together three stories of human love within a larger tapestry of lives amid the mountains and farms of southern Appalachia. Over the course of one humid summer, this novel's intriguing protagonists face disparate predicaments but find connections to one another and to the flora and fauna with which they necessarily share a place.\n"
          ]
        },
        {
          "output_type": "stream",
          "name": "stderr",
          "text": [
            "\n",
            "  0%|          | 0/1 [00:00<?, ?it/s]\u001b[A\n",
            "100%|██████████| 1/1 [00:00<00:00,  2.25it/s]\n",
            " 40%|████      | 121/300 [01:57<01:31,  1.96it/s]"
          ]
        },
        {
          "output_type": "stream",
          "name": "stdout",
          "text": [
            "Processing sequence 121: Private investigator Race Williams is approached by a larger detective agency to help hunt down a criminal gang leader, but he turns down the deal because he prefers to work solo. Somehow word leaks out that he's on the case, and an assassin is put on his tail.\n"
          ]
        },
        {
          "output_type": "stream",
          "name": "stderr",
          "text": [
            "\n",
            "  0%|          | 0/1 [00:00<?, ?it/s]\u001b[A\n",
            "100%|██████████| 1/1 [00:00<00:00,  3.27it/s]\n",
            " 41%|████      | 122/300 [01:57<01:20,  2.21it/s]"
          ]
        },
        {
          "output_type": "stream",
          "name": "stdout",
          "text": [
            "Processing sequence 122: A national bestseller, voted by Time as the #1 novel of 1991, selected as one of the \"Best Books of 1991\" by Publishers Weekly, and nominated for a National Book Critics Circle Award--a magnificent story that probes the meaning of love, science, music, and art, by the brilliant author of Three Farmers on Their Way to a Dance.\n"
          ]
        },
        {
          "output_type": "stream",
          "name": "stderr",
          "text": [
            "\n",
            "  0%|          | 0/1 [00:00<?, ?it/s]\u001b[A\n",
            "100%|██████████| 1/1 [00:00<00:00,  2.68it/s]\n",
            " 41%|████      | 123/300 [01:57<01:16,  2.32it/s]"
          ]
        },
        {
          "output_type": "stream",
          "name": "stdout",
          "text": [
            "Processing sequence 123: In the spring of 1914, renowned photographer August Sander took a photograph of three young men on their way to a country dance. This haunting image, capturing the last moments of innocence on the brink of World War I, provides the central focus of Powers's brilliant and compelling novel. As the fate of the three farmers is chronicled, two contemporary stories unfold. The young narrator becomes obsessed with the photo, while Peter Mays, a computer writer in Boston, discovers he has a personal link with it. The three stories connect in a surprising way and provide the reader with a mystery that spans a century of brutality and progress.\n"
          ]
        },
        {
          "output_type": "stream",
          "name": "stderr",
          "text": [
            "\n",
            "  0%|          | 0/1 [00:00<?, ?it/s]\u001b[A\n",
            "100%|██████████| 1/1 [00:00<00:00,  1.60it/s]\n",
            " 41%|████▏     | 124/300 [01:58<01:26,  2.03it/s]"
          ]
        },
        {
          "output_type": "stream",
          "name": "stdout",
          "text": [
            "Processing sequence 124: A portrait of America as seen through the eyes of its new arrivals follows the story of an intensely feminine Cuban-Irish family of fourteen daughters and its one doggedly masculine son\n"
          ]
        },
        {
          "output_type": "stream",
          "name": "stderr",
          "text": [
            "\n",
            "  0%|          | 0/1 [00:00<?, ?it/s]\u001b[A\n",
            "100%|██████████| 1/1 [00:00<00:00,  2.48it/s]\n",
            " 42%|████▏     | 125/300 [01:58<01:22,  2.13it/s]"
          ]
        },
        {
          "output_type": "stream",
          "name": "stdout",
          "text": [
            "Processing sequence 125: Hailed by the New York Times as \"wildly ambitious\" and \"the sort of book that a young Herman Melville might have written had he lived today and studied such disparate works as the Bible, 'The Wasteland,' Fahrenheit 451, and Dog Soldiers, screened Star Wars and Apocalypse Now several times, dropped a lot of acid and listened to hours of Jimi Hendrix and the Rolling Stones,\" Fiskadoro is a stunning novel of an all-too-possible tomorrow. Deeply moving and provacative, Fiskadoro brilliantly presents the sweeping and heartbreaking tale of the survivors of a devastating nuclear war and their attempts to breaking tale of the survivors of a devastating nuclear war and their attempts to salvage remnants of the old world and rebuild their culture.\n"
          ]
        },
        {
          "output_type": "stream",
          "name": "stderr",
          "text": [
            "\n",
            "  0%|          | 0/1 [00:00<?, ?it/s]\u001b[A\n",
            "100%|██████████| 1/1 [00:01<00:00,  1.13s/it]\n",
            " 42%|████▏     | 126/300 [02:00<01:56,  1.49it/s]"
          ]
        },
        {
          "output_type": "stream",
          "name": "stdout",
          "text": [
            "Processing sequence 126: Set in Nicaragua in 1984, The Stars at Noon is a story of passion, fear, and betrayal told in the voice of an American woman whose mission in Central America is as shadowy as her surroundings. Is she a reporter for an American magazine as she sometimes claims, or a contact person for Eyes of Peace? And who is the rough English businessman with whom she becomes involved? As the two foreigners become entangled in increasingly sinister plots, Denis Johnson masterfully dramatizes a powerful vision of spiritual bereavement and corruption.\n"
          ]
        },
        {
          "output_type": "stream",
          "name": "stderr",
          "text": [
            "\n",
            "  0%|          | 0/1 [00:00<?, ?it/s]\u001b[A\n",
            "100%|██████████| 1/1 [00:00<00:00,  1.26it/s]\n",
            " 42%|████▏     | 127/300 [02:00<02:02,  1.41it/s]"
          ]
        },
        {
          "output_type": "stream",
          "name": "stdout",
          "text": [
            "Processing sequence 127: Highly imaginative and emotionally powerful, this stunning novel about childhood innocence amid the nightmarish disease and deterioration at the heart of modern Los Angeles was nominated for a National Book Award.\n"
          ]
        },
        {
          "output_type": "stream",
          "name": "stderr",
          "text": [
            "\n",
            "  0%|          | 0/1 [00:00<?, ?it/s]\u001b[A\n",
            "100%|██████████| 1/1 [00:00<00:00,  3.12it/s]\n",
            " 43%|████▎     | 128/300 [02:01<01:42,  1.68it/s]"
          ]
        },
        {
          "output_type": "stream",
          "name": "stdout",
          "text": [
            "Processing sequence 128: Hempel's now-classic collection of short fiction is peopled by complex characters who have discovered that their safety nets are not dependable and who must now learn to balance on the threads of wit, irony, and spirit.\n"
          ]
        },
        {
          "output_type": "stream",
          "name": "stderr",
          "text": [
            "\n",
            "  0%|          | 0/1 [00:00<?, ?it/s]\u001b[A\n",
            "100%|██████████| 1/1 [00:00<00:00,  3.30it/s]\n",
            " 43%|████▎     | 129/300 [02:01<01:27,  1.96it/s]"
          ]
        },
        {
          "output_type": "stream",
          "name": "stdout",
          "text": [
            "Processing sequence 129: Something is wrong with Eddie Hobson Sr., father of four, sometime history teacher, quiz master, black humorist and virtuoso invalid. His recurring fainting spells have worsened, and with his ingrained aversion to doctors, his worried family tries to discover the nature of his sickness. Meanwhile, in private, Eddie puts the finishing touches on a secret project he calls Hobbstown, a place that he promises will save him, the world and everything that's in it. A dazzling novel of compassion and imagination, Prisoner's Dilemma is a story of the power of invalid experience.\n"
          ]
        },
        {
          "output_type": "stream",
          "name": "stderr",
          "text": [
            "\n",
            "  0%|          | 0/1 [00:00<?, ?it/s]\u001b[A\n",
            "100%|██████████| 1/1 [00:00<00:00,  1.84it/s]\n",
            " 43%|████▎     | 130/300 [02:02<01:29,  1.91it/s]"
          ]
        },
        {
          "output_type": "stream",
          "name": "stdout",
          "text": [
            "Processing sequence 130: A debut novel of dark foreboding and family tragedy that won the prestigious Booker Prize traces the decline of one family in Southern India in the late sixties, which begins with an episode of forbidden love. Reprint. Tour.\n"
          ]
        },
        {
          "output_type": "stream",
          "name": "stderr",
          "text": [
            "\n",
            "  0%|          | 0/1 [00:00<?, ?it/s]\u001b[A\n",
            "100%|██████████| 1/1 [00:00<00:00,  3.52it/s]\n",
            " 44%|████▎     | 131/300 [02:02<01:16,  2.20it/s]"
          ]
        },
        {
          "output_type": "stream",
          "name": "stdout",
          "text": [
            "Processing sequence 131: When Karen Ann MacNeil awakens after being in a coma for eighteen years, the world suddenly encounters disturbing, terrifying, and radical changes that alter reality, and Karen and her friends must try to stop the madness and restore order to the world. Reprint. 40,000 first printing.\n"
          ]
        },
        {
          "output_type": "stream",
          "name": "stderr",
          "text": [
            "\n",
            "  0%|          | 0/1 [00:00<?, ?it/s]\u001b[A\n",
            "100%|██████████| 1/1 [00:00<00:00,  2.97it/s]\n",
            " 44%|████▍     | 132/300 [02:02<01:11,  2.36it/s]"
          ]
        },
        {
          "output_type": "stream",
          "name": "stdout",
          "text": [
            "Processing sequence 132: Is this new land a place where magics really happen? From Gregory Maguire, the acclaimed author of Wicked, comes his much-anticipated second novel, a brilliant and provocative retelling of the timeless Cinderella tale. In the lives of children, pumpkins can turn into coaches, mice and rats into human beings.... When we grow up, we learn that it's far more common for human beings to turn into rats.... We all have heard the story of Cinderella, the beautiful child cast out to slave among the ashes. But what of her stepsisters, the homely pair exiled into ignominy by the fame of their lovely sibling? What fate befell those untouched by beauty . . . and what curses accompanied Cinderella's exquisite looks? Extreme beauty is an affliction Set against the rich backdrop of seventeenth-century Holland, Confessions of an Ugly Stepsister tells the story of Iris, an unlikely heroine who finds herself swept from the lowly streets of Haarlem to a strange world of wealth, artifice, and ambition. Iris's path quickly becomes intertwined with that of Clara, the mysterious and unnaturally beautiful girl destined to become her sister. Clara was the prettiest child, but was her life the prettiest tale? While Clara retreats to the cinders of the family hearth, burning all memories of her past, Iris seeks out the shadowy secrets of her new household--and the treacherous truth of her former life. God and Satan snarling at each other like dogs.... Imps and fairy godmotbers trying to undo each other's work. How we try to pin the world between opposite extremes! Far more than a mere fairy-tale, Confessions of an Ugly Stepsister is a novel of beauty and betrayal, illusion and understanding, reminding us that deception can be unearthed--and love unveiled--in the most unexpected of places.\n"
          ]
        },
        {
          "output_type": "stream",
          "name": "stderr",
          "text": [
            "\n",
            "  0%|          | 0/1 [00:00<?, ?it/s]\u001b[A\n",
            "100%|██████████| 1/1 [00:01<00:00,  1.66s/it]\n",
            " 44%|████▍     | 133/300 [02:04<02:12,  1.26it/s]"
          ]
        },
        {
          "output_type": "stream",
          "name": "stdout",
          "text": [
            "Processing sequence 133: The author initially intended to call this novel The Lyrical Age. The lyrical age, according to Kundera, is youth, and this novel, above all, is an epic of adolescence; an ironic epic that tenderly erodes sacrosanct values: childhood, motherhood, revolution, and even poetry. Jaromil is in fact a poet. His mother made him a poet and accompanies him (figuratively) to his love bed and (literally) to his deathbed. A ridiculous and touching character, horrifying and totally innocent (\"innocence with its bloody smile\"!), Jaromil is at the same time a true poet. He's no creep, he's Rimbaud. Rimbaud entrapped by the communist revolution, entrapped in a somber farce.\n"
          ]
        },
        {
          "output_type": "stream",
          "name": "stderr",
          "text": [
            "\n",
            "  0%|          | 0/1 [00:00<?, ?it/s]\u001b[A\n",
            "100%|██████████| 1/1 [00:00<00:00,  1.41it/s]\n",
            " 45%|████▍     | 134/300 [02:05<02:08,  1.29it/s]"
          ]
        },
        {
          "output_type": "stream",
          "name": "stdout",
          "text": [
            "Processing sequence 134: Fans of Lillian Jackson Braun and Rita Mae Brown and cat lovers everywhere will delight in this newest mystery featuring two furry felines on the scent of a killer. Famous novelist Elliot Traynor is temporarily living in Molena Point. He and his wife don't have much to do with the villagers, which is fine with them since no one particularly likes Vivi. But their arrival has coincided with some peculiar happenings in the town, culminating with a botched burglary in the home of 60–something Susan Brittian. Susan is a friend to feline detectives Joe Grey and Dulcie and they aren't going to let this crime go unpunished. With whiskers twitching they investigate the crime and soon find themselves on the scent of a killer.\n"
          ]
        },
        {
          "output_type": "stream",
          "name": "stderr",
          "text": [
            "\n",
            "  0%|          | 0/1 [00:00<?, ?it/s]\u001b[A\n",
            "100%|██████████| 1/1 [00:00<00:00,  1.50it/s]\n",
            " 45%|████▌     | 135/300 [02:05<02:02,  1.34it/s]"
          ]
        },
        {
          "output_type": "stream",
          "name": "stdout",
          "text": [
            "Processing sequence 135: As S&M photographer Jared Poe waits on Louisiana's Death Row to be executed for the murder of his lover, he can not imagine that his search for the true killer will continue after his death in the shadowy realm of The Crow\n"
          ]
        },
        {
          "output_type": "stream",
          "name": "stderr",
          "text": [
            "\n",
            "  0%|          | 0/1 [00:00<?, ?it/s]\u001b[A\n",
            "100%|██████████| 1/1 [00:00<00:00,  3.50it/s]\n",
            " 45%|████▌     | 136/300 [02:06<01:39,  1.64it/s]"
          ]
        },
        {
          "output_type": "stream",
          "name": "stdout",
          "text": [
            "Processing sequence 136: Second in line for succession to the throne, Prince Dagnarus will have his crown...and his queen -- though his heart's prize is a married elfin beauty. Let his hated half-brother Prince Helmos and the Dominion Lords dare to oppose him. For Dagnarus's most loyal servant has ventured into the terrible darkness, where lies the most potent talisman in the realm. And once it is in the dark prince's hand, no power will deter his Destiny.\n"
          ]
        },
        {
          "output_type": "stream",
          "name": "stderr",
          "text": [
            "\n",
            "  0%|          | 0/1 [00:00<?, ?it/s]\u001b[A\n",
            "100%|██████████| 1/1 [00:00<00:00,  2.22it/s]\n",
            " 46%|████▌     | 137/300 [02:06<01:32,  1.77it/s]"
          ]
        },
        {
          "output_type": "stream",
          "name": "stdout",
          "text": [
            "Processing sequence 137: Terry Pratchett's profoundly irreverent novels are consistent number one bestsellers in England, where they have garnered him a revered position in the halls of parody next to Mark Twain, Kurt Vonnegut, Douglas Adams, and Carl Hiaasen. In The Light Fantastic only one individual can save the world from a disastrous collision. Unfortunately, the hero happens to be the singularly inept wizard Rincewind, who was last seen falling off the edge of the world...\n"
          ]
        },
        {
          "output_type": "stream",
          "name": "stderr",
          "text": [
            "\n",
            "  0%|          | 0/1 [00:00<?, ?it/s]\u001b[A\n",
            "100%|██████████| 1/1 [00:00<00:00,  2.01it/s]\n",
            " 46%|████▌     | 138/300 [02:07<01:28,  1.82it/s]"
          ]
        },
        {
          "output_type": "stream",
          "name": "stdout",
          "text": [
            "Processing sequence 138: Armed with stolen U.S. military technology, the Chinese are producing a frightening new breed of weaponry,led by the ICBM submarine Xia III -- a vessel that just might be able to launch a nuclear warhead across the Pacific Ocean and take out an American West Coast city. National Security Adviser Admiral Arnold Morgan can't let that happen, and he dispatches the most stealthy hunter-killer submarine in the U.S. fleet, the 9,000-ton ultrasecret Seawolf, deep into the dark, forbidden waters of the South China Sea. But then the unthinkable happens: Seawolf, collides with a Chinese destroyer and falls into enemy hands. A team of cunning Navy SEALs -- the biggest Special Forces assault group assembled since Vietnam -- is sent in to free the captive Seawolf, crew and bring them home. The American Eagle confronts the Chinese Dragon with the balance of world power on the line. Failure is not an option...\n"
          ]
        },
        {
          "output_type": "stream",
          "name": "stderr",
          "text": [
            "\n",
            "  0%|          | 0/1 [00:00<?, ?it/s]\u001b[A\n",
            "100%|██████████| 1/1 [00:00<00:00,  1.20it/s]\n",
            " 46%|████▋     | 139/300 [02:07<01:42,  1.57it/s]"
          ]
        },
        {
          "output_type": "stream",
          "name": "stdout",
          "text": [
            "Processing sequence 139: In the tradition of \"The Wheel of Time, \" this lavishly illustrated work is a definitive reference guide to the fantasy worlds of bestselling authors Weis and Hickman. Illustrations, many in full color.\n"
          ]
        },
        {
          "output_type": "stream",
          "name": "stderr",
          "text": [
            "\n",
            "  0%|          | 0/1 [00:00<?, ?it/s]\u001b[A\n",
            "100%|██████████| 1/1 [00:00<00:00,  3.53it/s]\n",
            " 47%|████▋     | 140/300 [02:08<01:25,  1.87it/s]"
          ]
        },
        {
          "output_type": "stream",
          "name": "stdout",
          "text": [
            "Processing sequence 140: When Jessica marries David, he is everything she wants in a family man: brilliant, attentive, ever youthful. Yet she still feels something about him is just out of reach. Soon, as people close to Jessica begin to meet violent, mysterious deaths, David makes an unimaginable confession: More than 400 years ago, he and other members of an Ethiopian sect traded their humanity so they would never die, a secret he must protect at any cost. Now, his immortal brethren have decided David must return and leave his family in Miami. Instead, David vows to invoke a forbidden ritual to keep Jessica and his daughter with him forever. Harrowing, engrossing and skillfully rendered, My Soul to Keep traps Jessica between the desperation of immortals who want to rob her of her life and a husband who wants to rob her of her soul. With deft plotting and an unforgettable climax, this tour de force reminiscent of early Anne Rice will win Due a new legion of fans.\n"
          ]
        },
        {
          "output_type": "stream",
          "name": "stderr",
          "text": [
            "\n",
            "  0%|          | 0/1 [00:00<?, ?it/s]\u001b[A\n",
            "100%|██████████| 1/1 [00:00<00:00,  1.15it/s]\n",
            " 47%|████▋     | 141/300 [02:09<01:41,  1.57it/s]"
          ]
        },
        {
          "output_type": "stream",
          "name": "stdout",
          "text": [
            "Processing sequence 141: On the world of Athera, the fate of all realms hangs on the resolution of the brutal conflict born of prince against prince. Branded a minion of evil -- escaping the death sentence imposed by his half-brother Lysaer and his Alliance of Light -- Arithon, Master of Shadow, now faces the last choice remaining to him in the merciless winter wilds: to cast his lot with a renegade enchanter whom Arithon dares not trust ... or die by the swords of fanatical enemies.\n"
          ]
        },
        {
          "output_type": "stream",
          "name": "stderr",
          "text": [
            "\n",
            "  0%|          | 0/1 [00:00<?, ?it/s]\u001b[A\n",
            "100%|██████████| 1/1 [00:00<00:00,  2.02it/s]\n",
            " 47%|████▋     | 142/300 [02:09<01:34,  1.67it/s]"
          ]
        },
        {
          "output_type": "stream",
          "name": "stdout",
          "text": [
            "Processing sequence 142: Half brothers Lysaer, the Prince of the Light, and Arithon, the Master of Shadow, engage in violent conflict in the wake of the Vastmark Warhost's destruction and the strategies of the Koriani Enchantresses\n"
          ]
        },
        {
          "output_type": "stream",
          "name": "stderr",
          "text": [
            "\n",
            "  0%|          | 0/1 [00:00<?, ?it/s]\u001b[A\n",
            "100%|██████████| 1/1 [00:00<00:00,  3.29it/s]\n",
            " 48%|████▊     | 143/300 [02:09<01:20,  1.95it/s]"
          ]
        },
        {
          "output_type": "stream",
          "name": "stdout",
          "text": [
            "Processing sequence 143: A sexy new repackaging of the extremely popular anthology of vampire erotica, edited by acclaimed author Poppy Z. Brite. The classic horror tale is about fear. But in the last few years a new literature of the macabre has arisen, one that goes deeper than horror, beyond fear, to explore our darkest, most intimate hungers. The ones even lovers are forbidden to share. Acclaimed dark fantasy author Poppy Z. Brite has brought together this genre's most powerful and seductive authors in an original collection of vampiric erotica, a shameless celebration of unspeakable intimacies. It is not for everyone. But neither is the night.\n"
          ]
        },
        {
          "output_type": "stream",
          "name": "stderr",
          "text": [
            "\n",
            "  0%|          | 0/1 [00:00<?, ?it/s]\u001b[A\n",
            "100%|██████████| 1/1 [00:00<00:00,  1.64it/s]\n",
            " 48%|████▊     | 144/300 [02:10<01:25,  1.83it/s]"
          ]
        },
        {
          "output_type": "stream",
          "name": "stdout",
          "text": [
            "Processing sequence 144: It's been quite a week for Joe Grey. First the large, powerful feline discovers that, through some strange, inexplicable phenomenon, he now has the ability to understand human language. Then he discovers he can speak it as well! It's a nightmare for a cat who'd prefer to sleep the day away carefree, but Joe can handle it. That is, until he has the misfortune to witness a murder in the alley behind Jolly's Deli -- and worse, to be seen witnessing it. With all of his nine lives suddenly at risk, Joe's got no choice but to get to the bottom of the heinous crime -- because his mouse-hunting days are over for good unless he can help bring a killer to justice.\n"
          ]
        },
        {
          "output_type": "stream",
          "name": "stderr",
          "text": [
            "\n",
            "  0%|          | 0/1 [00:00<?, ?it/s]\u001b[A\n",
            "100%|██████████| 1/1 [00:00<00:00,  1.41it/s]\n",
            " 48%|████▊     | 145/300 [02:11<01:32,  1.67it/s]"
          ]
        },
        {
          "output_type": "stream",
          "name": "stdout",
          "text": [
            "Processing sequence 145: \"Of course I worry. What if the cops witness a cat opening a skylight and masterminding a robbery? The tabloids will love it.\" There's a new pair of thieves in Molena Point, California, a renegade yellow-eyed tomcat with a cold disdain for the law, and a scruffy human partner who is no better. The two, clever and silent at their work, are bad news indeed to crime-solving cats Joe Grey and Dulcie. But when Joe learns the pair's connection to a good friend, and then an innocent couple turns up dead in the library garden, Joe and Dulcie must engage in some fancy paw work to unmask the deceptions and route the real killer -- before his brazen criminal crime spree careens madly toward them.\n"
          ]
        },
        {
          "output_type": "stream",
          "name": "stderr",
          "text": [
            "\n",
            "  0%|          | 0/1 [00:00<?, ?it/s]\u001b[A\n",
            "100%|██████████| 1/1 [00:01<00:00,  1.13s/it]\n",
            " 49%|████▊     | 146/300 [02:12<01:57,  1.31it/s]"
          ]
        },
        {
          "output_type": "stream",
          "name": "stdout",
          "text": [
            "Processing sequence 146: A shattering childhood tragedy left Quentin Fears devastated and unable to cope with the world and its citizens. It didn't, however, prevent him from making millions through brilliant investments. And now the enigmatic recluse has experienced the extraordinarily unexpected: love at first sight. But a whirlwind courtship and marriage to Madeleine -- beautiful, witty, and equally ill-at-ease with reality -- is bringing Quentin something other than the bliss he anticipated, for now he must meet his new wife's family. A bizarre, dysfunctional collection of extreme characters, they are guarding a secret both shocking and terrifying -- as is Madeleine herself. And suddenly Quentin Fears must prevent his dream woman from unleashing an ageless malevolence intent on ruling the world.\n"
          ]
        },
        {
          "output_type": "stream",
          "name": "stderr",
          "text": [
            "\n",
            "  0%|          | 0/1 [00:00<?, ?it/s]\u001b[A\n",
            "100%|██████████| 1/1 [00:01<00:00,  1.06s/it]\n",
            " 49%|████▉     | 147/300 [02:13<02:10,  1.17it/s]"
          ]
        },
        {
          "output_type": "stream",
          "name": "stdout",
          "text": [
            "Processing sequence 147: Damaged Houses A master craftsman, Don Lark could fix everything except what mattered, his own soul. After tragedy claimed the one thing he loved, he began looking for dilapidated houses to buy, renovate, and resell at a profit--giving these empty shells the second chance at life he denied himself. Damaged Souls Then in a quiet Southern town, Lark finds his biggest challenge: a squalid yet sturdy mansion that has suffered decades of abuse at the hands of greedy landlords and transient tenants. While two charming old neighbor ladies ply him with delicious cooking, they offer dire warnings about the house's evil past. But there is something about this building that pushes Lark on, even as its enchantments grow increasingly ominous. Will finishing the house offer Lark redemption, or unleash the darkest forces of damnation upon him?\n"
          ]
        },
        {
          "output_type": "stream",
          "name": "stderr",
          "text": [
            "\n",
            "  0%|          | 0/1 [00:00<?, ?it/s]\u001b[A\n",
            "100%|██████████| 1/1 [00:00<00:00,  1.04it/s]\n",
            " 49%|████▉     | 148/300 [02:14<02:15,  1.12it/s]"
          ]
        },
        {
          "output_type": "stream",
          "name": "stdout",
          "text": [
            "Processing sequence 148: The magical tale of ill-fated lovers lost among worlds teetering on the edge of destruction, where their passion holds the key to escape. There has never been a book like Imajica. Transforming every expectation offantasy fiction with its heady mingling of radical sexuality and spiritual anarchy, it has carried its millions of readers into regions of passion and philosophy that few books have even attempted to map. It's an epic in every way; vast in conception, obsessively detailed in execution, and apocalyptic in its resolution. A book of erotic mysteries and perverse violence. A book of ancient, mythological landscapes and even more ancient magic.\n"
          ]
        },
        {
          "output_type": "stream",
          "name": "stderr",
          "text": [
            "\n",
            "  0%|          | 0/1 [00:00<?, ?it/s]\u001b[A\n",
            "100%|██████████| 1/1 [00:00<00:00,  1.45it/s]\n",
            " 50%|████▉     | 149/300 [02:15<02:05,  1.20it/s]"
          ]
        },
        {
          "output_type": "stream",
          "name": "stdout",
          "text": [
            "Processing sequence 149: Chuck Chandler, a Key West tennis pro, tends to choke in his big matches, a tendency he must overcome when he meets Harry Carras and his beautiful wife Clare, and becomes a suspect in Harry's death\n"
          ]
        },
        {
          "output_type": "stream",
          "name": "stderr",
          "text": [
            "\n",
            "  0%|          | 0/1 [00:00<?, ?it/s]\u001b[A\n",
            "100%|██████████| 1/1 [00:00<00:00,  3.59it/s]\n",
            " 50%|█████     | 150/300 [02:15<01:40,  1.50it/s]"
          ]
        },
        {
          "output_type": "stream",
          "name": "stdout",
          "text": [
            "Processing sequence 150: On the heels of his New York Times bestseller Choke, Stuart Woods brings back one of his best-loved characters, Stone Barrington, in a glittering roller-coaster ride through the murderous world of high-profile celebrity gossip. Feared and disliked for both her poison pen and ice-queen persona, gossip columnist Amanda Dart finds the tables have turned. When an anonymous gossipmonger begins faxing the scathing details of Amanda's sexual indiscretions to national opinion makers, she turns to Stone Barrington for help. But as the faxes also expose other members of the gossip \"community,\" it becomes apparent that the most respected of the social scene will stop at nothing--even murder--to clear their names. Set against a backdrop of glitzy Manhattan society, Dirt is a sexy, fast-paced and witty thriller--Stuart Woods at his best.\n"
          ]
        },
        {
          "output_type": "stream",
          "name": "stderr",
          "text": [
            "\n",
            "  0%|          | 0/1 [00:00<?, ?it/s]\u001b[A\n",
            "100%|██████████| 1/1 [00:00<00:00,  1.15it/s]\n",
            " 50%|█████     | 151/300 [02:16<01:48,  1.37it/s]"
          ]
        },
        {
          "output_type": "stream",
          "name": "stdout",
          "text": [
            "Processing sequence 151: The near future finds China ready to buy ten of Russia's kilo class nuclear submarines, intending to subdue Taiwan once and for all, but American interests bring a top-secret group of Navy SEALs to intercept the delivery. By the author of Nimitz Class. Reprint.\n"
          ]
        },
        {
          "output_type": "stream",
          "name": "stderr",
          "text": [
            "\n",
            "  0%|          | 0/1 [00:00<?, ?it/s]\u001b[A\n",
            "100%|██████████| 1/1 [00:00<00:00,  2.68it/s]\n",
            " 51%|█████     | 152/300 [02:16<01:32,  1.60it/s]"
          ]
        },
        {
          "output_type": "stream",
          "name": "stdout",
          "text": [
            "Processing sequence 152: One of the most important works of twentieth-century American literature, Zora Neale Hurston's beloved 1937 classic, Their Eyes Were Watching God, is an enduring Southern love story sparkling with wit, beauty, and heartfelt wisdom. Told in the captivating voice of a woman who refuses to live in sorrow, bitterness, fear, or foolish romantic dreams, it is the story of fair-skinned, fiercely independent Janie Crawford, and her evolving selfhood through three marriages and a life marked by poverty, trials, and purpose. A true literary wonder, Hurston's masterwork remains as relevant and affecting today as when it was first published -- perhaps the most widely read and highly regarded novel in the entire canon of African American literature.\n"
          ]
        },
        {
          "output_type": "stream",
          "name": "stderr",
          "text": [
            "\n",
            "  0%|          | 0/1 [00:00<?, ?it/s]\u001b[A\n",
            "100%|██████████| 1/1 [00:00<00:00,  1.34it/s]\n",
            " 51%|█████     | 153/300 [02:17<01:37,  1.50it/s]"
          ]
        },
        {
          "output_type": "stream",
          "name": "stdout",
          "text": [
            "Processing sequence 153: The beloved American classic about a young girl's coming-of-age at the turn of the century, Betty Smith's A Tree Grows in Brooklyn is a poignant and moving tale filled with compassion and cruelty, laughter and heartache, crowded with life and people and incident. The story of young, sensitive, and idealistic Francie Nolan and her bittersweet formative years in the slums of Williamsburg has enchanted and inspired millions of readers for more than sixty years. By turns overwhelming, sublime, heartbreaking, and uplifting, the daily experiences of the unforgettable Nolans are raw with honesty and tenderly threaded with family connectedness -- in a work of literary art that brilliantly captures a unique time and place as well as incredibly rich moments of universal experience.\n"
          ]
        },
        {
          "output_type": "stream",
          "name": "stderr",
          "text": [
            "\n",
            "  0%|          | 0/1 [00:00<?, ?it/s]\u001b[A\n",
            "100%|██████████| 1/1 [00:00<00:00,  1.27it/s]\n",
            " 51%|█████▏    | 154/300 [02:18<01:42,  1.42it/s]"
          ]
        },
        {
          "output_type": "stream",
          "name": "stdout",
          "text": [
            "Processing sequence 154: An orphan raised in Valparaíso, Chile, by a Victorian spinster and her rigid brother, young, vivacious Eliza Sommers follows her lover to California during the Gold Rush of 1849. She enters a rough-and-tumble world whose newly arrived inhabitants are driven mad by gold fever. With the help of her good friend and savior, the Chinese doctor Tao Chi'en, Eliza moves freely in a society of single men and prostitutes, creating an unconventional but independent life for herself. The young Chilean's search for her elusive lover gradually turns into another kind of journey, and by the time she finally hears news of him, Eliza must decide who her true love really is.\n"
          ]
        },
        {
          "output_type": "stream",
          "name": "stderr",
          "text": [
            "\n",
            "  0%|          | 0/1 [00:00<?, ?it/s]\u001b[A\n",
            "100%|██████████| 1/1 [00:00<00:00,  1.36it/s]\n",
            " 52%|█████▏    | 155/300 [02:18<01:43,  1.40it/s]"
          ]
        },
        {
          "output_type": "stream",
          "name": "stdout",
          "text": [
            "Processing sequence 155: From Paulo Coelho, author of the international bestseller The Alchemist, comes a poignant, richly poetic story that reflects the depth of love and life. Rarely does adolescent love reach its full potential, but what happens when two young lovers reunite after eleven years? Time has transformed Pilar into a strong and independent woman, while her devoted childhood friend has grown into a handsome and charismatic spiritual leader. She has learned well how to bury her feelings . . . and he has turned to religion as a refuge from his raging inner conflicts. Now they are together once again, embarking on a journey fraught with difficulties, as long-buried demons of blame and resentment resurface after more than a decade. But in a small village in the French Pyrenees, by the waters of the River Piedra, a most special relationship will be reexamined in the dazzling light of some of life's biggest questions.\n"
          ]
        },
        {
          "output_type": "stream",
          "name": "stderr",
          "text": [
            "\n",
            "  0%|          | 0/1 [00:00<?, ?it/s]\u001b[A\n",
            "100%|██████████| 1/1 [00:00<00:00,  1.08it/s]\n",
            " 52%|█████▏    | 156/300 [02:19<01:52,  1.28it/s]"
          ]
        },
        {
          "output_type": "stream",
          "name": "stdout",
          "text": [
            "Processing sequence 156: \"My heart is afraid that it will have to suffer,\" the boy told the alchemist one night as they looked up at the moonless sky.\" Tell your heart that the fear of suffering is worse than the suffering itself. And that no heart has ever suffered when it goes in search of its dreams.\" Every few decades a book is published that changes the lives of its readers forever. The Alchemist is such a book. With over a million and a half copies sold around the world, The Alchemist has already established itself as a modern classic, universally admired. Paulo Coelho's charming fable, now available in English for the first time, will enchant and inspire an even wider audience of readers for generations to come. The Alchemist is the magical story of Santiago, an Andalusian shepherd boy who yearns to travel in search of a worldly treasure as extravagant as any ever found. From his home in Spain he journeys to the markets of Tangiers and across the Egyptian desert to a fateful encounter with the alchemist. The story of the treasures Santiago finds along the way teaches us, as only a few stories have done, about the essential wisdom of listening to our hearts, learning to read the omens strewn along life's path, and, above all, following our dreams.\n"
          ]
        },
        {
          "output_type": "stream",
          "name": "stderr",
          "text": [
            "\n",
            "  0%|          | 0/1 [00:00<?, ?it/s]\u001b[A\n",
            "100%|██████████| 1/1 [00:01<00:00,  1.24s/it]\n",
            " 52%|█████▏    | 157/300 [02:21<02:12,  1.08it/s]"
          ]
        },
        {
          "output_type": "stream",
          "name": "stdout",
          "text": [
            "Processing sequence 157: Twenty-four-year-old Veronika seems to have everything -- youth and beauty, boyfriends and a loving family, a fulfilling job. But something is missing in her life. So, one cold November morning, she takes a handful of sleeping pills expecting never to wake up. But she does -- at a mental hospital where she is told that she has only days to live. Inspired by events in Coelho's own life, Veronika Decides to Die questions the meaning of madness and celebrates individuals who do not fit into patterns society considers to be normal. Bold and illuminating, it is a dazzling portrait of a young woman at the crossroads of despair and liberation, and a poetic, exuberant appreciation of each day as a renewed opportunity.\n"
          ]
        },
        {
          "output_type": "stream",
          "name": "stderr",
          "text": [
            "\n",
            "  0%|          | 0/1 [00:00<?, ?it/s]\u001b[A\n",
            "100%|██████████| 1/1 [00:00<00:00,  1.30it/s]\n",
            " 53%|█████▎    | 158/300 [02:21<02:04,  1.14it/s]"
          ]
        },
        {
          "output_type": "stream",
          "name": "stdout",
          "text": [
            "Processing sequence 158: One of Charles Bukowski's best, this beer-soaked, deliciously degenerate novel follows the wanderings of aspiring writer Henry Chinaski across World War II-era America. Deferred from military service, Chinaski travels from city to city, moving listlessly from one odd job to another, always needing money but never badly enough to keep a job. His day-to-day existence spirals into an endless litany of pathetic whores, sordid rooms, dreary embraces, and drunken brawls, as he makes his bitter, brilliant way from one drink to the next. Charles Bukowski's posthumous legend continues to grow. Factotum is a masterfully vivid evocation of slow-paced, low-life urbanity and alcoholism, and an excellent introduction to the fictional world of Charles Bukowski.\n"
          ]
        },
        {
          "output_type": "stream",
          "name": "stderr",
          "text": [
            "\n",
            "  0%|          | 0/1 [00:00<?, ?it/s]\u001b[A\n",
            "100%|██████████| 1/1 [00:00<00:00,  1.18it/s]\n",
            " 53%|█████▎    | 159/300 [02:22<02:02,  1.15it/s]"
          ]
        },
        {
          "output_type": "stream",
          "name": "stdout",
          "text": [
            "Processing sequence 159: Set in Fez, Morocco, during that country's 1954 nationalist uprising, The Spider's House is perhaps Paul Bowles's most beautifully subtle novel, richly descriptive of its setting and uncompromising in its characterizations. Exploring once again the dilemma of the outsider in an alien society, and the gap in understanding between cultures—recurrent themes of Paul Bowles's writings—The Spider's House is dramatic, brutally honest, and shockingly relevant to today's political situation in the Middle East and elsewhere.\n"
          ]
        },
        {
          "output_type": "stream",
          "name": "stderr",
          "text": [
            "\n",
            "  0%|          | 0/1 [00:00<?, ?it/s]\u001b[A\n",
            "100%|██████████| 1/1 [00:00<00:00,  1.77it/s]\n",
            " 53%|█████▎    | 160/300 [02:23<01:49,  1.28it/s]"
          ]
        },
        {
          "output_type": "stream",
          "name": "stdout",
          "text": [
            "Processing sequence 160: Between 1987 and 1989, Paul Bowles, at the suggestion of a friend, kept a journal to record the daily events of his life. What emerges is not only just a record of the meals, conversations, and health concerns of the author of The Sheltering Sky but also a fascinating look at an artist at work in a new medium. Characterized by a refreshing informality, clear-sightedness, and passages of exquisite prose, these pages record with equal fascination the behavior of an itinerant spider, a brutal episode of violence in a Tangier marketplace, and the pageantry and excess of Malcolm Forbes's seventieth birthday party. In Days, a master observer of the foreign and obscure turns his attentions toward his own daily existence, giving us a startlingly candid portrait of his life in late twentieth-century Tangier.\n"
          ]
        },
        {
          "output_type": "stream",
          "name": "stderr",
          "text": [
            "\n",
            "  0%|          | 0/1 [00:00<?, ?it/s]\u001b[A\n",
            "100%|██████████| 1/1 [00:00<00:00,  1.06it/s]\n",
            " 54%|█████▎    | 161/300 [02:24<01:55,  1.20it/s]"
          ]
        },
        {
          "output_type": "stream",
          "name": "stdout",
          "text": [
            "Processing sequence 161: A special anniversary edition of the first publication of the seminal poetic work describes the background of Ginsberg's famous poem, and discusses literary allusions, and techniques of composition used in creating the controversial work. Reprint.\n"
          ]
        },
        {
          "output_type": "stream",
          "name": "stderr",
          "text": [
            "\n",
            "  0%|          | 0/1 [00:00<?, ?it/s]\u001b[A\n",
            "100%|██████████| 1/1 [00:00<00:00,  2.23it/s]\n",
            " 54%|█████▍    | 162/300 [02:24<01:39,  1.39it/s]"
          ]
        },
        {
          "output_type": "stream",
          "name": "stdout",
          "text": [
            "Processing sequence 162: In Coraline's family's new flat there's a locked door. On the other side is a brick wall—until Coraline unlocks the door . . . and finds a passage to another flat in another house just like her own. Only different. The food is better there. Books have pictures that writhe and crawl and shimmer. And there's another mother and father there who want Coraline to be their little girl. They want to change her and keep her with them. . . . Forever. Coraline is an extraordinary fairy tale/nightmare from the uniquely skewed imagination of #1 New York Times bestselling author Neil Gaiman.\n"
          ]
        },
        {
          "output_type": "stream",
          "name": "stderr",
          "text": [
            "\n",
            "  0%|          | 0/1 [00:00<?, ?it/s]\u001b[A"
          ]
        }
      ],
      "source": [
        "from tqdm import tqdm\n",
        "actual_cats = []\n",
        "predicted_cats = []\n",
        "\n",
        "for i in tqdm(range(0,300)):\n",
        "    try:\n",
        "        sequence = books.loc[books[\"simple_categories\"]==\"Fiction\",\"description\"].reset_index(drop=True)[i]\n",
        "        print(f\"Processing sequence {i}: {sequence}\")\n",
        "        predicted_cat = generate_predictions(sequence,fiction_classifier)\n",
        "        predicted_cats.append(predicted_cat) # Append the predicted_cat directly\n",
        "        actual_cats.append(\"Fiction\")\n",
        "    except Exception as e:\n",
        "        print(f\"Error processing sequence {i}: {e}\")\n",
        "        predicted_cats.append(\"Error\")\n",
        "        actual_cats.append(\"Fiction\")"
      ]
    },
    {
      "cell_type": "code",
      "execution_count": null,
      "metadata": {
        "id": "yspWMsNn8jIr"
      },
      "outputs": [],
      "source": [
        "for i in tqdm(range(0,300)):\n",
        "  sequence = books.loc[books[\"simple_categories\"]==\"Fiction\",\"description\"].reset_index(drop=True)[i]\n",
        "  predicted_cat = generate_predictions(sequence,fiction_classifier)\n",
        "  predicted_cats +=[generate_predictions(sequence,fiction_classifier)]\n",
        "  actual_cats += [\"Fiction\"]"
      ]
    },
    {
      "cell_type": "code",
      "execution_count": null,
      "metadata": {
        "id": "n9ZPr_aD-bIY"
      },
      "outputs": [],
      "source": [
        "prediction_df = pd.DataFrame({\"actual_categories\":actual_cats,\"predicted_categories\":predicted_cats})"
      ]
    },
    {
      "cell_type": "code",
      "execution_count": null,
      "metadata": {
        "id": "wtlePuz9_PYY"
      },
      "outputs": [],
      "source": [
        "prediction_df[\"correct_prediciton\"] = (np.where(prediction_df[\"actual_categories\"]==prediction_df[\"predicted_categories\"],1,0))"
      ]
    },
    {
      "cell_type": "code",
      "execution_count": null,
      "metadata": {
        "id": "Bxg5oiGo_lRo"
      },
      "outputs": [],
      "source": [
        "accuracy = prediction_df[\"correct_prediciton\"].sum()/len(prediction_df)\n",
        "print(f\"The accuracy of the model is: {accuracy}\")\n",
        "# The accuracy of the model is: 0.7666666666666667"
      ]
    },
    {
      "cell_type": "markdown",
      "metadata": {
        "id": "8tlmwgszC2dN"
      },
      "source": [
        "##### Good accuracy --> goinf to predict all missing"
      ]
    },
    {
      "cell_type": "code",
      "execution_count": null,
      "metadata": {
        "id": "abOetl-vC1Uq"
      },
      "outputs": [],
      "source": [
        "isbns = []\n",
        "predicted_cats =[]\n",
        "\n",
        "missing_cats = books.loc[books[\"simple_categories\"].isna(),[\"isbn13\",\"description\"]].reset_index(drop=True)"
      ]
    },
    {
      "cell_type": "code",
      "execution_count": null,
      "metadata": {
        "id": "VbjgEeQsDvhB"
      },
      "outputs": [],
      "source": [
        "for i in tqdm(range(0,len(missing_cats))):\n",
        "  sequence = missing_cats[\"description\"][i]\n",
        "  predicted_cats += [generate_predictions(sequence, fiction_classifier)]\n",
        "  isbns += [missing_cats[\"isbn13\"][i]]"
      ]
    },
    {
      "cell_type": "code",
      "execution_count": null,
      "metadata": {
        "id": "IOYXziXEEEnb"
      },
      "outputs": [],
      "source": [
        "missing_predicted_df = pd.DataFrame({\"isbn13\": isbns, \"predicted_categories\": predicted_cats})\n",
        "books = pd.merge(books,missing_predicted_df,on=\"isbn13\",how=\"left\")\n",
        "books[\"simple_categories\"] = np.where(books[\"simple_categories\"].isna(),books[\"predicted_categories\"],books[\"simple_categories\"])\n",
        "books = books.drop(columns=[\"predicted_categories\"])"
      ]
    },
    {
      "cell_type": "code",
      "execution_count": null,
      "metadata": {
        "id": "E_EP2oKQGqio"
      },
      "outputs": [],
      "source": [
        "books[\"simple_categories\"].isna().sum()"
      ]
    },
    {
      "cell_type": "code",
      "execution_count": null,
      "metadata": {
        "id": "_NJmkgLvG9fP"
      },
      "outputs": [],
      "source": [
        "from transformers import pipeline\n",
        "classifier = pipeline(\"text-classification\", model=\"j-hartmann/emotion-english-distilroberta-base\", top_k=None)\n",
        "classifier(\"I love this!\")"
      ]
    },
    {
      "cell_type": "code",
      "execution_count": null,
      "metadata": {
        "id": "srIoiwruJbLE"
      },
      "outputs": [],
      "source": [
        "classifier(books[\"description\"][0])"
      ]
    },
    {
      "cell_type": "code",
      "execution_count": null,
      "metadata": {
        "id": "QC0glYtgJfTV"
      },
      "outputs": [],
      "source": [
        "classifier(books[\"description\"][0].split(\".\"))"
      ]
    },
    {
      "cell_type": "code",
      "execution_count": null,
      "metadata": {
        "id": "Bh7wyftYJwV0"
      },
      "outputs": [],
      "source": [
        "# Assuming 'predictions' is a list of dictionaries\n",
        "print(type(predictions))\n",
        "print(predictions)\n",
        "sorted_predictions = sorted(predictions, key=lambda x: x[\"label\"])\n",
        "sorted_predictions"
      ]
    },
    {
      "cell_type": "code",
      "execution_count": null,
      "metadata": {
        "id": "nvj2cWhCKTfr"
      },
      "outputs": [],
      "source": [
        "def calculate_max_emotion_scores(predictions):\n",
        "  per_emotion_scores= {label: [] for label in emotion_labels}\n",
        "  for prediction in predictions:\n",
        "    sorted_predictions=sorted(prediction,key=lambda x:x[\"label\"])\n",
        "    for index, label in enumerate(emotion_labels):\n",
        "      per_emotion_scores[label].append(sorted_predictions[index][\"score\"])\n",
        "  return {label: np.max(scores) for label, scores in per_emotion_scores.items()}\n"
      ]
    },
    {
      "cell_type": "code",
      "execution_count": null,
      "metadata": {
        "id": "Gypgj7PgLmb7"
      },
      "outputs": [],
      "source": [
        "import numpy as np\n",
        "\n",
        "emotion_labels = ['joy', 'surprise', 'neutral', 'anger', 'sadness', 'disgust', 'fear']\n",
        "isbn = []\n",
        "emotion_scores = {label: [] for label in emotion_labels}\n",
        "\n",
        "for i in range(10):\n",
        "  isbn.append(books[\"isbn13\"][i])\n",
        "  sentences =books[\"description\"][i].split(\".\")\n",
        "  predictions=classifier(sentences)\n",
        "  max_scores = calculate_max_emotion_scores(predictions)\n",
        "  for label in emotion_labels:\n",
        "    emotion_scores[label].append(max_scores[label])"
      ]
    },
    {
      "cell_type": "code",
      "execution_count": null,
      "metadata": {
        "id": "rHnF432FMIH7"
      },
      "outputs": [],
      "source": [
        "emotion_scores"
      ]
    },
    {
      "cell_type": "code",
      "execution_count": null,
      "metadata": {
        "id": "o3tRg9_nMYxA"
      },
      "outputs": [],
      "source": [
        "import numpy as np\n",
        "from tqdm import tqdm\n",
        "\n",
        "emotion_labels = ['joy', 'surprise', 'neutral', 'anger', 'sadness', 'disgust', 'fear']\n",
        "isbn = []\n",
        "emotion_scores = {label: [] for label in emotion_labels}\n",
        "for i in tqdm(range(len(books))):\n",
        "  isbn.append(books[\"isbn13\"][i])\n",
        "  sentences =books[\"description\"][i].split(\".\")\n",
        "  predictions=classifier(sentences)\n",
        "  max_scores = calculate_max_emotion_scores(predictions)\n",
        "  for label in emotion_labels:\n",
        "    emotion_scores[label].append(max_scores[label])"
      ]
    },
    {
      "cell_type": "code",
      "execution_count": null,
      "metadata": {
        "id": "oDubmj3kMrp5"
      },
      "outputs": [],
      "source": [
        "emotions_df=pd.DataFrame(emotion_scores)\n",
        "emotions_df[\"isbn13\"]=isbn"
      ]
    },
    {
      "cell_type": "code",
      "execution_count": null,
      "metadata": {
        "id": "FT4dfpN1NBCZ"
      },
      "outputs": [],
      "source": [
        "emotions_df"
      ]
    },
    {
      "cell_type": "code",
      "execution_count": null,
      "metadata": {
        "id": "i4K57beoNGJ6"
      },
      "outputs": [],
      "source": [
        "books = pd.merge(books,emotions_df,on=\"isbn13\")"
      ]
    },
    {
      "cell_type": "code",
      "execution_count": null,
      "metadata": {
        "id": "-UODOa4wN-lr"
      },
      "outputs": [],
      "source": [
        "books"
      ]
    },
    {
      "cell_type": "code",
      "execution_count": null,
      "metadata": {
        "id": "W8_DM6w5N_XB"
      },
      "outputs": [],
      "source": []
    },
    {
      "cell_type": "code",
      "execution_count": null,
      "metadata": {
        "id": "ul9487aTOZ7a"
      },
      "outputs": [],
      "source": []
    },
    {
      "cell_type": "code",
      "execution_count": null,
      "metadata": {
        "id": "vV8I97tCOTJY"
      },
      "outputs": [],
      "source": [
        "books.to_csv(\"books_with_emotions.csv\",index=False)"
      ]
    },
    {
      "cell_type": "code",
      "execution_count": null,
      "metadata": {
        "id": "8kqk2s-NOctL"
      },
      "outputs": [],
      "source": []
    }
  ],
  "metadata": {
    "accelerator": "GPU",
    "colab": {
      "gpuType": "T4",
      "provenance": []
    },
    "kernelspec": {
      "display_name": "Python 3",
      "name": "python3"
    },
    "language_info": {
      "name": "python"
    },
    "widgets": {
      "application/vnd.jupyter.widget-state+json": {
        "3e49dab6f8be4f19bf39e721a2594eb6": {
          "model_module": "@jupyter-widgets/controls",
          "model_name": "HBoxModel",
          "model_module_version": "1.5.0",
          "state": {
            "_dom_classes": [],
            "_model_module": "@jupyter-widgets/controls",
            "_model_module_version": "1.5.0",
            "_model_name": "HBoxModel",
            "_view_count": null,
            "_view_module": "@jupyter-widgets/controls",
            "_view_module_version": "1.5.0",
            "_view_name": "HBoxView",
            "box_style": "",
            "children": [
              "IPY_MODEL_eebcf663b2144b78bbc762319bb5a51a",
              "IPY_MODEL_65655d951edd4d238549e9c40c1740bd",
              "IPY_MODEL_65f6c1bcae5b499785c5323bed52acdd"
            ],
            "layout": "IPY_MODEL_e2a817f2a4f54f4d936e220a7feed7cb"
          }
        },
        "eebcf663b2144b78bbc762319bb5a51a": {
          "model_module": "@jupyter-widgets/controls",
          "model_name": "HTMLModel",
          "model_module_version": "1.5.0",
          "state": {
            "_dom_classes": [],
            "_model_module": "@jupyter-widgets/controls",
            "_model_module_version": "1.5.0",
            "_model_name": "HTMLModel",
            "_view_count": null,
            "_view_module": "@jupyter-widgets/controls",
            "_view_module_version": "1.5.0",
            "_view_name": "HTMLView",
            "description": "",
            "description_tooltip": null,
            "layout": "IPY_MODEL_ab800444148d487a83f9d9c8af0e702e",
            "placeholder": "​",
            "style": "IPY_MODEL_3267be5460d946f19c24ee45f3510ecc",
            "value": "config.json: 100%"
          }
        },
        "65655d951edd4d238549e9c40c1740bd": {
          "model_module": "@jupyter-widgets/controls",
          "model_name": "FloatProgressModel",
          "model_module_version": "1.5.0",
          "state": {
            "_dom_classes": [],
            "_model_module": "@jupyter-widgets/controls",
            "_model_module_version": "1.5.0",
            "_model_name": "FloatProgressModel",
            "_view_count": null,
            "_view_module": "@jupyter-widgets/controls",
            "_view_module_version": "1.5.0",
            "_view_name": "ProgressView",
            "bar_style": "success",
            "description": "",
            "description_tooltip": null,
            "layout": "IPY_MODEL_53c4c1d86098466bb41088e443523ba7",
            "max": 3712,
            "min": 0,
            "orientation": "horizontal",
            "style": "IPY_MODEL_0f0c39d63bd34ef89230ec9ebc0754a1",
            "value": 3712
          }
        },
        "65f6c1bcae5b499785c5323bed52acdd": {
          "model_module": "@jupyter-widgets/controls",
          "model_name": "HTMLModel",
          "model_module_version": "1.5.0",
          "state": {
            "_dom_classes": [],
            "_model_module": "@jupyter-widgets/controls",
            "_model_module_version": "1.5.0",
            "_model_name": "HTMLModel",
            "_view_count": null,
            "_view_module": "@jupyter-widgets/controls",
            "_view_module_version": "1.5.0",
            "_view_name": "HTMLView",
            "description": "",
            "description_tooltip": null,
            "layout": "IPY_MODEL_ceb27de7efae4e5b9855cf010a2c3adf",
            "placeholder": "​",
            "style": "IPY_MODEL_5e8f2ed9019e459fa6497909b3082574",
            "value": " 3.71k/3.71k [00:00&lt;00:00, 236kB/s]"
          }
        },
        "e2a817f2a4f54f4d936e220a7feed7cb": {
          "model_module": "@jupyter-widgets/base",
          "model_name": "LayoutModel",
          "model_module_version": "1.2.0",
          "state": {
            "_model_module": "@jupyter-widgets/base",
            "_model_module_version": "1.2.0",
            "_model_name": "LayoutModel",
            "_view_count": null,
            "_view_module": "@jupyter-widgets/base",
            "_view_module_version": "1.2.0",
            "_view_name": "LayoutView",
            "align_content": null,
            "align_items": null,
            "align_self": null,
            "border": null,
            "bottom": null,
            "display": null,
            "flex": null,
            "flex_flow": null,
            "grid_area": null,
            "grid_auto_columns": null,
            "grid_auto_flow": null,
            "grid_auto_rows": null,
            "grid_column": null,
            "grid_gap": null,
            "grid_row": null,
            "grid_template_areas": null,
            "grid_template_columns": null,
            "grid_template_rows": null,
            "height": null,
            "justify_content": null,
            "justify_items": null,
            "left": null,
            "margin": null,
            "max_height": null,
            "max_width": null,
            "min_height": null,
            "min_width": null,
            "object_fit": null,
            "object_position": null,
            "order": null,
            "overflow": null,
            "overflow_x": null,
            "overflow_y": null,
            "padding": null,
            "right": null,
            "top": null,
            "visibility": null,
            "width": null
          }
        },
        "ab800444148d487a83f9d9c8af0e702e": {
          "model_module": "@jupyter-widgets/base",
          "model_name": "LayoutModel",
          "model_module_version": "1.2.0",
          "state": {
            "_model_module": "@jupyter-widgets/base",
            "_model_module_version": "1.2.0",
            "_model_name": "LayoutModel",
            "_view_count": null,
            "_view_module": "@jupyter-widgets/base",
            "_view_module_version": "1.2.0",
            "_view_name": "LayoutView",
            "align_content": null,
            "align_items": null,
            "align_self": null,
            "border": null,
            "bottom": null,
            "display": null,
            "flex": null,
            "flex_flow": null,
            "grid_area": null,
            "grid_auto_columns": null,
            "grid_auto_flow": null,
            "grid_auto_rows": null,
            "grid_column": null,
            "grid_gap": null,
            "grid_row": null,
            "grid_template_areas": null,
            "grid_template_columns": null,
            "grid_template_rows": null,
            "height": null,
            "justify_content": null,
            "justify_items": null,
            "left": null,
            "margin": null,
            "max_height": null,
            "max_width": null,
            "min_height": null,
            "min_width": null,
            "object_fit": null,
            "object_position": null,
            "order": null,
            "overflow": null,
            "overflow_x": null,
            "overflow_y": null,
            "padding": null,
            "right": null,
            "top": null,
            "visibility": null,
            "width": null
          }
        },
        "3267be5460d946f19c24ee45f3510ecc": {
          "model_module": "@jupyter-widgets/controls",
          "model_name": "DescriptionStyleModel",
          "model_module_version": "1.5.0",
          "state": {
            "_model_module": "@jupyter-widgets/controls",
            "_model_module_version": "1.5.0",
            "_model_name": "DescriptionStyleModel",
            "_view_count": null,
            "_view_module": "@jupyter-widgets/base",
            "_view_module_version": "1.2.0",
            "_view_name": "StyleView",
            "description_width": ""
          }
        },
        "53c4c1d86098466bb41088e443523ba7": {
          "model_module": "@jupyter-widgets/base",
          "model_name": "LayoutModel",
          "model_module_version": "1.2.0",
          "state": {
            "_model_module": "@jupyter-widgets/base",
            "_model_module_version": "1.2.0",
            "_model_name": "LayoutModel",
            "_view_count": null,
            "_view_module": "@jupyter-widgets/base",
            "_view_module_version": "1.2.0",
            "_view_name": "LayoutView",
            "align_content": null,
            "align_items": null,
            "align_self": null,
            "border": null,
            "bottom": null,
            "display": null,
            "flex": null,
            "flex_flow": null,
            "grid_area": null,
            "grid_auto_columns": null,
            "grid_auto_flow": null,
            "grid_auto_rows": null,
            "grid_column": null,
            "grid_gap": null,
            "grid_row": null,
            "grid_template_areas": null,
            "grid_template_columns": null,
            "grid_template_rows": null,
            "height": null,
            "justify_content": null,
            "justify_items": null,
            "left": null,
            "margin": null,
            "max_height": null,
            "max_width": null,
            "min_height": null,
            "min_width": null,
            "object_fit": null,
            "object_position": null,
            "order": null,
            "overflow": null,
            "overflow_x": null,
            "overflow_y": null,
            "padding": null,
            "right": null,
            "top": null,
            "visibility": null,
            "width": null
          }
        },
        "0f0c39d63bd34ef89230ec9ebc0754a1": {
          "model_module": "@jupyter-widgets/controls",
          "model_name": "ProgressStyleModel",
          "model_module_version": "1.5.0",
          "state": {
            "_model_module": "@jupyter-widgets/controls",
            "_model_module_version": "1.5.0",
            "_model_name": "ProgressStyleModel",
            "_view_count": null,
            "_view_module": "@jupyter-widgets/base",
            "_view_module_version": "1.2.0",
            "_view_name": "StyleView",
            "bar_color": null,
            "description_width": ""
          }
        },
        "ceb27de7efae4e5b9855cf010a2c3adf": {
          "model_module": "@jupyter-widgets/base",
          "model_name": "LayoutModel",
          "model_module_version": "1.2.0",
          "state": {
            "_model_module": "@jupyter-widgets/base",
            "_model_module_version": "1.2.0",
            "_model_name": "LayoutModel",
            "_view_count": null,
            "_view_module": "@jupyter-widgets/base",
            "_view_module_version": "1.2.0",
            "_view_name": "LayoutView",
            "align_content": null,
            "align_items": null,
            "align_self": null,
            "border": null,
            "bottom": null,
            "display": null,
            "flex": null,
            "flex_flow": null,
            "grid_area": null,
            "grid_auto_columns": null,
            "grid_auto_flow": null,
            "grid_auto_rows": null,
            "grid_column": null,
            "grid_gap": null,
            "grid_row": null,
            "grid_template_areas": null,
            "grid_template_columns": null,
            "grid_template_rows": null,
            "height": null,
            "justify_content": null,
            "justify_items": null,
            "left": null,
            "margin": null,
            "max_height": null,
            "max_width": null,
            "min_height": null,
            "min_width": null,
            "object_fit": null,
            "object_position": null,
            "order": null,
            "overflow": null,
            "overflow_x": null,
            "overflow_y": null,
            "padding": null,
            "right": null,
            "top": null,
            "visibility": null,
            "width": null
          }
        },
        "5e8f2ed9019e459fa6497909b3082574": {
          "model_module": "@jupyter-widgets/controls",
          "model_name": "DescriptionStyleModel",
          "model_module_version": "1.5.0",
          "state": {
            "_model_module": "@jupyter-widgets/controls",
            "_model_module_version": "1.5.0",
            "_model_name": "DescriptionStyleModel",
            "_view_count": null,
            "_view_module": "@jupyter-widgets/base",
            "_view_module_version": "1.2.0",
            "_view_name": "StyleView",
            "description_width": ""
          }
        },
        "d311c6c9a9734ca79a90f18035aacada": {
          "model_module": "@jupyter-widgets/controls",
          "model_name": "HBoxModel",
          "model_module_version": "1.5.0",
          "state": {
            "_dom_classes": [],
            "_model_module": "@jupyter-widgets/controls",
            "_model_module_version": "1.5.0",
            "_model_name": "HBoxModel",
            "_view_count": null,
            "_view_module": "@jupyter-widgets/controls",
            "_view_module_version": "1.5.0",
            "_view_name": "HBoxView",
            "box_style": "",
            "children": [
              "IPY_MODEL_73cb1649030646a3b90a53c0b7efdaf9",
              "IPY_MODEL_0f10e6f0816a4e7eb2c8a948f25af40f",
              "IPY_MODEL_dc8f1077318243bf867b01f648f55658"
            ],
            "layout": "IPY_MODEL_f1132c4e4d2b47fea1461913184e62a9"
          }
        },
        "73cb1649030646a3b90a53c0b7efdaf9": {
          "model_module": "@jupyter-widgets/controls",
          "model_name": "HTMLModel",
          "model_module_version": "1.5.0",
          "state": {
            "_dom_classes": [],
            "_model_module": "@jupyter-widgets/controls",
            "_model_module_version": "1.5.0",
            "_model_name": "HTMLModel",
            "_view_count": null,
            "_view_module": "@jupyter-widgets/controls",
            "_view_module_version": "1.5.0",
            "_view_name": "HTMLView",
            "description": "",
            "description_tooltip": null,
            "layout": "IPY_MODEL_3d16db59273543da9e3e67a29f37ed3d",
            "placeholder": "​",
            "style": "IPY_MODEL_8b0a9e8e83ed4894bc0907d4687d9375",
            "value": "model.safetensors: 100%"
          }
        },
        "0f10e6f0816a4e7eb2c8a948f25af40f": {
          "model_module": "@jupyter-widgets/controls",
          "model_name": "FloatProgressModel",
          "model_module_version": "1.5.0",
          "state": {
            "_dom_classes": [],
            "_model_module": "@jupyter-widgets/controls",
            "_model_module_version": "1.5.0",
            "_model_name": "FloatProgressModel",
            "_view_count": null,
            "_view_module": "@jupyter-widgets/controls",
            "_view_module_version": "1.5.0",
            "_view_name": "ProgressView",
            "bar_style": "success",
            "description": "",
            "description_tooltip": null,
            "layout": "IPY_MODEL_86b6ed85336c43c1a50f1b862ea89016",
            "max": 605529372,
            "min": 0,
            "orientation": "horizontal",
            "style": "IPY_MODEL_1099875c7d714fd4bb8d8f03f4b86925",
            "value": 605529372
          }
        },
        "dc8f1077318243bf867b01f648f55658": {
          "model_module": "@jupyter-widgets/controls",
          "model_name": "HTMLModel",
          "model_module_version": "1.5.0",
          "state": {
            "_dom_classes": [],
            "_model_module": "@jupyter-widgets/controls",
            "_model_module_version": "1.5.0",
            "_model_name": "HTMLModel",
            "_view_count": null,
            "_view_module": "@jupyter-widgets/controls",
            "_view_module_version": "1.5.0",
            "_view_name": "HTMLView",
            "description": "",
            "description_tooltip": null,
            "layout": "IPY_MODEL_e3374360e6634ffbbae5babd4936fdef",
            "placeholder": "​",
            "style": "IPY_MODEL_09c3ff85a4c542379d3bf49230bd60f1",
            "value": " 606M/606M [00:07&lt;00:00, 76.0MB/s]"
          }
        },
        "f1132c4e4d2b47fea1461913184e62a9": {
          "model_module": "@jupyter-widgets/base",
          "model_name": "LayoutModel",
          "model_module_version": "1.2.0",
          "state": {
            "_model_module": "@jupyter-widgets/base",
            "_model_module_version": "1.2.0",
            "_model_name": "LayoutModel",
            "_view_count": null,
            "_view_module": "@jupyter-widgets/base",
            "_view_module_version": "1.2.0",
            "_view_name": "LayoutView",
            "align_content": null,
            "align_items": null,
            "align_self": null,
            "border": null,
            "bottom": null,
            "display": null,
            "flex": null,
            "flex_flow": null,
            "grid_area": null,
            "grid_auto_columns": null,
            "grid_auto_flow": null,
            "grid_auto_rows": null,
            "grid_column": null,
            "grid_gap": null,
            "grid_row": null,
            "grid_template_areas": null,
            "grid_template_columns": null,
            "grid_template_rows": null,
            "height": null,
            "justify_content": null,
            "justify_items": null,
            "left": null,
            "margin": null,
            "max_height": null,
            "max_width": null,
            "min_height": null,
            "min_width": null,
            "object_fit": null,
            "object_position": null,
            "order": null,
            "overflow": null,
            "overflow_x": null,
            "overflow_y": null,
            "padding": null,
            "right": null,
            "top": null,
            "visibility": null,
            "width": null
          }
        },
        "3d16db59273543da9e3e67a29f37ed3d": {
          "model_module": "@jupyter-widgets/base",
          "model_name": "LayoutModel",
          "model_module_version": "1.2.0",
          "state": {
            "_model_module": "@jupyter-widgets/base",
            "_model_module_version": "1.2.0",
            "_model_name": "LayoutModel",
            "_view_count": null,
            "_view_module": "@jupyter-widgets/base",
            "_view_module_version": "1.2.0",
            "_view_name": "LayoutView",
            "align_content": null,
            "align_items": null,
            "align_self": null,
            "border": null,
            "bottom": null,
            "display": null,
            "flex": null,
            "flex_flow": null,
            "grid_area": null,
            "grid_auto_columns": null,
            "grid_auto_flow": null,
            "grid_auto_rows": null,
            "grid_column": null,
            "grid_gap": null,
            "grid_row": null,
            "grid_template_areas": null,
            "grid_template_columns": null,
            "grid_template_rows": null,
            "height": null,
            "justify_content": null,
            "justify_items": null,
            "left": null,
            "margin": null,
            "max_height": null,
            "max_width": null,
            "min_height": null,
            "min_width": null,
            "object_fit": null,
            "object_position": null,
            "order": null,
            "overflow": null,
            "overflow_x": null,
            "overflow_y": null,
            "padding": null,
            "right": null,
            "top": null,
            "visibility": null,
            "width": null
          }
        },
        "8b0a9e8e83ed4894bc0907d4687d9375": {
          "model_module": "@jupyter-widgets/controls",
          "model_name": "DescriptionStyleModel",
          "model_module_version": "1.5.0",
          "state": {
            "_model_module": "@jupyter-widgets/controls",
            "_model_module_version": "1.5.0",
            "_model_name": "DescriptionStyleModel",
            "_view_count": null,
            "_view_module": "@jupyter-widgets/base",
            "_view_module_version": "1.2.0",
            "_view_name": "StyleView",
            "description_width": ""
          }
        },
        "86b6ed85336c43c1a50f1b862ea89016": {
          "model_module": "@jupyter-widgets/base",
          "model_name": "LayoutModel",
          "model_module_version": "1.2.0",
          "state": {
            "_model_module": "@jupyter-widgets/base",
            "_model_module_version": "1.2.0",
            "_model_name": "LayoutModel",
            "_view_count": null,
            "_view_module": "@jupyter-widgets/base",
            "_view_module_version": "1.2.0",
            "_view_name": "LayoutView",
            "align_content": null,
            "align_items": null,
            "align_self": null,
            "border": null,
            "bottom": null,
            "display": null,
            "flex": null,
            "flex_flow": null,
            "grid_area": null,
            "grid_auto_columns": null,
            "grid_auto_flow": null,
            "grid_auto_rows": null,
            "grid_column": null,
            "grid_gap": null,
            "grid_row": null,
            "grid_template_areas": null,
            "grid_template_columns": null,
            "grid_template_rows": null,
            "height": null,
            "justify_content": null,
            "justify_items": null,
            "left": null,
            "margin": null,
            "max_height": null,
            "max_width": null,
            "min_height": null,
            "min_width": null,
            "object_fit": null,
            "object_position": null,
            "order": null,
            "overflow": null,
            "overflow_x": null,
            "overflow_y": null,
            "padding": null,
            "right": null,
            "top": null,
            "visibility": null,
            "width": null
          }
        },
        "1099875c7d714fd4bb8d8f03f4b86925": {
          "model_module": "@jupyter-widgets/controls",
          "model_name": "ProgressStyleModel",
          "model_module_version": "1.5.0",
          "state": {
            "_model_module": "@jupyter-widgets/controls",
            "_model_module_version": "1.5.0",
            "_model_name": "ProgressStyleModel",
            "_view_count": null,
            "_view_module": "@jupyter-widgets/base",
            "_view_module_version": "1.2.0",
            "_view_name": "StyleView",
            "bar_color": null,
            "description_width": ""
          }
        },
        "e3374360e6634ffbbae5babd4936fdef": {
          "model_module": "@jupyter-widgets/base",
          "model_name": "LayoutModel",
          "model_module_version": "1.2.0",
          "state": {
            "_model_module": "@jupyter-widgets/base",
            "_model_module_version": "1.2.0",
            "_model_name": "LayoutModel",
            "_view_count": null,
            "_view_module": "@jupyter-widgets/base",
            "_view_module_version": "1.2.0",
            "_view_name": "LayoutView",
            "align_content": null,
            "align_items": null,
            "align_self": null,
            "border": null,
            "bottom": null,
            "display": null,
            "flex": null,
            "flex_flow": null,
            "grid_area": null,
            "grid_auto_columns": null,
            "grid_auto_flow": null,
            "grid_auto_rows": null,
            "grid_column": null,
            "grid_gap": null,
            "grid_row": null,
            "grid_template_areas": null,
            "grid_template_columns": null,
            "grid_template_rows": null,
            "height": null,
            "justify_content": null,
            "justify_items": null,
            "left": null,
            "margin": null,
            "max_height": null,
            "max_width": null,
            "min_height": null,
            "min_width": null,
            "object_fit": null,
            "object_position": null,
            "order": null,
            "overflow": null,
            "overflow_x": null,
            "overflow_y": null,
            "padding": null,
            "right": null,
            "top": null,
            "visibility": null,
            "width": null
          }
        },
        "09c3ff85a4c542379d3bf49230bd60f1": {
          "model_module": "@jupyter-widgets/controls",
          "model_name": "DescriptionStyleModel",
          "model_module_version": "1.5.0",
          "state": {
            "_model_module": "@jupyter-widgets/controls",
            "_model_module_version": "1.5.0",
            "_model_name": "DescriptionStyleModel",
            "_view_count": null,
            "_view_module": "@jupyter-widgets/base",
            "_view_module_version": "1.2.0",
            "_view_name": "StyleView",
            "description_width": ""
          }
        },
        "c37d611f6be54d7eb95c98bf261fd25a": {
          "model_module": "@jupyter-widgets/controls",
          "model_name": "HBoxModel",
          "model_module_version": "1.5.0",
          "state": {
            "_dom_classes": [],
            "_model_module": "@jupyter-widgets/controls",
            "_model_module_version": "1.5.0",
            "_model_name": "HBoxModel",
            "_view_count": null,
            "_view_module": "@jupyter-widgets/controls",
            "_view_module_version": "1.5.0",
            "_view_name": "HBoxView",
            "box_style": "",
            "children": [
              "IPY_MODEL_3bc662130d8c4bca8bcdd84ee54ecd7a",
              "IPY_MODEL_1f1a19ceda3e4c6281f217214ee24294",
              "IPY_MODEL_a8cc9ac86aba498eb9603796fd189abd"
            ],
            "layout": "IPY_MODEL_154d85fab7b14d5cb8da21da6b3fa58b"
          }
        },
        "3bc662130d8c4bca8bcdd84ee54ecd7a": {
          "model_module": "@jupyter-widgets/controls",
          "model_name": "HTMLModel",
          "model_module_version": "1.5.0",
          "state": {
            "_dom_classes": [],
            "_model_module": "@jupyter-widgets/controls",
            "_model_module_version": "1.5.0",
            "_model_name": "HTMLModel",
            "_view_count": null,
            "_view_module": "@jupyter-widgets/controls",
            "_view_module_version": "1.5.0",
            "_view_name": "HTMLView",
            "description": "",
            "description_tooltip": null,
            "layout": "IPY_MODEL_56fcfb19633242fd889f60c6e14e5c72",
            "placeholder": "​",
            "style": "IPY_MODEL_22ea4273f22f45c1b95d8827012e8c0b",
            "value": "tokenizer_config.json: 100%"
          }
        },
        "1f1a19ceda3e4c6281f217214ee24294": {
          "model_module": "@jupyter-widgets/controls",
          "model_name": "FloatProgressModel",
          "model_module_version": "1.5.0",
          "state": {
            "_dom_classes": [],
            "_model_module": "@jupyter-widgets/controls",
            "_model_module_version": "1.5.0",
            "_model_name": "FloatProgressModel",
            "_view_count": null,
            "_view_module": "@jupyter-widgets/controls",
            "_view_module_version": "1.5.0",
            "_view_name": "ProgressView",
            "bar_style": "success",
            "description": "",
            "description_tooltip": null,
            "layout": "IPY_MODEL_55c16636c0764a96b2e017f29a078921",
            "max": 21188,
            "min": 0,
            "orientation": "horizontal",
            "style": "IPY_MODEL_6c37e8fe7f0f48cc8215f95047bc7cd9",
            "value": 21188
          }
        },
        "a8cc9ac86aba498eb9603796fd189abd": {
          "model_module": "@jupyter-widgets/controls",
          "model_name": "HTMLModel",
          "model_module_version": "1.5.0",
          "state": {
            "_dom_classes": [],
            "_model_module": "@jupyter-widgets/controls",
            "_model_module_version": "1.5.0",
            "_model_name": "HTMLModel",
            "_view_count": null,
            "_view_module": "@jupyter-widgets/controls",
            "_view_module_version": "1.5.0",
            "_view_name": "HTMLView",
            "description": "",
            "description_tooltip": null,
            "layout": "IPY_MODEL_d207e42a4f884b75a316a2a22b730bca",
            "placeholder": "​",
            "style": "IPY_MODEL_58f9d4a441414a8da8c94b2f46d1faca",
            "value": " 21.2k/21.2k [00:00&lt;00:00, 459kB/s]"
          }
        },
        "154d85fab7b14d5cb8da21da6b3fa58b": {
          "model_module": "@jupyter-widgets/base",
          "model_name": "LayoutModel",
          "model_module_version": "1.2.0",
          "state": {
            "_model_module": "@jupyter-widgets/base",
            "_model_module_version": "1.2.0",
            "_model_name": "LayoutModel",
            "_view_count": null,
            "_view_module": "@jupyter-widgets/base",
            "_view_module_version": "1.2.0",
            "_view_name": "LayoutView",
            "align_content": null,
            "align_items": null,
            "align_self": null,
            "border": null,
            "bottom": null,
            "display": null,
            "flex": null,
            "flex_flow": null,
            "grid_area": null,
            "grid_auto_columns": null,
            "grid_auto_flow": null,
            "grid_auto_rows": null,
            "grid_column": null,
            "grid_gap": null,
            "grid_row": null,
            "grid_template_areas": null,
            "grid_template_columns": null,
            "grid_template_rows": null,
            "height": null,
            "justify_content": null,
            "justify_items": null,
            "left": null,
            "margin": null,
            "max_height": null,
            "max_width": null,
            "min_height": null,
            "min_width": null,
            "object_fit": null,
            "object_position": null,
            "order": null,
            "overflow": null,
            "overflow_x": null,
            "overflow_y": null,
            "padding": null,
            "right": null,
            "top": null,
            "visibility": null,
            "width": null
          }
        },
        "56fcfb19633242fd889f60c6e14e5c72": {
          "model_module": "@jupyter-widgets/base",
          "model_name": "LayoutModel",
          "model_module_version": "1.2.0",
          "state": {
            "_model_module": "@jupyter-widgets/base",
            "_model_module_version": "1.2.0",
            "_model_name": "LayoutModel",
            "_view_count": null,
            "_view_module": "@jupyter-widgets/base",
            "_view_module_version": "1.2.0",
            "_view_name": "LayoutView",
            "align_content": null,
            "align_items": null,
            "align_self": null,
            "border": null,
            "bottom": null,
            "display": null,
            "flex": null,
            "flex_flow": null,
            "grid_area": null,
            "grid_auto_columns": null,
            "grid_auto_flow": null,
            "grid_auto_rows": null,
            "grid_column": null,
            "grid_gap": null,
            "grid_row": null,
            "grid_template_areas": null,
            "grid_template_columns": null,
            "grid_template_rows": null,
            "height": null,
            "justify_content": null,
            "justify_items": null,
            "left": null,
            "margin": null,
            "max_height": null,
            "max_width": null,
            "min_height": null,
            "min_width": null,
            "object_fit": null,
            "object_position": null,
            "order": null,
            "overflow": null,
            "overflow_x": null,
            "overflow_y": null,
            "padding": null,
            "right": null,
            "top": null,
            "visibility": null,
            "width": null
          }
        },
        "22ea4273f22f45c1b95d8827012e8c0b": {
          "model_module": "@jupyter-widgets/controls",
          "model_name": "DescriptionStyleModel",
          "model_module_version": "1.5.0",
          "state": {
            "_model_module": "@jupyter-widgets/controls",
            "_model_module_version": "1.5.0",
            "_model_name": "DescriptionStyleModel",
            "_view_count": null,
            "_view_module": "@jupyter-widgets/base",
            "_view_module_version": "1.2.0",
            "_view_name": "StyleView",
            "description_width": ""
          }
        },
        "55c16636c0764a96b2e017f29a078921": {
          "model_module": "@jupyter-widgets/base",
          "model_name": "LayoutModel",
          "model_module_version": "1.2.0",
          "state": {
            "_model_module": "@jupyter-widgets/base",
            "_model_module_version": "1.2.0",
            "_model_name": "LayoutModel",
            "_view_count": null,
            "_view_module": "@jupyter-widgets/base",
            "_view_module_version": "1.2.0",
            "_view_name": "LayoutView",
            "align_content": null,
            "align_items": null,
            "align_self": null,
            "border": null,
            "bottom": null,
            "display": null,
            "flex": null,
            "flex_flow": null,
            "grid_area": null,
            "grid_auto_columns": null,
            "grid_auto_flow": null,
            "grid_auto_rows": null,
            "grid_column": null,
            "grid_gap": null,
            "grid_row": null,
            "grid_template_areas": null,
            "grid_template_columns": null,
            "grid_template_rows": null,
            "height": null,
            "justify_content": null,
            "justify_items": null,
            "left": null,
            "margin": null,
            "max_height": null,
            "max_width": null,
            "min_height": null,
            "min_width": null,
            "object_fit": null,
            "object_position": null,
            "order": null,
            "overflow": null,
            "overflow_x": null,
            "overflow_y": null,
            "padding": null,
            "right": null,
            "top": null,
            "visibility": null,
            "width": null
          }
        },
        "6c37e8fe7f0f48cc8215f95047bc7cd9": {
          "model_module": "@jupyter-widgets/controls",
          "model_name": "ProgressStyleModel",
          "model_module_version": "1.5.0",
          "state": {
            "_model_module": "@jupyter-widgets/controls",
            "_model_module_version": "1.5.0",
            "_model_name": "ProgressStyleModel",
            "_view_count": null,
            "_view_module": "@jupyter-widgets/base",
            "_view_module_version": "1.2.0",
            "_view_name": "StyleView",
            "bar_color": null,
            "description_width": ""
          }
        },
        "d207e42a4f884b75a316a2a22b730bca": {
          "model_module": "@jupyter-widgets/base",
          "model_name": "LayoutModel",
          "model_module_version": "1.2.0",
          "state": {
            "_model_module": "@jupyter-widgets/base",
            "_model_module_version": "1.2.0",
            "_model_name": "LayoutModel",
            "_view_count": null,
            "_view_module": "@jupyter-widgets/base",
            "_view_module_version": "1.2.0",
            "_view_name": "LayoutView",
            "align_content": null,
            "align_items": null,
            "align_self": null,
            "border": null,
            "bottom": null,
            "display": null,
            "flex": null,
            "flex_flow": null,
            "grid_area": null,
            "grid_auto_columns": null,
            "grid_auto_flow": null,
            "grid_auto_rows": null,
            "grid_column": null,
            "grid_gap": null,
            "grid_row": null,
            "grid_template_areas": null,
            "grid_template_columns": null,
            "grid_template_rows": null,
            "height": null,
            "justify_content": null,
            "justify_items": null,
            "left": null,
            "margin": null,
            "max_height": null,
            "max_width": null,
            "min_height": null,
            "min_width": null,
            "object_fit": null,
            "object_position": null,
            "order": null,
            "overflow": null,
            "overflow_x": null,
            "overflow_y": null,
            "padding": null,
            "right": null,
            "top": null,
            "visibility": null,
            "width": null
          }
        },
        "58f9d4a441414a8da8c94b2f46d1faca": {
          "model_module": "@jupyter-widgets/controls",
          "model_name": "DescriptionStyleModel",
          "model_module_version": "1.5.0",
          "state": {
            "_model_module": "@jupyter-widgets/controls",
            "_model_module_version": "1.5.0",
            "_model_name": "DescriptionStyleModel",
            "_view_count": null,
            "_view_module": "@jupyter-widgets/base",
            "_view_module_version": "1.2.0",
            "_view_name": "StyleView",
            "description_width": ""
          }
        },
        "b9741852867243f88a9c7d69d98e33e5": {
          "model_module": "@jupyter-widgets/controls",
          "model_name": "HBoxModel",
          "model_module_version": "1.5.0",
          "state": {
            "_dom_classes": [],
            "_model_module": "@jupyter-widgets/controls",
            "_model_module_version": "1.5.0",
            "_model_name": "HBoxModel",
            "_view_count": null,
            "_view_module": "@jupyter-widgets/controls",
            "_view_module_version": "1.5.0",
            "_view_name": "HBoxView",
            "box_style": "",
            "children": [
              "IPY_MODEL_77641e3a74f94eadbea577432e335d4c",
              "IPY_MODEL_90d29571dd0f4e098363b1a490380029",
              "IPY_MODEL_070bb0d461b04583a483bf2f65fa5332"
            ],
            "layout": "IPY_MODEL_1604c5288ab248148f9320d13db5b8b0"
          }
        },
        "77641e3a74f94eadbea577432e335d4c": {
          "model_module": "@jupyter-widgets/controls",
          "model_name": "HTMLModel",
          "model_module_version": "1.5.0",
          "state": {
            "_dom_classes": [],
            "_model_module": "@jupyter-widgets/controls",
            "_model_module_version": "1.5.0",
            "_model_name": "HTMLModel",
            "_view_count": null,
            "_view_module": "@jupyter-widgets/controls",
            "_view_module_version": "1.5.0",
            "_view_name": "HTMLView",
            "description": "",
            "description_tooltip": null,
            "layout": "IPY_MODEL_6b186f72f61c4355b31f5646a03c1835",
            "placeholder": "​",
            "style": "IPY_MODEL_5c6a3fecb2c34b2aaec932c9261cd920",
            "value": "tokenizer.json: 100%"
          }
        },
        "90d29571dd0f4e098363b1a490380029": {
          "model_module": "@jupyter-widgets/controls",
          "model_name": "FloatProgressModel",
          "model_module_version": "1.5.0",
          "state": {
            "_dom_classes": [],
            "_model_module": "@jupyter-widgets/controls",
            "_model_module_version": "1.5.0",
            "_model_name": "FloatProgressModel",
            "_view_count": null,
            "_view_module": "@jupyter-widgets/controls",
            "_view_module_version": "1.5.0",
            "_view_name": "ProgressView",
            "bar_style": "success",
            "description": "",
            "description_tooltip": null,
            "layout": "IPY_MODEL_22ec4616bca34921a87d398375f44766",
            "max": 3583596,
            "min": 0,
            "orientation": "horizontal",
            "style": "IPY_MODEL_cb91cef2fbae4fbabd6a80b6fc9fa688",
            "value": 3583596
          }
        },
        "070bb0d461b04583a483bf2f65fa5332": {
          "model_module": "@jupyter-widgets/controls",
          "model_name": "HTMLModel",
          "model_module_version": "1.5.0",
          "state": {
            "_dom_classes": [],
            "_model_module": "@jupyter-widgets/controls",
            "_model_module_version": "1.5.0",
            "_model_name": "HTMLModel",
            "_view_count": null,
            "_view_module": "@jupyter-widgets/controls",
            "_view_module_version": "1.5.0",
            "_view_name": "HTMLView",
            "description": "",
            "description_tooltip": null,
            "layout": "IPY_MODEL_68d5077d864b4553bf6cc746ab970fe9",
            "placeholder": "​",
            "style": "IPY_MODEL_92a30cc306cc49f790b69cea8f6932e9",
            "value": " 3.58M/3.58M [00:00&lt;00:00, 17.7MB/s]"
          }
        },
        "1604c5288ab248148f9320d13db5b8b0": {
          "model_module": "@jupyter-widgets/base",
          "model_name": "LayoutModel",
          "model_module_version": "1.2.0",
          "state": {
            "_model_module": "@jupyter-widgets/base",
            "_model_module_version": "1.2.0",
            "_model_name": "LayoutModel",
            "_view_count": null,
            "_view_module": "@jupyter-widgets/base",
            "_view_module_version": "1.2.0",
            "_view_name": "LayoutView",
            "align_content": null,
            "align_items": null,
            "align_self": null,
            "border": null,
            "bottom": null,
            "display": null,
            "flex": null,
            "flex_flow": null,
            "grid_area": null,
            "grid_auto_columns": null,
            "grid_auto_flow": null,
            "grid_auto_rows": null,
            "grid_column": null,
            "grid_gap": null,
            "grid_row": null,
            "grid_template_areas": null,
            "grid_template_columns": null,
            "grid_template_rows": null,
            "height": null,
            "justify_content": null,
            "justify_items": null,
            "left": null,
            "margin": null,
            "max_height": null,
            "max_width": null,
            "min_height": null,
            "min_width": null,
            "object_fit": null,
            "object_position": null,
            "order": null,
            "overflow": null,
            "overflow_x": null,
            "overflow_y": null,
            "padding": null,
            "right": null,
            "top": null,
            "visibility": null,
            "width": null
          }
        },
        "6b186f72f61c4355b31f5646a03c1835": {
          "model_module": "@jupyter-widgets/base",
          "model_name": "LayoutModel",
          "model_module_version": "1.2.0",
          "state": {
            "_model_module": "@jupyter-widgets/base",
            "_model_module_version": "1.2.0",
            "_model_name": "LayoutModel",
            "_view_count": null,
            "_view_module": "@jupyter-widgets/base",
            "_view_module_version": "1.2.0",
            "_view_name": "LayoutView",
            "align_content": null,
            "align_items": null,
            "align_self": null,
            "border": null,
            "bottom": null,
            "display": null,
            "flex": null,
            "flex_flow": null,
            "grid_area": null,
            "grid_auto_columns": null,
            "grid_auto_flow": null,
            "grid_auto_rows": null,
            "grid_column": null,
            "grid_gap": null,
            "grid_row": null,
            "grid_template_areas": null,
            "grid_template_columns": null,
            "grid_template_rows": null,
            "height": null,
            "justify_content": null,
            "justify_items": null,
            "left": null,
            "margin": null,
            "max_height": null,
            "max_width": null,
            "min_height": null,
            "min_width": null,
            "object_fit": null,
            "object_position": null,
            "order": null,
            "overflow": null,
            "overflow_x": null,
            "overflow_y": null,
            "padding": null,
            "right": null,
            "top": null,
            "visibility": null,
            "width": null
          }
        },
        "5c6a3fecb2c34b2aaec932c9261cd920": {
          "model_module": "@jupyter-widgets/controls",
          "model_name": "DescriptionStyleModel",
          "model_module_version": "1.5.0",
          "state": {
            "_model_module": "@jupyter-widgets/controls",
            "_model_module_version": "1.5.0",
            "_model_name": "DescriptionStyleModel",
            "_view_count": null,
            "_view_module": "@jupyter-widgets/base",
            "_view_module_version": "1.2.0",
            "_view_name": "StyleView",
            "description_width": ""
          }
        },
        "22ec4616bca34921a87d398375f44766": {
          "model_module": "@jupyter-widgets/base",
          "model_name": "LayoutModel",
          "model_module_version": "1.2.0",
          "state": {
            "_model_module": "@jupyter-widgets/base",
            "_model_module_version": "1.2.0",
            "_model_name": "LayoutModel",
            "_view_count": null,
            "_view_module": "@jupyter-widgets/base",
            "_view_module_version": "1.2.0",
            "_view_name": "LayoutView",
            "align_content": null,
            "align_items": null,
            "align_self": null,
            "border": null,
            "bottom": null,
            "display": null,
            "flex": null,
            "flex_flow": null,
            "grid_area": null,
            "grid_auto_columns": null,
            "grid_auto_flow": null,
            "grid_auto_rows": null,
            "grid_column": null,
            "grid_gap": null,
            "grid_row": null,
            "grid_template_areas": null,
            "grid_template_columns": null,
            "grid_template_rows": null,
            "height": null,
            "justify_content": null,
            "justify_items": null,
            "left": null,
            "margin": null,
            "max_height": null,
            "max_width": null,
            "min_height": null,
            "min_width": null,
            "object_fit": null,
            "object_position": null,
            "order": null,
            "overflow": null,
            "overflow_x": null,
            "overflow_y": null,
            "padding": null,
            "right": null,
            "top": null,
            "visibility": null,
            "width": null
          }
        },
        "cb91cef2fbae4fbabd6a80b6fc9fa688": {
          "model_module": "@jupyter-widgets/controls",
          "model_name": "ProgressStyleModel",
          "model_module_version": "1.5.0",
          "state": {
            "_model_module": "@jupyter-widgets/controls",
            "_model_module_version": "1.5.0",
            "_model_name": "ProgressStyleModel",
            "_view_count": null,
            "_view_module": "@jupyter-widgets/base",
            "_view_module_version": "1.2.0",
            "_view_name": "StyleView",
            "bar_color": null,
            "description_width": ""
          }
        },
        "68d5077d864b4553bf6cc746ab970fe9": {
          "model_module": "@jupyter-widgets/base",
          "model_name": "LayoutModel",
          "model_module_version": "1.2.0",
          "state": {
            "_model_module": "@jupyter-widgets/base",
            "_model_module_version": "1.2.0",
            "_model_name": "LayoutModel",
            "_view_count": null,
            "_view_module": "@jupyter-widgets/base",
            "_view_module_version": "1.2.0",
            "_view_name": "LayoutView",
            "align_content": null,
            "align_items": null,
            "align_self": null,
            "border": null,
            "bottom": null,
            "display": null,
            "flex": null,
            "flex_flow": null,
            "grid_area": null,
            "grid_auto_columns": null,
            "grid_auto_flow": null,
            "grid_auto_rows": null,
            "grid_column": null,
            "grid_gap": null,
            "grid_row": null,
            "grid_template_areas": null,
            "grid_template_columns": null,
            "grid_template_rows": null,
            "height": null,
            "justify_content": null,
            "justify_items": null,
            "left": null,
            "margin": null,
            "max_height": null,
            "max_width": null,
            "min_height": null,
            "min_width": null,
            "object_fit": null,
            "object_position": null,
            "order": null,
            "overflow": null,
            "overflow_x": null,
            "overflow_y": null,
            "padding": null,
            "right": null,
            "top": null,
            "visibility": null,
            "width": null
          }
        },
        "92a30cc306cc49f790b69cea8f6932e9": {
          "model_module": "@jupyter-widgets/controls",
          "model_name": "DescriptionStyleModel",
          "model_module_version": "1.5.0",
          "state": {
            "_model_module": "@jupyter-widgets/controls",
            "_model_module_version": "1.5.0",
            "_model_name": "DescriptionStyleModel",
            "_view_count": null,
            "_view_module": "@jupyter-widgets/base",
            "_view_module_version": "1.2.0",
            "_view_name": "StyleView",
            "description_width": ""
          }
        },
        "03ae1a3ffaa747478a0371f4a040f236": {
          "model_module": "@jupyter-widgets/controls",
          "model_name": "HBoxModel",
          "model_module_version": "1.5.0",
          "state": {
            "_dom_classes": [],
            "_model_module": "@jupyter-widgets/controls",
            "_model_module_version": "1.5.0",
            "_model_name": "HBoxModel",
            "_view_count": null,
            "_view_module": "@jupyter-widgets/controls",
            "_view_module_version": "1.5.0",
            "_view_name": "HBoxView",
            "box_style": "",
            "children": [
              "IPY_MODEL_84f29b2b22a64374a1993851a92dd10a",
              "IPY_MODEL_bda06a45ee6d41e4ac76152f5f5a2d32",
              "IPY_MODEL_628f3bc683884463a8888449ad7d237f"
            ],
            "layout": "IPY_MODEL_d7a4df6d91d84c4393b02da95efc6620"
          }
        },
        "84f29b2b22a64374a1993851a92dd10a": {
          "model_module": "@jupyter-widgets/controls",
          "model_name": "HTMLModel",
          "model_module_version": "1.5.0",
          "state": {
            "_dom_classes": [],
            "_model_module": "@jupyter-widgets/controls",
            "_model_module_version": "1.5.0",
            "_model_name": "HTMLModel",
            "_view_count": null,
            "_view_module": "@jupyter-widgets/controls",
            "_view_module_version": "1.5.0",
            "_view_name": "HTMLView",
            "description": "",
            "description_tooltip": null,
            "layout": "IPY_MODEL_cc0d611553ea45dfb4fa6e62169dd5d4",
            "placeholder": "​",
            "style": "IPY_MODEL_d47149be3eec42b0876ae5e89c900e2c",
            "value": "special_tokens_map.json: 100%"
          }
        },
        "bda06a45ee6d41e4ac76152f5f5a2d32": {
          "model_module": "@jupyter-widgets/controls",
          "model_name": "FloatProgressModel",
          "model_module_version": "1.5.0",
          "state": {
            "_dom_classes": [],
            "_model_module": "@jupyter-widgets/controls",
            "_model_module_version": "1.5.0",
            "_model_name": "FloatProgressModel",
            "_view_count": null,
            "_view_module": "@jupyter-widgets/controls",
            "_view_module_version": "1.5.0",
            "_view_name": "ProgressView",
            "bar_style": "success",
            "description": "",
            "description_tooltip": null,
            "layout": "IPY_MODEL_9332a97021ee4d9b9cf0465a0e4e3a62",
            "max": 694,
            "min": 0,
            "orientation": "horizontal",
            "style": "IPY_MODEL_af86ffa28cac4488a9ed78d107fe94f4",
            "value": 694
          }
        },
        "628f3bc683884463a8888449ad7d237f": {
          "model_module": "@jupyter-widgets/controls",
          "model_name": "HTMLModel",
          "model_module_version": "1.5.0",
          "state": {
            "_dom_classes": [],
            "_model_module": "@jupyter-widgets/controls",
            "_model_module_version": "1.5.0",
            "_model_name": "HTMLModel",
            "_view_count": null,
            "_view_module": "@jupyter-widgets/controls",
            "_view_module_version": "1.5.0",
            "_view_name": "HTMLView",
            "description": "",
            "description_tooltip": null,
            "layout": "IPY_MODEL_903d341ff37e491c8397501a4cf6f4b7",
            "placeholder": "​",
            "style": "IPY_MODEL_352328d7b23143ae935b6c7d203f7d5f",
            "value": " 694/694 [00:00&lt;00:00, 31.3kB/s]"
          }
        },
        "d7a4df6d91d84c4393b02da95efc6620": {
          "model_module": "@jupyter-widgets/base",
          "model_name": "LayoutModel",
          "model_module_version": "1.2.0",
          "state": {
            "_model_module": "@jupyter-widgets/base",
            "_model_module_version": "1.2.0",
            "_model_name": "LayoutModel",
            "_view_count": null,
            "_view_module": "@jupyter-widgets/base",
            "_view_module_version": "1.2.0",
            "_view_name": "LayoutView",
            "align_content": null,
            "align_items": null,
            "align_self": null,
            "border": null,
            "bottom": null,
            "display": null,
            "flex": null,
            "flex_flow": null,
            "grid_area": null,
            "grid_auto_columns": null,
            "grid_auto_flow": null,
            "grid_auto_rows": null,
            "grid_column": null,
            "grid_gap": null,
            "grid_row": null,
            "grid_template_areas": null,
            "grid_template_columns": null,
            "grid_template_rows": null,
            "height": null,
            "justify_content": null,
            "justify_items": null,
            "left": null,
            "margin": null,
            "max_height": null,
            "max_width": null,
            "min_height": null,
            "min_width": null,
            "object_fit": null,
            "object_position": null,
            "order": null,
            "overflow": null,
            "overflow_x": null,
            "overflow_y": null,
            "padding": null,
            "right": null,
            "top": null,
            "visibility": null,
            "width": null
          }
        },
        "cc0d611553ea45dfb4fa6e62169dd5d4": {
          "model_module": "@jupyter-widgets/base",
          "model_name": "LayoutModel",
          "model_module_version": "1.2.0",
          "state": {
            "_model_module": "@jupyter-widgets/base",
            "_model_module_version": "1.2.0",
            "_model_name": "LayoutModel",
            "_view_count": null,
            "_view_module": "@jupyter-widgets/base",
            "_view_module_version": "1.2.0",
            "_view_name": "LayoutView",
            "align_content": null,
            "align_items": null,
            "align_self": null,
            "border": null,
            "bottom": null,
            "display": null,
            "flex": null,
            "flex_flow": null,
            "grid_area": null,
            "grid_auto_columns": null,
            "grid_auto_flow": null,
            "grid_auto_rows": null,
            "grid_column": null,
            "grid_gap": null,
            "grid_row": null,
            "grid_template_areas": null,
            "grid_template_columns": null,
            "grid_template_rows": null,
            "height": null,
            "justify_content": null,
            "justify_items": null,
            "left": null,
            "margin": null,
            "max_height": null,
            "max_width": null,
            "min_height": null,
            "min_width": null,
            "object_fit": null,
            "object_position": null,
            "order": null,
            "overflow": null,
            "overflow_x": null,
            "overflow_y": null,
            "padding": null,
            "right": null,
            "top": null,
            "visibility": null,
            "width": null
          }
        },
        "d47149be3eec42b0876ae5e89c900e2c": {
          "model_module": "@jupyter-widgets/controls",
          "model_name": "DescriptionStyleModel",
          "model_module_version": "1.5.0",
          "state": {
            "_model_module": "@jupyter-widgets/controls",
            "_model_module_version": "1.5.0",
            "_model_name": "DescriptionStyleModel",
            "_view_count": null,
            "_view_module": "@jupyter-widgets/base",
            "_view_module_version": "1.2.0",
            "_view_name": "StyleView",
            "description_width": ""
          }
        },
        "9332a97021ee4d9b9cf0465a0e4e3a62": {
          "model_module": "@jupyter-widgets/base",
          "model_name": "LayoutModel",
          "model_module_version": "1.2.0",
          "state": {
            "_model_module": "@jupyter-widgets/base",
            "_model_module_version": "1.2.0",
            "_model_name": "LayoutModel",
            "_view_count": null,
            "_view_module": "@jupyter-widgets/base",
            "_view_module_version": "1.2.0",
            "_view_name": "LayoutView",
            "align_content": null,
            "align_items": null,
            "align_self": null,
            "border": null,
            "bottom": null,
            "display": null,
            "flex": null,
            "flex_flow": null,
            "grid_area": null,
            "grid_auto_columns": null,
            "grid_auto_flow": null,
            "grid_auto_rows": null,
            "grid_column": null,
            "grid_gap": null,
            "grid_row": null,
            "grid_template_areas": null,
            "grid_template_columns": null,
            "grid_template_rows": null,
            "height": null,
            "justify_content": null,
            "justify_items": null,
            "left": null,
            "margin": null,
            "max_height": null,
            "max_width": null,
            "min_height": null,
            "min_width": null,
            "object_fit": null,
            "object_position": null,
            "order": null,
            "overflow": null,
            "overflow_x": null,
            "overflow_y": null,
            "padding": null,
            "right": null,
            "top": null,
            "visibility": null,
            "width": null
          }
        },
        "af86ffa28cac4488a9ed78d107fe94f4": {
          "model_module": "@jupyter-widgets/controls",
          "model_name": "ProgressStyleModel",
          "model_module_version": "1.5.0",
          "state": {
            "_model_module": "@jupyter-widgets/controls",
            "_model_module_version": "1.5.0",
            "_model_name": "ProgressStyleModel",
            "_view_count": null,
            "_view_module": "@jupyter-widgets/base",
            "_view_module_version": "1.2.0",
            "_view_name": "StyleView",
            "bar_color": null,
            "description_width": ""
          }
        },
        "903d341ff37e491c8397501a4cf6f4b7": {
          "model_module": "@jupyter-widgets/base",
          "model_name": "LayoutModel",
          "model_module_version": "1.2.0",
          "state": {
            "_model_module": "@jupyter-widgets/base",
            "_model_module_version": "1.2.0",
            "_model_name": "LayoutModel",
            "_view_count": null,
            "_view_module": "@jupyter-widgets/base",
            "_view_module_version": "1.2.0",
            "_view_name": "LayoutView",
            "align_content": null,
            "align_items": null,
            "align_self": null,
            "border": null,
            "bottom": null,
            "display": null,
            "flex": null,
            "flex_flow": null,
            "grid_area": null,
            "grid_auto_columns": null,
            "grid_auto_flow": null,
            "grid_auto_rows": null,
            "grid_column": null,
            "grid_gap": null,
            "grid_row": null,
            "grid_template_areas": null,
            "grid_template_columns": null,
            "grid_template_rows": null,
            "height": null,
            "justify_content": null,
            "justify_items": null,
            "left": null,
            "margin": null,
            "max_height": null,
            "max_width": null,
            "min_height": null,
            "min_width": null,
            "object_fit": null,
            "object_position": null,
            "order": null,
            "overflow": null,
            "overflow_x": null,
            "overflow_y": null,
            "padding": null,
            "right": null,
            "top": null,
            "visibility": null,
            "width": null
          }
        },
        "352328d7b23143ae935b6c7d203f7d5f": {
          "model_module": "@jupyter-widgets/controls",
          "model_name": "DescriptionStyleModel",
          "model_module_version": "1.5.0",
          "state": {
            "_model_module": "@jupyter-widgets/controls",
            "_model_module_version": "1.5.0",
            "_model_name": "DescriptionStyleModel",
            "_view_count": null,
            "_view_module": "@jupyter-widgets/base",
            "_view_module_version": "1.2.0",
            "_view_name": "StyleView",
            "description_width": ""
          }
        }
      }
    }
  },
  "nbformat": 4,
  "nbformat_minor": 0
}